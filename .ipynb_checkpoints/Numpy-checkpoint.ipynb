{
 "cells": [
  {
   "cell_type": "markdown",
   "id": "c7a3f941-f94f-474c-937e-77ea4aa782df",
   "metadata": {},
   "source": [
    "What is Numpy?"
   ]
  },
  {
   "cell_type": "markdown",
   "id": "bef5fede-41c4-42d7-b4e1-fbfd798a3d45",
   "metadata": {},
   "source": [
    "NumPy is the fundamental package for scientific computing in Python."
   ]
  },
  {
   "cell_type": "markdown",
   "id": "4129055d-46c9-496b-a7b6-0be08cc5630b",
   "metadata": {},
   "source": [
    "It is a Python library that provides a multidimensional array object, various\n",
    "derived objects (such as masked arrays and matrices), and an assortment of\n",
    "routines for fast operations on arrays, including mathematical, logical, shape\n",
    "manipulation, sorting, selecting, I/O, discrete Fourier transforms, basic linear\n",
    "algebra, basic statistical operations, random simulation and much more.\n",
    "At the core of the NumPy package, is the ndarray object. This encapsulates ndimensional arrays of homogeneous data types\n"
   ]
  },
  {
   "cell_type": "markdown",
   "id": "f9c17351-fc87-477a-b0e8-5e6126861361",
   "metadata": {},
   "source": [
    "Creating Numpy Array"
   ]
  },
  {
   "cell_type": "code",
   "execution_count": 1,
   "id": "868947b8-95f9-4e38-84d0-b333a18dfe63",
   "metadata": {},
   "outputs": [],
   "source": [
    "import numpy as np"
   ]
  },
  {
   "cell_type": "code",
   "execution_count": 2,
   "id": "fd3eb86a-b080-4cf4-8ce6-d5f512f35007",
   "metadata": {},
   "outputs": [
    {
     "data": {
      "text/plain": [
       "array([  2,   4,  56, 422,  32,   1])"
      ]
     },
     "execution_count": 2,
     "metadata": {},
     "output_type": "execute_result"
    }
   ],
   "source": [
    "np.array([2,4,56,422,32,1])"
   ]
  },
  {
   "cell_type": "code",
   "execution_count": 3,
   "id": "89d4f167-8abc-45e0-8ec9-598319534cd8",
   "metadata": {},
   "outputs": [
    {
     "name": "stdout",
     "output_type": "stream",
     "text": [
      "[  2   4  56 422  32   1]\n"
     ]
    }
   ],
   "source": [
    "a = np.array([2,4,56,422,32,1])\n",
    "print(a)"
   ]
  },
  {
   "cell_type": "code",
   "execution_count": 4,
   "id": "7eb3d7e5-0fbf-46bb-83cc-12ba42dfce35",
   "metadata": {},
   "outputs": [
    {
     "data": {
      "text/plain": [
       "numpy.ndarray"
      ]
     },
     "execution_count": 4,
     "metadata": {},
     "output_type": "execute_result"
    }
   ],
   "source": [
    "type(a)"
   ]
  },
  {
   "cell_type": "code",
   "execution_count": 5,
   "id": "82f07a82-047e-4152-a37e-5cf9871a3738",
   "metadata": {},
   "outputs": [
    {
     "name": "stdout",
     "output_type": "stream",
     "text": [
      "[[45 34 22  2]\n",
      " [24 55  3 22]]\n"
     ]
    }
   ],
   "source": [
    "# 2D array\n",
    "new = np.array([[45,34,22,2],[24,55,3,22]])\n",
    "print(new)"
   ]
  },
  {
   "cell_type": "code",
   "execution_count": 6,
   "id": "0f51ccfc-983a-47a3-a233-a76f4941fd43",
   "metadata": {},
   "outputs": [
    {
     "data": {
      "text/plain": [
       "array([[  2,   3,  33,   4,  45],\n",
       "       [ 23,  45,  56,  66,   2],\n",
       "       [357, 523,  32, 342,   2],\n",
       "       [ 32,  34,  44,  33, 234]])"
      ]
     },
     "execution_count": 6,
     "metadata": {},
     "output_type": "execute_result"
    }
   ],
   "source": [
    "# 3D array\n",
    "np.array([[2,3,33,4,45],[23,45,56,66,2],[357,523,32,342,2],[32,34,44,33,234]])"
   ]
  },
  {
   "cell_type": "markdown",
   "id": "58409018-e598-4e00-a692-49184a47f09f",
   "metadata": {},
   "source": [
    "dtype"
   ]
  },
  {
   "cell_type": "markdown",
   "id": "645321b9-c379-4583-93c8-2b75f3a91544",
   "metadata": {},
   "source": [
    "The desired data-type for the array. If not given, then the type willbe determined as the\n",
    "minimum type required to hold the objects in thesequence."
   ]
  },
  {
   "cell_type": "code",
   "execution_count": 7,
   "id": "a613f95d-c819-4bca-96b0-ae3237a7b3d8",
   "metadata": {},
   "outputs": [
    {
     "data": {
      "text/plain": [
       "array([11., 23., 44.])"
      ]
     },
     "execution_count": 7,
     "metadata": {},
     "output_type": "execute_result"
    }
   ],
   "source": [
    "np.array([11,23,44], dtype=float)"
   ]
  },
  {
   "cell_type": "code",
   "execution_count": 8,
   "id": "ba5ee24c-c2c7-4116-9377-00488a38ae54",
   "metadata": {},
   "outputs": [
    {
     "data": {
      "text/plain": [
       "array([ True,  True,  True])"
      ]
     },
     "execution_count": 8,
     "metadata": {},
     "output_type": "execute_result"
    }
   ],
   "source": [
    "np.array([11, 23,12], dtype = bool)"
   ]
  },
  {
   "cell_type": "code",
   "execution_count": 9,
   "id": "631cc146-1168-431c-855d-14deb9bd5660",
   "metadata": {},
   "outputs": [
    {
     "data": {
      "text/plain": [
       "array([11.+0.j, 23.+0.j, 44.+0.j])"
      ]
     },
     "execution_count": 9,
     "metadata": {},
     "output_type": "execute_result"
    }
   ],
   "source": [
    "np.array([11,23,44], dtype=complex)"
   ]
  },
  {
   "cell_type": "markdown",
   "id": "427f0c9c-b0bf-46c8-8be2-7ee1a9943fef",
   "metadata": {},
   "source": [
    "Numpy Array Vs Python Sequences"
   ]
  },
  {
   "cell_type": "markdown",
   "id": "c700c84c-22cc-40c6-bce3-f9927f078db1",
   "metadata": {},
   "source": [
    "NumPy arrays have a fixed size at creation, unlike Python lists (which can grow dynamically).\n",
    "Changing the size of an ndarray will create a new array and delete the original.\n",
    "The elements in a NumPy array are all required to be of the same data type, and thus will be\n",
    "the same size in memory.\n",
    "NumPy arrays facilitate advanced mathematical and other types of operations on large\n",
    "numbers of data. Typically, such operations are executed more efficiently and with less code\n",
    "than is possible using Python’s built-in sequences.\n",
    "A growing plethora of scientific and mathematical Python-based packages are using NumPy\n",
    "arrays; though these typically support Python-sequence input, they convert such input to\n",
    "NumPy arrays prior to processing, and they often output NumPy arrays."
   ]
  },
  {
   "cell_type": "markdown",
   "id": "0e762320-6754-42ce-97ae-26483d705f60",
   "metadata": {},
   "source": [
    "arrange"
   ]
  },
  {
   "cell_type": "markdown",
   "id": "3855fd22-a204-434b-b698-d456558b6a82",
   "metadata": {},
   "source": [
    "arange can be called with a varying number of positional arguments"
   ]
  },
  {
   "cell_type": "code",
   "execution_count": 10,
   "id": "005a8bff-08da-404d-bac1-ce8cb156ed0c",
   "metadata": {},
   "outputs": [
    {
     "data": {
      "text/plain": [
       "array([ 1,  2,  3,  4,  5,  6,  7,  8,  9, 10, 11, 12, 13, 14, 15, 16, 17,\n",
       "       18, 19, 20, 21, 22, 23, 24])"
      ]
     },
     "execution_count": 10,
     "metadata": {},
     "output_type": "execute_result"
    }
   ],
   "source": [
    "np.arange(1,25)"
   ]
  },
  {
   "cell_type": "code",
   "execution_count": 11,
   "id": "b26b8787-ff57-4912-b250-770014ae8d21",
   "metadata": {},
   "outputs": [
    {
     "data": {
      "text/plain": [
       "array([ 1,  3,  5,  7,  9, 11, 13, 15, 17, 19, 21, 23])"
      ]
     },
     "execution_count": 11,
     "metadata": {},
     "output_type": "execute_result"
    }
   ],
   "source": [
    "np.arange(1,25,2)"
   ]
  },
  {
   "cell_type": "markdown",
   "id": "14eb136e-2d6a-4855-9063-7bdc167b672d",
   "metadata": {},
   "source": [
    "reshape"
   ]
  },
  {
   "cell_type": "markdown",
   "id": "b79ba4a1-68da-4d1b-8275-f04f19dac6ce",
   "metadata": {},
   "source": [
    "Both of number products should be equal to umber of Items present inside the array"
   ]
  },
  {
   "cell_type": "code",
   "execution_count": 12,
   "id": "720ed019-7270-402e-a727-0c99df0699da",
   "metadata": {},
   "outputs": [
    {
     "data": {
      "text/plain": [
       "array([[ 1,  2],\n",
       "       [ 3,  4],\n",
       "       [ 5,  6],\n",
       "       [ 7,  8],\n",
       "       [ 9, 10]])"
      ]
     },
     "execution_count": 12,
     "metadata": {},
     "output_type": "execute_result"
    }
   ],
   "source": [
    "np.arange(1,11).reshape(5,2)"
   ]
  },
  {
   "cell_type": "code",
   "execution_count": 13,
   "id": "57a7d4ed-6c8e-4362-a3f5-d10f751e4f43",
   "metadata": {},
   "outputs": [
    {
     "data": {
      "text/plain": [
       "array([[ 1,  2,  3,  4,  5],\n",
       "       [ 6,  7,  8,  9, 10]])"
      ]
     },
     "execution_count": 13,
     "metadata": {},
     "output_type": "execute_result"
    }
   ],
   "source": [
    "np.arange(1,11).reshape(2,5)"
   ]
  },
  {
   "cell_type": "code",
   "execution_count": 14,
   "id": "945690f6-26b2-481a-a186-46120e934070",
   "metadata": {},
   "outputs": [
    {
     "data": {
      "text/plain": [
       "array([[ 1,  2,  3,  4],\n",
       "       [ 5,  6,  7,  8],\n",
       "       [ 9, 10, 11, 12]])"
      ]
     },
     "execution_count": 14,
     "metadata": {},
     "output_type": "execute_result"
    }
   ],
   "source": [
    "np.arange(1,13).reshape(3,4)"
   ]
  },
  {
   "cell_type": "markdown",
   "id": "a81f06e9-899a-41e7-8599-094953901c28",
   "metadata": {},
   "source": [
    "Ones & Zeros"
   ]
  },
  {
   "cell_type": "markdown",
   "id": "7128966b-b549-4daf-a79f-17b600eca2e1",
   "metadata": {},
   "source": [
    "you can initialize the values and create values . ex: in deep learning weight shape\n"
   ]
  },
  {
   "cell_type": "code",
   "execution_count": 15,
   "id": "12ae6d96-c358-4296-bb36-1c3c1903ceb5",
   "metadata": {},
   "outputs": [
    {
     "data": {
      "text/plain": [
       "array([[1., 1., 1., 1.],\n",
       "       [1., 1., 1., 1.],\n",
       "       [1., 1., 1., 1.]])"
      ]
     },
     "execution_count": 15,
     "metadata": {},
     "output_type": "execute_result"
    }
   ],
   "source": [
    "np.ones((3,4))"
   ]
  },
  {
   "cell_type": "code",
   "execution_count": 16,
   "id": "518ce14d-9a05-468e-ac97-1044750d1c4e",
   "metadata": {},
   "outputs": [
    {
     "data": {
      "text/plain": [
       "array([[0., 0., 0., 0.],\n",
       "       [0., 0., 0., 0.],\n",
       "       [0., 0., 0., 0.]])"
      ]
     },
     "execution_count": 16,
     "metadata": {},
     "output_type": "execute_result"
    }
   ],
   "source": [
    "np.zeros((3,4))"
   ]
  },
  {
   "cell_type": "code",
   "execution_count": 17,
   "id": "7ebb0442-4112-4de9-bd50-9323b9ca6115",
   "metadata": {},
   "outputs": [
    {
     "data": {
      "text/plain": [
       "array([[0.82983698, 0.66843769, 0.43530425],\n",
       "       [0.92888859, 0.06005504, 0.70783415],\n",
       "       [0.50299867, 0.10165309, 0.52138119],\n",
       "       [0.34443886, 0.58518459, 0.651953  ]])"
      ]
     },
     "execution_count": 17,
     "metadata": {},
     "output_type": "execute_result"
    }
   ],
   "source": [
    "# Another type -- > random()\n",
    "np.random.random((4,3))"
   ]
  },
  {
   "cell_type": "markdown",
   "id": "2672dc22-998b-4c22-9b76-d630062219af",
   "metadata": {},
   "source": [
    "linspace"
   ]
  },
  {
   "cell_type": "markdown",
   "id": "9dca4d7d-126e-4881-8718-8982c9cbdb3b",
   "metadata": {},
   "source": [
    "It is also called as Linearly space , Linearly separable,in a given range at equal distance it\n",
    "creates points."
   ]
  },
  {
   "cell_type": "code",
   "execution_count": 18,
   "id": "31a9d428-4540-4b99-aa6f-0066d126dd8e",
   "metadata": {},
   "outputs": [
    {
     "data": {
      "text/plain": [
       "array([-10.        ,  -7.77777778,  -5.55555556,  -3.33333333,\n",
       "        -1.11111111,   1.11111111,   3.33333333,   5.55555556,\n",
       "         7.77777778,  10.        ])"
      ]
     },
     "execution_count": 18,
     "metadata": {},
     "output_type": "execute_result"
    }
   ],
   "source": [
    "np.linspace(-10,10,10)"
   ]
  },
  {
   "cell_type": "code",
   "execution_count": 19,
   "id": "62d9afe4-1072-4c48-b551-5ac21e797f51",
   "metadata": {},
   "outputs": [
    {
     "data": {
      "text/plain": [
       "array([-2. ,  0.8,  3.6,  6.4,  9.2, 12. ])"
      ]
     },
     "execution_count": 19,
     "metadata": {},
     "output_type": "execute_result"
    }
   ],
   "source": [
    "np.linspace(-2,12,6)"
   ]
  },
  {
   "cell_type": "markdown",
   "id": "40c228ef-786f-4d42-8b1c-f4b60d5b563f",
   "metadata": {},
   "source": [
    "identity"
   ]
  },
  {
   "cell_type": "markdown",
   "id": "4b683804-2c1e-4c53-adec-75e818398c9e",
   "metadata": {},
   "source": [
    "indentity matrix is that diagonal items will be ones and evrything will be zeros\n",
    "\n"
   ]
  },
  {
   "cell_type": "code",
   "execution_count": 20,
   "id": "c26b70eb-829f-40e2-90fd-46e83855e25e",
   "metadata": {},
   "outputs": [
    {
     "data": {
      "text/plain": [
       "array([[1., 0., 0.],\n",
       "       [0., 1., 0.],\n",
       "       [0., 0., 1.]])"
      ]
     },
     "execution_count": 20,
     "metadata": {},
     "output_type": "execute_result"
    }
   ],
   "source": [
    "# Creating the identity matrix\n",
    "np.identity(3)"
   ]
  },
  {
   "cell_type": "code",
   "execution_count": 21,
   "id": "6672ac9d-6186-4f1d-8a11-8446c61a91f2",
   "metadata": {},
   "outputs": [
    {
     "data": {
      "text/plain": [
       "array([[1., 0., 0., 0., 0., 0.],\n",
       "       [0., 1., 0., 0., 0., 0.],\n",
       "       [0., 0., 1., 0., 0., 0.],\n",
       "       [0., 0., 0., 1., 0., 0.],\n",
       "       [0., 0., 0., 0., 1., 0.],\n",
       "       [0., 0., 0., 0., 0., 1.]])"
      ]
     },
     "execution_count": 21,
     "metadata": {},
     "output_type": "execute_result"
    }
   ],
   "source": [
    "np.identity(6)"
   ]
  },
  {
   "cell_type": "markdown",
   "id": "4ccbc46b-6318-4914-80dc-3fa6df574173",
   "metadata": {},
   "source": [
    "Array Attributes"
   ]
  },
  {
   "cell_type": "code",
   "execution_count": 22,
   "id": "2a229aeb-7f3d-4b35-9449-83e308bef2ec",
   "metadata": {},
   "outputs": [
    {
     "data": {
      "text/plain": [
       "array([0, 1, 2, 3, 4, 5, 6, 7, 8, 9])"
      ]
     },
     "execution_count": 22,
     "metadata": {},
     "output_type": "execute_result"
    }
   ],
   "source": [
    "a1 = np.arange(10)\n",
    "a1"
   ]
  },
  {
   "cell_type": "code",
   "execution_count": 23,
   "id": "017b9765-844a-408d-9d24-a06f30396d06",
   "metadata": {},
   "outputs": [
    {
     "data": {
      "text/plain": [
       "array([[ 0.,  1.,  2.,  3.],\n",
       "       [ 4.,  5.,  6.,  7.],\n",
       "       [ 8.,  9., 10., 11.]])"
      ]
     },
     "execution_count": 23,
     "metadata": {},
     "output_type": "execute_result"
    }
   ],
   "source": [
    "a2 = np.arange(12, dtype = float).reshape(3,4)\n",
    "a2"
   ]
  },
  {
   "cell_type": "code",
   "execution_count": 24,
   "id": "b496bfb0-2d19-43d4-983e-e9592af9bd9a",
   "metadata": {},
   "outputs": [
    {
     "data": {
      "text/plain": [
       "array([[[0, 1],\n",
       "        [2, 3]],\n",
       "\n",
       "       [[4, 5],\n",
       "        [6, 7]]])"
      ]
     },
     "execution_count": 24,
     "metadata": {},
     "output_type": "execute_result"
    }
   ],
   "source": [
    "a3 = np.arange(8).reshape(2,2,2)\n",
    "a3"
   ]
  },
  {
   "cell_type": "markdown",
   "id": "8df61156-1629-4626-a5b9-74719a08de1a",
   "metadata": {},
   "source": [
    "ndim"
   ]
  },
  {
   "cell_type": "markdown",
   "id": "b3dbf29e-7924-4da2-9a2e-56ba7f8f0814",
   "metadata": {},
   "source": [
    "To findout given arrays number of dimensions"
   ]
  },
  {
   "cell_type": "code",
   "execution_count": 25,
   "id": "34d4b9d0-d44b-495d-b022-cc768252a499",
   "metadata": {},
   "outputs": [
    {
     "data": {
      "text/plain": [
       "1"
      ]
     },
     "execution_count": 25,
     "metadata": {},
     "output_type": "execute_result"
    }
   ],
   "source": [
    "a1.ndim"
   ]
  },
  {
   "cell_type": "code",
   "execution_count": 26,
   "id": "a2d6b628-5e55-40db-ae36-f32abc6601b8",
   "metadata": {},
   "outputs": [
    {
     "data": {
      "text/plain": [
       "2"
      ]
     },
     "execution_count": 26,
     "metadata": {},
     "output_type": "execute_result"
    }
   ],
   "source": [
    "a2.ndim"
   ]
  },
  {
   "cell_type": "code",
   "execution_count": 27,
   "id": "4faf51c9-204f-4579-a047-1dda7568c2a3",
   "metadata": {},
   "outputs": [
    {
     "data": {
      "text/plain": [
       "3"
      ]
     },
     "execution_count": 27,
     "metadata": {},
     "output_type": "execute_result"
    }
   ],
   "source": [
    "a3.ndim"
   ]
  },
  {
   "cell_type": "markdown",
   "id": "a5fca631-1817-4549-942a-57e2f12e257f",
   "metadata": {},
   "source": [
    "shape"
   ]
  },
  {
   "cell_type": "markdown",
   "id": "16d1c12c-2476-4c4d-8e22-b4e2f0b8755d",
   "metadata": {},
   "source": [
    "gives each item consist of no.of rows and np.of column"
   ]
  },
  {
   "cell_type": "code",
   "execution_count": 28,
   "id": "7f05e5c1-3f11-406d-8049-7967ff2a280b",
   "metadata": {},
   "outputs": [
    {
     "data": {
      "text/plain": [
       "(10,)"
      ]
     },
     "execution_count": 28,
     "metadata": {},
     "output_type": "execute_result"
    }
   ],
   "source": [
    "a1.shape"
   ]
  },
  {
   "cell_type": "code",
   "execution_count": 29,
   "id": "a20d0889-fd92-4518-bb51-52faf29a510d",
   "metadata": {},
   "outputs": [
    {
     "data": {
      "text/plain": [
       "(3, 4)"
      ]
     },
     "execution_count": 29,
     "metadata": {},
     "output_type": "execute_result"
    }
   ],
   "source": [
    "a2.shape"
   ]
  },
  {
   "cell_type": "code",
   "execution_count": 30,
   "id": "4860d1ee-8e45-47bd-8883-d5a386b84d53",
   "metadata": {},
   "outputs": [
    {
     "data": {
      "text/plain": [
       "(2, 2, 2)"
      ]
     },
     "execution_count": 30,
     "metadata": {},
     "output_type": "execute_result"
    }
   ],
   "source": [
    "a3.shape"
   ]
  },
  {
   "cell_type": "markdown",
   "id": "2cb5afdb-4942-43d5-8eac-57dae9be47a2",
   "metadata": {},
   "source": [
    "size"
   ]
  },
  {
   "cell_type": "markdown",
   "id": "a2379279-1fa9-424a-8c03-fa06a17006e4",
   "metadata": {},
   "source": [
    "gives number of items\n"
   ]
  },
  {
   "cell_type": "code",
   "execution_count": 31,
   "id": "469cd256-737e-4e94-8c42-f321beee66ef",
   "metadata": {},
   "outputs": [
    {
     "data": {
      "text/plain": [
       "8"
      ]
     },
     "execution_count": 31,
     "metadata": {},
     "output_type": "execute_result"
    }
   ],
   "source": [
    "a3.size"
   ]
  },
  {
   "cell_type": "code",
   "execution_count": 32,
   "id": "5606bc4b-9677-4bd0-a5b4-634add226082",
   "metadata": {},
   "outputs": [
    {
     "data": {
      "text/plain": [
       "12"
      ]
     },
     "execution_count": 32,
     "metadata": {},
     "output_type": "execute_result"
    }
   ],
   "source": [
    "a2.size"
   ]
  },
  {
   "cell_type": "markdown",
   "id": "f248f07e-f9f0-4e87-8645-13ab766de313",
   "metadata": {},
   "source": [
    "item size"
   ]
  },
  {
   "cell_type": "markdown",
   "id": "66e7463c-6207-4a13-8b2c-efde0aa99522",
   "metadata": {},
   "source": [
    "Memory occupied by the item\n"
   ]
  },
  {
   "cell_type": "code",
   "execution_count": 33,
   "id": "16c2b39f-13e8-49a5-84da-399a0ae7cea1",
   "metadata": {},
   "outputs": [
    {
     "data": {
      "text/plain": [
       "8"
      ]
     },
     "execution_count": 33,
     "metadata": {},
     "output_type": "execute_result"
    }
   ],
   "source": [
    "a1.itemsize"
   ]
  },
  {
   "cell_type": "code",
   "execution_count": 34,
   "id": "df47ab19-57e6-44a2-a89f-4fd6e68bd68b",
   "metadata": {},
   "outputs": [
    {
     "data": {
      "text/plain": [
       "8"
      ]
     },
     "execution_count": 34,
     "metadata": {},
     "output_type": "execute_result"
    }
   ],
   "source": [
    "a2.itemsize"
   ]
  },
  {
   "cell_type": "code",
   "execution_count": 35,
   "id": "4d05bae6-9846-4483-bded-d2782303e237",
   "metadata": {},
   "outputs": [
    {
     "data": {
      "text/plain": [
       "8"
      ]
     },
     "execution_count": 35,
     "metadata": {},
     "output_type": "execute_result"
    }
   ],
   "source": [
    "a3.itemsize"
   ]
  },
  {
   "cell_type": "markdown",
   "id": "b1480de3-d247-44a7-a582-e2effa7db14b",
   "metadata": {},
   "source": [
    "dtype"
   ]
  },
  {
   "cell_type": "markdown",
   "id": "be6c2008-089b-47e0-b33c-e956a0e1db11",
   "metadata": {},
   "source": [
    "gives data type of the item"
   ]
  },
  {
   "cell_type": "code",
   "execution_count": 36,
   "id": "944185eb-ed8d-4ba5-ac5b-b3114fc36584",
   "metadata": {},
   "outputs": [
    {
     "name": "stdout",
     "output_type": "stream",
     "text": [
      "int64\n",
      "float64\n",
      "int64\n"
     ]
    }
   ],
   "source": [
    "print(a1.dtype)\n",
    "print(a2.dtype)\n",
    "print(a3.dtype)"
   ]
  },
  {
   "cell_type": "markdown",
   "id": "98c630ff-8023-41b6-bda0-54f4f0513a4a",
   "metadata": {},
   "source": [
    "Changing Data Type"
   ]
  },
  {
   "cell_type": "markdown",
   "id": "19e0956f-0ab7-4b68-aea9-2bc979679952",
   "metadata": {},
   "source": [
    "Array operations"
   ]
  },
  {
   "cell_type": "code",
   "execution_count": 37,
   "id": "9b93468e-e623-4acd-b536-d38189615aa2",
   "metadata": {},
   "outputs": [],
   "source": [
    "z1 = np.arange(12).reshape(3,4)\n",
    "z2 = np.arange(12,24).reshape(3,4)"
   ]
  },
  {
   "cell_type": "code",
   "execution_count": 38,
   "id": "023b100c-a5f8-44a3-8628-92b1fcd691cd",
   "metadata": {},
   "outputs": [
    {
     "data": {
      "text/plain": [
       "array([[ 0,  1,  2,  3],\n",
       "       [ 4,  5,  6,  7],\n",
       "       [ 8,  9, 10, 11]])"
      ]
     },
     "execution_count": 38,
     "metadata": {},
     "output_type": "execute_result"
    }
   ],
   "source": [
    "z1"
   ]
  },
  {
   "cell_type": "code",
   "execution_count": 39,
   "id": "98fb52ac-9528-4314-a6c8-345e136073f8",
   "metadata": {},
   "outputs": [
    {
     "data": {
      "text/plain": [
       "array([[12, 13, 14, 15],\n",
       "       [16, 17, 18, 19],\n",
       "       [20, 21, 22, 23]])"
      ]
     },
     "execution_count": 39,
     "metadata": {},
     "output_type": "execute_result"
    }
   ],
   "source": [
    "z2"
   ]
  },
  {
   "cell_type": "markdown",
   "id": "3c5fd26e-42c5-417a-8363-e24bac80d187",
   "metadata": {},
   "source": [
    "scalar operations"
   ]
  },
  {
   "cell_type": "markdown",
   "id": "bee8eb72-eb85-4678-8988-8a95311cd9b1",
   "metadata": {},
   "source": [
    "Scalar operations on Numpy arrays include performing addition or subtraction, or multiplication\n",
    "on each element of a Numpy array."
   ]
  },
  {
   "cell_type": "code",
   "execution_count": 40,
   "id": "3aab09f8-ee6c-4a7a-a74a-5470ff501845",
   "metadata": {},
   "outputs": [
    {
     "data": {
      "text/plain": [
       "array([[ 2,  3,  4,  5],\n",
       "       [ 6,  7,  8,  9],\n",
       "       [10, 11, 12, 13]])"
      ]
     },
     "execution_count": 40,
     "metadata": {},
     "output_type": "execute_result"
    }
   ],
   "source": [
    "z1 + 2"
   ]
  },
  {
   "cell_type": "code",
   "execution_count": 41,
   "id": "8c8be68a-f421-4c5b-8d67-0dd43cfcfbb2",
   "metadata": {},
   "outputs": [
    {
     "data": {
      "text/plain": [
       "array([[-2, -1,  0,  1],\n",
       "       [ 2,  3,  4,  5],\n",
       "       [ 6,  7,  8,  9]])"
      ]
     },
     "execution_count": 41,
     "metadata": {},
     "output_type": "execute_result"
    }
   ],
   "source": [
    "z1 - 2"
   ]
  },
  {
   "cell_type": "code",
   "execution_count": 42,
   "id": "d72c52f8-ca29-4bf1-8191-226f85c95662",
   "metadata": {},
   "outputs": [
    {
     "data": {
      "text/plain": [
       "array([[ 0,  2,  4,  6],\n",
       "       [ 8, 10, 12, 14],\n",
       "       [16, 18, 20, 22]])"
      ]
     },
     "execution_count": 42,
     "metadata": {},
     "output_type": "execute_result"
    }
   ],
   "source": [
    "z1 * 2"
   ]
  },
  {
   "cell_type": "code",
   "execution_count": 43,
   "id": "5ed9bb5b-23e8-4c30-8b93-cbb2126a1a4f",
   "metadata": {},
   "outputs": [
    {
     "data": {
      "text/plain": [
       "array([[  0,   1,   4,   9],\n",
       "       [ 16,  25,  36,  49],\n",
       "       [ 64,  81, 100, 121]])"
      ]
     },
     "execution_count": 43,
     "metadata": {},
     "output_type": "execute_result"
    }
   ],
   "source": [
    "z1 ** 2"
   ]
  },
  {
   "cell_type": "code",
   "execution_count": 44,
   "id": "f1db9c67-443f-4caa-a30b-87983d44d719",
   "metadata": {},
   "outputs": [
    {
     "data": {
      "text/plain": [
       "array([[0, 1, 0, 1],\n",
       "       [0, 1, 0, 1],\n",
       "       [0, 1, 0, 1]])"
      ]
     },
     "execution_count": 44,
     "metadata": {},
     "output_type": "execute_result"
    }
   ],
   "source": [
    "z1 % 2"
   ]
  },
  {
   "cell_type": "markdown",
   "id": "c278e5e2-10f1-43f3-a338-bbeee3005036",
   "metadata": {},
   "source": [
    "relational Operators"
   ]
  },
  {
   "cell_type": "markdown",
   "id": "4cf4c0a9-51a3-482f-9e98-73f6668767bf",
   "metadata": {},
   "source": [
    "The relational operators are also known as comparison operators, their main function is to\n",
    "return either a true or false based on the value of operands.\n"
   ]
  },
  {
   "cell_type": "code",
   "execution_count": 45,
   "id": "072756af-1f6f-43d0-8d19-c52e95deb964",
   "metadata": {},
   "outputs": [
    {
     "data": {
      "text/plain": [
       "array([[ True,  True,  True,  True],\n",
       "       [ True,  True,  True,  True],\n",
       "       [ True,  True,  True,  True]])"
      ]
     },
     "execution_count": 45,
     "metadata": {},
     "output_type": "execute_result"
    }
   ],
   "source": [
    "z2 > 2"
   ]
  },
  {
   "cell_type": "code",
   "execution_count": 46,
   "id": "7e92b3e1-54de-4046-a37b-293a110e9978",
   "metadata": {},
   "outputs": [
    {
     "data": {
      "text/plain": [
       "array([[False, False, False, False],\n",
       "       [False, False, False, False],\n",
       "       [False,  True,  True,  True]])"
      ]
     },
     "execution_count": 46,
     "metadata": {},
     "output_type": "execute_result"
    }
   ],
   "source": [
    "z2 > 20"
   ]
  },
  {
   "cell_type": "markdown",
   "id": "2d541e2b-2c3d-4aa1-921e-41c7933788be",
   "metadata": {},
   "source": [
    "Vector Operation"
   ]
  },
  {
   "cell_type": "markdown",
   "id": "f398b797-d401-4a4c-ab10-8e07d325c97b",
   "metadata": {},
   "source": [
    "We can apply on both numpy array\n"
   ]
  },
  {
   "cell_type": "code",
   "execution_count": 47,
   "id": "7ee5fcd4-f28c-41d3-a986-51d010232ab9",
   "metadata": {},
   "outputs": [
    {
     "data": {
      "text/plain": [
       "array([[12, 14, 16, 18],\n",
       "       [20, 22, 24, 26],\n",
       "       [28, 30, 32, 34]])"
      ]
     },
     "execution_count": 47,
     "metadata": {},
     "output_type": "execute_result"
    }
   ],
   "source": [
    "z1 + z2"
   ]
  },
  {
   "cell_type": "code",
   "execution_count": 48,
   "id": "2e512507-5e01-4cf9-85ce-6735d1abbfe1",
   "metadata": {},
   "outputs": [
    {
     "data": {
      "text/plain": [
       "array([[  0,  13,  28,  45],\n",
       "       [ 64,  85, 108, 133],\n",
       "       [160, 189, 220, 253]])"
      ]
     },
     "execution_count": 48,
     "metadata": {},
     "output_type": "execute_result"
    }
   ],
   "source": [
    "z1 * z2"
   ]
  },
  {
   "cell_type": "code",
   "execution_count": 49,
   "id": "42257e0f-619f-4d3a-8332-85d1cc97509f",
   "metadata": {},
   "outputs": [
    {
     "data": {
      "text/plain": [
       "array([[-12, -12, -12, -12],\n",
       "       [-12, -12, -12, -12],\n",
       "       [-12, -12, -12, -12]])"
      ]
     },
     "execution_count": 49,
     "metadata": {},
     "output_type": "execute_result"
    }
   ],
   "source": [
    "z1 - z2"
   ]
  },
  {
   "cell_type": "code",
   "execution_count": 50,
   "id": "361df597-f804-40d0-a32e-e36d8ffe7a6b",
   "metadata": {},
   "outputs": [
    {
     "data": {
      "text/plain": [
       "array([[0.        , 0.07692308, 0.14285714, 0.2       ],\n",
       "       [0.25      , 0.29411765, 0.33333333, 0.36842105],\n",
       "       [0.4       , 0.42857143, 0.45454545, 0.47826087]])"
      ]
     },
     "execution_count": 50,
     "metadata": {},
     "output_type": "execute_result"
    }
   ],
   "source": [
    "z1 / z2"
   ]
  },
  {
   "cell_type": "markdown",
   "id": "47808797-b92f-4a24-a42d-a3bd827c28a3",
   "metadata": {},
   "source": [
    "Array Functions\n"
   ]
  },
  {
   "cell_type": "code",
   "execution_count": 51,
   "id": "78115d87-79f1-4e44-aed5-c9c452574e02",
   "metadata": {},
   "outputs": [
    {
     "data": {
      "text/plain": [
       "array([[84., 77., 21.],\n",
       "       [29., 42., 79.],\n",
       "       [77., 75., 10.]])"
      ]
     },
     "execution_count": 51,
     "metadata": {},
     "output_type": "execute_result"
    }
   ],
   "source": [
    "k1 = np.random.random((3,3))\n",
    "k1 =np.round(k1 * 100)\n",
    "k1"
   ]
  },
  {
   "cell_type": "code",
   "execution_count": 52,
   "id": "cf95272e-3c04-4021-8af7-c2e638406676",
   "metadata": {},
   "outputs": [
    {
     "data": {
      "text/plain": [
       "np.float64(84.0)"
      ]
     },
     "execution_count": 52,
     "metadata": {},
     "output_type": "execute_result"
    }
   ],
   "source": [
    "np.max(k1)"
   ]
  },
  {
   "cell_type": "code",
   "execution_count": 53,
   "id": "ba3c3348-386e-4ec8-bd73-62f3dcdd5331",
   "metadata": {},
   "outputs": [
    {
     "data": {
      "text/plain": [
       "np.float64(10.0)"
      ]
     },
     "execution_count": 53,
     "metadata": {},
     "output_type": "execute_result"
    }
   ],
   "source": [
    "np.min(k1)"
   ]
  },
  {
   "cell_type": "code",
   "execution_count": 54,
   "id": "0e5133b4-cd0d-4915-b6e6-bd70cc62dc0f",
   "metadata": {},
   "outputs": [
    {
     "data": {
      "text/plain": [
       "np.float64(494.0)"
      ]
     },
     "execution_count": 54,
     "metadata": {},
     "output_type": "execute_result"
    }
   ],
   "source": [
    "np.sum(k1)"
   ]
  },
  {
   "cell_type": "code",
   "execution_count": 55,
   "id": "aff90e8a-95c0-440d-9456-18a59e694d75",
   "metadata": {},
   "outputs": [
    {
     "data": {
      "text/plain": [
       "np.float64(754771814874000.0)"
      ]
     },
     "execution_count": 55,
     "metadata": {},
     "output_type": "execute_result"
    }
   ],
   "source": [
    "np.prod(k1)"
   ]
  },
  {
   "cell_type": "code",
   "execution_count": 56,
   "id": "f959c7b0-fe4f-4f09-aa7d-eeb97e9df7e3",
   "metadata": {},
   "outputs": [
    {
     "data": {
      "text/plain": [
       "array([84., 79., 77.])"
      ]
     },
     "execution_count": 56,
     "metadata": {},
     "output_type": "execute_result"
    }
   ],
   "source": [
    "# if we want maximum of every row\n",
    "np.max(k1, axis = 1)"
   ]
  },
  {
   "cell_type": "code",
   "execution_count": 57,
   "id": "aa43cd20-c946-4678-b52d-0d2810f5870e",
   "metadata": {},
   "outputs": [
    {
     "data": {
      "text/plain": [
       "array([84., 77., 79.])"
      ]
     },
     "execution_count": 57,
     "metadata": {},
     "output_type": "execute_result"
    }
   ],
   "source": [
    "# maximum of every column\n",
    "np.max(k1, axis = 0)"
   ]
  },
  {
   "cell_type": "code",
   "execution_count": 58,
   "id": "07149ae5-2bb3-41d5-8d79-73239e744e7c",
   "metadata": {},
   "outputs": [
    {
     "data": {
      "text/plain": [
       "array([187572., 242550.,  16590.])"
      ]
     },
     "execution_count": 58,
     "metadata": {},
     "output_type": "execute_result"
    }
   ],
   "source": [
    "# Product of every column\n",
    "np.prod(k1, axis = 0)"
   ]
  },
  {
   "cell_type": "markdown",
   "id": "c3b3ae7c-2a3b-49ab-a9ea-0025ef851aef",
   "metadata": {},
   "source": [
    "Statistics related fuctions\n"
   ]
  },
  {
   "cell_type": "code",
   "execution_count": 59,
   "id": "ad5e423d-3f32-409c-9342-56cdbc5ca476",
   "metadata": {},
   "outputs": [
    {
     "data": {
      "text/plain": [
       "np.float64(54.888888888888886)"
      ]
     },
     "execution_count": 59,
     "metadata": {},
     "output_type": "execute_result"
    }
   ],
   "source": [
    "np.mean(k1)"
   ]
  },
  {
   "cell_type": "code",
   "execution_count": 60,
   "id": "a19ab5de-fed0-42b8-a628-4e0f07f67c09",
   "metadata": {},
   "outputs": [
    {
     "data": {
      "text/plain": [
       "array([63.33333333, 64.66666667, 36.66666667])"
      ]
     },
     "execution_count": 60,
     "metadata": {},
     "output_type": "execute_result"
    }
   ],
   "source": [
    "# mean of every column\n",
    "k1.mean(axis = 0)"
   ]
  },
  {
   "cell_type": "code",
   "execution_count": 61,
   "id": "9e435cb7-78ca-40b8-abe0-1e6b632d585f",
   "metadata": {},
   "outputs": [
    {
     "data": {
      "text/plain": [
       "np.float64(75.0)"
      ]
     },
     "execution_count": 61,
     "metadata": {},
     "output_type": "execute_result"
    }
   ],
   "source": [
    "#median\n",
    "np.median(k1)"
   ]
  },
  {
   "cell_type": "code",
   "execution_count": 62,
   "id": "2ad9b66a-20c3-486d-94fc-389c2eb3af0c",
   "metadata": {},
   "outputs": [
    {
     "data": {
      "text/plain": [
       "array([77., 42., 75.])"
      ]
     },
     "execution_count": 62,
     "metadata": {},
     "output_type": "execute_result"
    }
   ],
   "source": [
    "np.median(k1, axis = 1)"
   ]
  },
  {
   "cell_type": "code",
   "execution_count": 63,
   "id": "7314e0ee-40e6-4846-88de-65ffb39183fb",
   "metadata": {},
   "outputs": [
    {
     "data": {
      "text/plain": [
       "np.float64(27.50936989643284)"
      ]
     },
     "execution_count": 63,
     "metadata": {},
     "output_type": "execute_result"
    }
   ],
   "source": [
    "# standard Deviation\n",
    "np.std(k1)"
   ]
  },
  {
   "cell_type": "code",
   "execution_count": 64,
   "id": "e1de2575-1286-4c7d-93cd-7dfca90cacb4",
   "metadata": {},
   "outputs": [
    {
     "data": {
      "text/plain": [
       "array([24.44494949, 16.04853749, 30.26916289])"
      ]
     },
     "execution_count": 64,
     "metadata": {},
     "output_type": "execute_result"
    }
   ],
   "source": [
    "np.std(k1, axis = 0)"
   ]
  },
  {
   "cell_type": "code",
   "execution_count": 65,
   "id": "9613584e-5989-458d-a8ea-a136326653b7",
   "metadata": {},
   "outputs": [
    {
     "data": {
      "text/plain": [
       "np.float64(756.7654320987654)"
      ]
     },
     "execution_count": 65,
     "metadata": {},
     "output_type": "execute_result"
    }
   ],
   "source": [
    "# variance\n",
    "np.var(k1)"
   ]
  },
  {
   "cell_type": "markdown",
   "id": "c4adfcca-136b-4e8f-afbd-eac278da1e17",
   "metadata": {},
   "source": [
    "Trignometry Functions\n"
   ]
  },
  {
   "cell_type": "code",
   "execution_count": 66,
   "id": "bbe145ef-c00c-45e0-baf9-92267d471311",
   "metadata": {},
   "outputs": [
    {
     "data": {
      "text/plain": [
       "array([[ 0.73319032,  0.99952016,  0.83665564],\n",
       "       [-0.66363388, -0.91652155, -0.44411267],\n",
       "       [ 0.99952016, -0.38778164, -0.54402111]])"
      ]
     },
     "execution_count": 66,
     "metadata": {},
     "output_type": "execute_result"
    }
   ],
   "source": [
    "np.sin(k1)"
   ]
  },
  {
   "cell_type": "code",
   "execution_count": 67,
   "id": "fe8cb50b-376d-44cd-9496-742c8f33875c",
   "metadata": {},
   "outputs": [
    {
     "data": {
      "text/plain": [
       "array([[-0.6800235 , -0.03097503, -0.54772926],\n",
       "       [-0.74805753, -0.39998531, -0.89597095],\n",
       "       [-0.03097503,  0.92175127, -0.83907153]])"
      ]
     },
     "execution_count": 67,
     "metadata": {},
     "output_type": "execute_result"
    }
   ],
   "source": [
    "np.cos(k1)"
   ]
  },
  {
   "cell_type": "code",
   "execution_count": 68,
   "id": "52778074-89dc-44da-b52f-4e84cb68800c",
   "metadata": {},
   "outputs": [
    {
     "data": {
      "text/plain": [
       "array([[ -1.07818381, -32.26857578,  -1.52749853],\n",
       "       [  0.88714284,   2.29138799,   0.49567753],\n",
       "       [-32.26857578,  -0.42070095,   0.64836083]])"
      ]
     },
     "execution_count": 68,
     "metadata": {},
     "output_type": "execute_result"
    }
   ],
   "source": [
    "np.tan(k1)"
   ]
  },
  {
   "cell_type": "markdown",
   "id": "7bed45cc-2597-496a-9f49-a4f5c2a8f24b",
   "metadata": {},
   "source": [
    "dot product\n"
   ]
  },
  {
   "cell_type": "markdown",
   "id": "38f9e419-57a9-4bab-94cb-6f3758097821",
   "metadata": {},
   "source": [
    "The numpy module of Python provides a function to perform the dot product of two arrays."
   ]
  },
  {
   "cell_type": "code",
   "execution_count": 69,
   "id": "b1221b2c-26f1-4a6d-b828-76568102cb58",
   "metadata": {},
   "outputs": [],
   "source": [
    "s2 = np.arange(12).reshape(3,4)\n",
    "s3 = np.arange(12,24).reshape(4,3)"
   ]
  },
  {
   "cell_type": "code",
   "execution_count": 70,
   "id": "2dbd99dd-8ccb-4971-b5f1-ec48bb891ac9",
   "metadata": {},
   "outputs": [
    {
     "data": {
      "text/plain": [
       "array([[ 0,  1,  2,  3],\n",
       "       [ 4,  5,  6,  7],\n",
       "       [ 8,  9, 10, 11]])"
      ]
     },
     "execution_count": 70,
     "metadata": {},
     "output_type": "execute_result"
    }
   ],
   "source": [
    "s2"
   ]
  },
  {
   "cell_type": "code",
   "execution_count": 71,
   "id": "42cde9e1-79b2-40e8-8702-ff4fff129d44",
   "metadata": {},
   "outputs": [
    {
     "data": {
      "text/plain": [
       "array([[12, 13, 14],\n",
       "       [15, 16, 17],\n",
       "       [18, 19, 20],\n",
       "       [21, 22, 23]])"
      ]
     },
     "execution_count": 71,
     "metadata": {},
     "output_type": "execute_result"
    }
   ],
   "source": [
    "s3"
   ]
  },
  {
   "cell_type": "code",
   "execution_count": 72,
   "id": "1bf574d3-a73c-4ae2-a16e-5c46a5d21ff7",
   "metadata": {},
   "outputs": [
    {
     "data": {
      "text/plain": [
       "array([[114, 120, 126],\n",
       "       [378, 400, 422],\n",
       "       [642, 680, 718]])"
      ]
     },
     "execution_count": 72,
     "metadata": {},
     "output_type": "execute_result"
    }
   ],
   "source": [
    "np.dot(s2, s3)"
   ]
  },
  {
   "cell_type": "markdown",
   "id": "e9df1b9e-83f2-4716-84a2-2f7e99bd76c6",
   "metadata": {},
   "source": [
    "Log and Exponents"
   ]
  },
  {
   "cell_type": "code",
   "execution_count": 73,
   "id": "8496e283-1fb4-434f-a7d8-77f197238a30",
   "metadata": {},
   "outputs": [
    {
     "data": {
      "text/plain": [
       "array([[1.00000000e+00, 2.71828183e+00, 7.38905610e+00, 2.00855369e+01],\n",
       "       [5.45981500e+01, 1.48413159e+02, 4.03428793e+02, 1.09663316e+03],\n",
       "       [2.98095799e+03, 8.10308393e+03, 2.20264658e+04, 5.98741417e+04]])"
      ]
     },
     "execution_count": 73,
     "metadata": {},
     "output_type": "execute_result"
    }
   ],
   "source": [
    "np.exp(s2)"
   ]
  },
  {
   "cell_type": "code",
   "execution_count": 74,
   "id": "c5a641bb-cc89-4a92-979d-4cada615e5f6",
   "metadata": {},
   "outputs": [
    {
     "data": {
      "text/plain": [
       "array([[1.62754791e+05, 4.42413392e+05, 1.20260428e+06],\n",
       "       [3.26901737e+06, 8.88611052e+06, 2.41549528e+07],\n",
       "       [6.56599691e+07, 1.78482301e+08, 4.85165195e+08],\n",
       "       [1.31881573e+09, 3.58491285e+09, 9.74480345e+09]])"
      ]
     },
     "execution_count": 74,
     "metadata": {},
     "output_type": "execute_result"
    }
   ],
   "source": [
    "np.exp(s3)"
   ]
  },
  {
   "cell_type": "markdown",
   "id": "f98ab445-a41d-4563-b3df-3b1f3161b42f",
   "metadata": {},
   "source": [
    "round / floor /ceil\n"
   ]
  },
  {
   "cell_type": "markdown",
   "id": "b157ddf0-00b7-4a29-911f-cfd5dd603b70",
   "metadata": {},
   "source": [
    "1. round"
   ]
  },
  {
   "cell_type": "markdown",
   "id": "474e95a5-ad96-4aae-8f0d-a8fe9fa74c44",
   "metadata": {},
   "source": [
    "The numpy.round() function rounds the elements of an array to the nearest integer or to the\n",
    "specified number of decimals."
   ]
  },
  {
   "cell_type": "code",
   "execution_count": 75,
   "id": "a3517107-5549-4bbf-97ce-a94ec83a1097",
   "metadata": {},
   "outputs": [
    {
     "name": "stdout",
     "output_type": "stream",
     "text": [
      "[1. 3. 4. 5.]\n"
     ]
    }
   ],
   "source": [
    "# ROund to the nearest integer\n",
    "arr = np.array([1.2, 2.7, 3.5, 4.9])\n",
    "rounded_arr = np.round(arr)\n",
    "print(rounded_arr)"
   ]
  },
  {
   "cell_type": "code",
   "execution_count": 76,
   "id": "2e68dd53-9163-4424-9511-e987eb4c67b0",
   "metadata": {},
   "outputs": [
    {
     "name": "stdout",
     "output_type": "stream",
     "text": [
      "[1.23 2.57 3.89]\n"
     ]
    }
   ],
   "source": [
    "# Round to two decimals\n",
    "arr = np.array([1.234, 2.567, 3.891])\n",
    "rounded_arr = np.round(arr, decimals=2)\n",
    "print(rounded_arr)"
   ]
  },
  {
   "cell_type": "code",
   "execution_count": 77,
   "id": "4662c144-00f2-416c-900c-7322a5098236",
   "metadata": {},
   "outputs": [
    {
     "data": {
      "text/plain": [
       "array([[71., 35., 67.],\n",
       "       [50., 49., 49.]])"
      ]
     },
     "execution_count": 77,
     "metadata": {},
     "output_type": "execute_result"
    }
   ],
   "source": [
    "# randomly\n",
    "np.round(np.random.random((2,3))*100)"
   ]
  },
  {
   "cell_type": "markdown",
   "id": "1ad3a709-2bba-4c90-a631-ba7e61ada789",
   "metadata": {},
   "source": [
    "2. floor"
   ]
  },
  {
   "cell_type": "markdown",
   "id": "0fe82e7b-6c8d-4e73-ad51-1bfb7d2c02cc",
   "metadata": {},
   "source": [
    "The numpy.floor() function returns the largest integer less than or equal to each element of an array."
   ]
  },
  {
   "cell_type": "code",
   "execution_count": 78,
   "id": "8ac651b9-1054-4f8a-a1d8-ff5a927fd166",
   "metadata": {},
   "outputs": [
    {
     "name": "stdout",
     "output_type": "stream",
     "text": [
      "[1. 2. 3. 4.]\n"
     ]
    }
   ],
   "source": [
    "# floor operation\n",
    "arr = np.array([1.2 , 2.7, 3.5, 4.9])\n",
    "floored_arr = np.floor(arr)\n",
    "print(floored_arr)"
   ]
  },
  {
   "cell_type": "code",
   "execution_count": 79,
   "id": "07c9208c-d818-427d-a0c2-a970adb7b27e",
   "metadata": {},
   "outputs": [
    {
     "data": {
      "text/plain": [
       "array([[63., 31., 88.],\n",
       "       [71., 36., 29.]])"
      ]
     },
     "execution_count": 79,
     "metadata": {},
     "output_type": "execute_result"
    }
   ],
   "source": [
    "np.floor(np.random.random((2, 3))*100)"
   ]
  },
  {
   "cell_type": "markdown",
   "id": "544e9c79-109d-4d91-9fc9-67c7a0b5b146",
   "metadata": {},
   "source": [
    "3. Ceil"
   ]
  },
  {
   "cell_type": "markdown",
   "id": "e0d4fcdd-afd0-4218-9578-f0fca9840fde",
   "metadata": {},
   "source": [
    "The numpy.ceil() function returns the smallest integer greater than or equal to each element of\n",
    "an array."
   ]
  },
  {
   "cell_type": "code",
   "execution_count": 80,
   "id": "1392c579-3c72-4c9b-83cc-69829d21a5e2",
   "metadata": {},
   "outputs": [
    {
     "name": "stdout",
     "output_type": "stream",
     "text": [
      "[2. 3. 4. 5.]\n"
     ]
    }
   ],
   "source": [
    "arr = np.array([1.2, 2.7, 3.5, 4.9])\n",
    "ceiled_arr = np.ceil(arr)\n",
    "print(ceiled_arr)"
   ]
  },
  {
   "cell_type": "code",
   "execution_count": 81,
   "id": "0d36266b-ea7e-4144-a070-0bd1b5863933",
   "metadata": {},
   "outputs": [
    {
     "data": {
      "text/plain": [
       "array([[84.,  5., 89.],\n",
       "       [69., 96., 94.]])"
      ]
     },
     "execution_count": 81,
     "metadata": {},
     "output_type": "execute_result"
    }
   ],
   "source": [
    "np.ceil(np.random.random((2, 3))* 100)"
   ]
  },
  {
   "cell_type": "markdown",
   "id": "27097000-67bd-41f7-85aa-c861b1aaf1c8",
   "metadata": {},
   "source": [
    "Indexing and slicing\n"
   ]
  },
  {
   "cell_type": "code",
   "execution_count": 82,
   "id": "a3601109-5ed4-40ac-9c24-03c1cb179382",
   "metadata": {},
   "outputs": [],
   "source": [
    "p1 = np.arange(10)\n",
    "p2 = np.arange(12).reshape(3,4)\n",
    "p3 = np.arange(8).reshape(2,2,2)"
   ]
  },
  {
   "cell_type": "code",
   "execution_count": 83,
   "id": "571a6670-33ab-4083-ac8a-24b94c74401a",
   "metadata": {},
   "outputs": [
    {
     "data": {
      "text/plain": [
       "array([0, 1, 2, 3, 4, 5, 6, 7, 8, 9])"
      ]
     },
     "execution_count": 83,
     "metadata": {},
     "output_type": "execute_result"
    }
   ],
   "source": [
    "p1"
   ]
  },
  {
   "cell_type": "code",
   "execution_count": 84,
   "id": "1435faa4-2c0f-4427-8e1c-9f56cfca5170",
   "metadata": {},
   "outputs": [
    {
     "data": {
      "text/plain": [
       "array([[ 0,  1,  2,  3],\n",
       "       [ 4,  5,  6,  7],\n",
       "       [ 8,  9, 10, 11]])"
      ]
     },
     "execution_count": 84,
     "metadata": {},
     "output_type": "execute_result"
    }
   ],
   "source": [
    "p2"
   ]
  },
  {
   "cell_type": "code",
   "execution_count": 85,
   "id": "94312b97-eafd-4835-b674-4469e967cdf8",
   "metadata": {},
   "outputs": [
    {
     "data": {
      "text/plain": [
       "array([[[0, 1],\n",
       "        [2, 3]],\n",
       "\n",
       "       [[4, 5],\n",
       "        [6, 7]]])"
      ]
     },
     "execution_count": 85,
     "metadata": {},
     "output_type": "execute_result"
    }
   ],
   "source": [
    "p3"
   ]
  },
  {
   "cell_type": "code",
   "execution_count": 86,
   "id": "d70a5850-1503-4d16-93bb-5045d9e5e29e",
   "metadata": {},
   "outputs": [
    {
     "data": {
      "text/plain": [
       "np.int64(9)"
      ]
     },
     "execution_count": 86,
     "metadata": {},
     "output_type": "execute_result"
    }
   ],
   "source": [
    "# fetching last item\n",
    "p1[-1]"
   ]
  },
  {
   "cell_type": "code",
   "execution_count": 87,
   "id": "6e967d16-6065-4bd9-9b5a-2c5f8579ca1d",
   "metadata": {},
   "outputs": [
    {
     "data": {
      "text/plain": [
       "np.int64(0)"
      ]
     },
     "execution_count": 87,
     "metadata": {},
     "output_type": "execute_result"
    }
   ],
   "source": [
    "# fetching first item\n",
    "p1[0]"
   ]
  },
  {
   "cell_type": "markdown",
   "id": "e26d605b-2583-4b81-b9cb-8adfd13e7c86",
   "metadata": {},
   "source": [
    "indexing on 2D array"
   ]
  },
  {
   "cell_type": "code",
   "execution_count": 88,
   "id": "fa7266e0-1751-4cab-8d74-559fa6bd2603",
   "metadata": {},
   "outputs": [
    {
     "data": {
      "text/plain": [
       "np.int64(6)"
      ]
     },
     "execution_count": 88,
     "metadata": {},
     "output_type": "execute_result"
    }
   ],
   "source": [
    "# fetching desired element : 6\n",
    "p2[1,2]"
   ]
  },
  {
   "cell_type": "code",
   "execution_count": 89,
   "id": "2332b0ce-aa84-4f83-a118-3e1a512f7985",
   "metadata": {},
   "outputs": [
    {
     "data": {
      "text/plain": [
       "np.int64(11)"
      ]
     },
     "execution_count": 89,
     "metadata": {},
     "output_type": "execute_result"
    }
   ],
   "source": [
    "# fetching desired element : 11\n",
    "p2[2,3]"
   ]
  },
  {
   "cell_type": "code",
   "execution_count": 90,
   "id": "d5aefa85-2c91-4742-bfde-33626758e39a",
   "metadata": {},
   "outputs": [
    {
     "data": {
      "text/plain": [
       "np.int64(4)"
      ]
     },
     "execution_count": 90,
     "metadata": {},
     "output_type": "execute_result"
    }
   ],
   "source": [
    "# fetching desired element : 4\n",
    "p2[1,0]"
   ]
  },
  {
   "cell_type": "markdown",
   "id": "5ecf405f-ba57-459f-977e-7b79db2c4242",
   "metadata": {},
   "source": [
    "indexing on 3D ( Tensors)\n"
   ]
  },
  {
   "cell_type": "code",
   "execution_count": 91,
   "id": "f7783a4c-7644-49e4-8ece-c3b2df7ac66f",
   "metadata": {},
   "outputs": [
    {
     "data": {
      "text/plain": [
       "np.int64(5)"
      ]
     },
     "execution_count": 91,
     "metadata": {},
     "output_type": "execute_result"
    }
   ],
   "source": [
    "# fetching desired element : 5\n",
    "p3[1,0,1]"
   ]
  },
  {
   "cell_type": "markdown",
   "id": "c718b8fc-7d55-4a1f-95b3-c11cb04d7224",
   "metadata": {},
   "source": [
    "EXPLANATION :Here 3D is consists of 2 ,2D array , so Firstly we take 1 because our desired is\n",
    "5 is in second matrix which is 1 .and 1 row so 0 and second column so 1\n"
   ]
  },
  {
   "cell_type": "code",
   "execution_count": 92,
   "id": "b6ba135c-e89a-4664-98be-862dcc018fa8",
   "metadata": {},
   "outputs": [
    {
     "data": {
      "text/plain": [
       "np.int64(2)"
      ]
     },
     "execution_count": 92,
     "metadata": {},
     "output_type": "execute_result"
    }
   ],
   "source": [
    "# fetching desired element : 2\n",
    "p3[0,1,0]"
   ]
  },
  {
   "cell_type": "markdown",
   "id": "e13a9a79-b83e-437e-affe-f76b3e0b0a2f",
   "metadata": {},
   "source": [
    "EXPLANATION :Here firstly we take 0 because our desired is 2, is in first matrix which is 0 .\n",
    "and 2 row so 1 and first column so 0\n"
   ]
  },
  {
   "cell_type": "code",
   "execution_count": 93,
   "id": "9827f820-b0ca-4549-bb45-62f96429a6ab",
   "metadata": {},
   "outputs": [
    {
     "data": {
      "text/plain": [
       "np.int64(6)"
      ]
     },
     "execution_count": 93,
     "metadata": {},
     "output_type": "execute_result"
    }
   ],
   "source": [
    "# fetching desired element : 0\n",
    "p3[1,1,0]"
   ]
  },
  {
   "cell_type": "markdown",
   "id": "aa5a9e81-7d97-4df8-9197-6d7109f99925",
   "metadata": {},
   "source": [
    "EXPLANATION : Here first we take because our desired is 6, is in second matrix which is 1 .\n",
    "and second row so 1 and first column so 0\n"
   ]
  },
  {
   "cell_type": "markdown",
   "id": "94f23565-842b-443f-8970-0d40c41fa596",
   "metadata": {},
   "source": [
    "Slicing"
   ]
  },
  {
   "cell_type": "markdown",
   "id": "953d4fcc-2264-4d5b-b332-4cfa583563b3",
   "metadata": {},
   "source": [
    "Fetching Multiple items"
   ]
  },
  {
   "cell_type": "markdown",
   "id": "91a386e1-c81f-4e01-b70b-d29383663a62",
   "metadata": {},
   "source": [
    "Slicing on 1D"
   ]
  },
  {
   "cell_type": "code",
   "execution_count": 94,
   "id": "02a2cfae-acf0-44cb-8268-a5fd6c6e293f",
   "metadata": {},
   "outputs": [
    {
     "data": {
      "text/plain": [
       "array([2, 3, 4])"
      ]
     },
     "execution_count": 94,
     "metadata": {},
     "output_type": "execute_result"
    }
   ],
   "source": [
    "# fetching desired element : 2,3,4\n",
    "p1[2:5]"
   ]
  },
  {
   "cell_type": "markdown",
   "id": "26100c75-20d8-4069-a1a8-b5fa5ad8ff61",
   "metadata": {},
   "source": [
    "EXPLANATION :Here First we take , whatever we need first item ,2 and up last(4) + 1 which 5\n",
    ".because last element is not included\n"
   ]
  },
  {
   "cell_type": "code",
   "execution_count": 95,
   "id": "8ace650b-7e30-47f1-9cfd-92674953d3cd",
   "metadata": {},
   "outputs": [
    {
     "data": {
      "text/plain": [
       "array([2, 3, 4])"
      ]
     },
     "execution_count": 95,
     "metadata": {},
     "output_type": "execute_result"
    }
   ],
   "source": [
    "# Alternate (same as python)\n",
    "p1[2:5]"
   ]
  },
  {
   "cell_type": "markdown",
   "id": "a8b605a4-4509-4400-b7cc-3836df510075",
   "metadata": {},
   "source": [
    "Slicing on 2D"
   ]
  },
  {
   "cell_type": "code",
   "execution_count": 96,
   "id": "70526015-a2b0-4a9e-b51e-5f0155728521",
   "metadata": {},
   "outputs": [
    {
     "data": {
      "text/plain": [
       "array([[ 0,  1,  2,  3],\n",
       "       [ 4,  5,  6,  7],\n",
       "       [ 8,  9, 10, 11]])"
      ]
     },
     "execution_count": 96,
     "metadata": {},
     "output_type": "execute_result"
    }
   ],
   "source": [
    "p2"
   ]
  },
  {
   "cell_type": "code",
   "execution_count": 97,
   "id": "2a662492-3805-46f2-9369-6768889b6777",
   "metadata": {},
   "outputs": [
    {
     "data": {
      "text/plain": [
       "array([0, 1, 2, 3])"
      ]
     },
     "execution_count": 97,
     "metadata": {},
     "output_type": "execute_result"
    }
   ],
   "source": [
    "# fetching total first low\n",
    "p2[0, :]"
   ]
  },
  {
   "cell_type": "markdown",
   "id": "55b0c28e-f240-40e0-bd4e-e933f1ea7027",
   "metadata": {},
   "source": [
    "EXPLANATION :Here 0 represents first row and (:) represnts Total column"
   ]
  },
  {
   "cell_type": "code",
   "execution_count": 98,
   "id": "981e924a-492a-40b8-84f5-6e1d69a3051f",
   "metadata": {},
   "outputs": [
    {
     "data": {
      "text/plain": [
       "array([ 2,  6, 10])"
      ]
     },
     "execution_count": 98,
     "metadata": {},
     "output_type": "execute_result"
    }
   ],
   "source": [
    "# fetching total third column\n",
    "p2[:, 2]"
   ]
  },
  {
   "cell_type": "markdown",
   "id": "5cf198b7-6e0f-4c3e-801d-ce67ee4b5ba9",
   "metadata": {},
   "source": [
    "EXPLANATION :Here we want all rows so (:) , and we want 3rd column so 2\n"
   ]
  },
  {
   "cell_type": "code",
   "execution_count": 99,
   "id": "43c34dbb-b013-4db3-90e1-a5a0f9c00f61",
   "metadata": {},
   "outputs": [
    {
     "data": {
      "text/plain": [
       "array([[ 0,  1,  2,  3],\n",
       "       [ 4,  5,  6,  7],\n",
       "       [ 8,  9, 10, 11]])"
      ]
     },
     "execution_count": 99,
     "metadata": {},
     "output_type": "execute_result"
    }
   ],
   "source": [
    "# fetch 5, 6 and 9, 10\n",
    "p2"
   ]
  },
  {
   "cell_type": "code",
   "execution_count": 100,
   "id": "641919db-248e-49be-9f32-d69ca13f352f",
   "metadata": {},
   "outputs": [
    {
     "data": {
      "text/plain": [
       "array([[ 4,  5,  6,  7],\n",
       "       [ 8,  9, 10, 11]])"
      ]
     },
     "execution_count": 100,
     "metadata": {},
     "output_type": "execute_result"
    }
   ],
   "source": [
    "p2[1:3]"
   ]
  },
  {
   "cell_type": "code",
   "execution_count": 101,
   "id": "8c550f20-d5da-4830-a434-84aa80780b6f",
   "metadata": {},
   "outputs": [
    {
     "data": {
      "text/plain": [
       "array([[ 5,  6],\n",
       "       [ 9, 10]])"
      ]
     },
     "execution_count": 101,
     "metadata": {},
     "output_type": "execute_result"
    }
   ],
   "source": [
    "p2[1:3, 1:3]"
   ]
  },
  {
   "cell_type": "markdown",
   "id": "7ce5876d-1565-4251-96e1-7d395c8d39b9",
   "metadata": {},
   "source": [
    "EXPLANATION :Here first [1:3] we slice 2 second row is to third row is not existed which is 2\n",
    "and Secondly , we take [1:3] which is same as first:we slice 2 second row is to third row is not\n",
    "included which is 3\n"
   ]
  },
  {
   "cell_type": "code",
   "execution_count": 102,
   "id": "d34a29f1-47b6-458d-a687-94e191ee8664",
   "metadata": {},
   "outputs": [
    {
     "data": {
      "text/plain": [
       "array([[ 0,  1,  2,  3],\n",
       "       [ 4,  5,  6,  7],\n",
       "       [ 8,  9, 10, 11]])"
      ]
     },
     "execution_count": 102,
     "metadata": {},
     "output_type": "execute_result"
    }
   ],
   "source": [
    "# fetch 0, 3 and 8, 11\n",
    "p2"
   ]
  },
  {
   "cell_type": "code",
   "execution_count": 103,
   "id": "1df7f8e5-6ae2-45c0-8b4a-ca6a69a9e5b9",
   "metadata": {},
   "outputs": [
    {
     "data": {
      "text/plain": [
       "array([[ 0,  3],\n",
       "       [ 8, 11]])"
      ]
     },
     "execution_count": 103,
     "metadata": {},
     "output_type": "execute_result"
    }
   ],
   "source": [
    "p2[::2, ::3]"
   ]
  },
  {
   "cell_type": "markdown",
   "id": "68eb114d-0625-4f0d-ad9e-475302ac5e80",
   "metadata": {},
   "source": [
    "EXPLANATION : Here we take (:) because we want all rows , second(:2) for alternate value,\n",
    "and (:) for all columns and (:3) jump for two steps\n"
   ]
  },
  {
   "cell_type": "code",
   "execution_count": 104,
   "id": "45f553af-cbf1-42f2-93c3-9a6ac30691e4",
   "metadata": {},
   "outputs": [
    {
     "data": {
      "text/plain": [
       "array([[ 0,  1,  2,  3],\n",
       "       [ 4,  5,  6,  7],\n",
       "       [ 8,  9, 10, 11]])"
      ]
     },
     "execution_count": 104,
     "metadata": {},
     "output_type": "execute_result"
    }
   ],
   "source": [
    "# fetch 1, 3 and 9, 11\n",
    "p2"
   ]
  },
  {
   "cell_type": "code",
   "execution_count": 105,
   "id": "42f6e447-9de3-4eaa-a97f-7446995a7e95",
   "metadata": {},
   "outputs": [
    {
     "data": {
      "text/plain": [
       "array([[ 0,  1,  2,  3],\n",
       "       [ 8,  9, 10, 11]])"
      ]
     },
     "execution_count": 105,
     "metadata": {},
     "output_type": "execute_result"
    }
   ],
   "source": [
    "p2[::2]"
   ]
  },
  {
   "cell_type": "code",
   "execution_count": 106,
   "id": "24318998-c548-4b10-a522-c59922ba5a13",
   "metadata": {},
   "outputs": [
    {
     "data": {
      "text/plain": [
       "array([[ 1,  3],\n",
       "       [ 9, 11]])"
      ]
     },
     "execution_count": 106,
     "metadata": {},
     "output_type": "execute_result"
    }
   ],
   "source": [
    "p2[::2, 1::2]"
   ]
  },
  {
   "cell_type": "markdown",
   "id": "b5406fe1-a861-48dd-bc13-4afa19c7f3ce",
   "metadata": {},
   "source": [
    "EXPLANATION : Here we take (:) because we want all rows , second(:2) for alternate value,\n",
    "and (1) for we want from second column and (:2) jump for two steps and ignore middle one\n"
   ]
  },
  {
   "cell_type": "code",
   "execution_count": 107,
   "id": "40e3822f-3c2e-4132-ab7d-5e6c4c6f874a",
   "metadata": {},
   "outputs": [
    {
     "data": {
      "text/plain": [
       "array([[ 0,  1,  2,  3],\n",
       "       [ 4,  5,  6,  7],\n",
       "       [ 8,  9, 10, 11]])"
      ]
     },
     "execution_count": 107,
     "metadata": {},
     "output_type": "execute_result"
    }
   ],
   "source": [
    "# fetch only 4, 7\n",
    "p2"
   ]
  },
  {
   "cell_type": "code",
   "execution_count": 108,
   "id": "e9ea3ccd-206c-4d6a-9aae-d674ebcb8085",
   "metadata": {},
   "outputs": [
    {
     "data": {
      "text/plain": [
       "array([4, 5, 6, 7])"
      ]
     },
     "execution_count": 108,
     "metadata": {},
     "output_type": "execute_result"
    }
   ],
   "source": [
    "p2[1]"
   ]
  },
  {
   "cell_type": "code",
   "execution_count": 109,
   "id": "7afdae21-7838-45b3-8e59-6c4aa286ba20",
   "metadata": {},
   "outputs": [
    {
     "data": {
      "text/plain": [
       "array([4, 7])"
      ]
     },
     "execution_count": 109,
     "metadata": {},
     "output_type": "execute_result"
    }
   ],
   "source": [
    "p2[1, ::3]"
   ]
  },
  {
   "cell_type": "markdown",
   "id": "6527255a-3833-432d-847a-01a3c9de0be9",
   "metadata": {},
   "source": [
    "EXPLANATION : Here we take (1) because we want second row , second(:) for total column,\n",
    "(:3) jump for two steps and ignore middle ones"
   ]
  },
  {
   "cell_type": "code",
   "execution_count": 110,
   "id": "e090d77e-51e3-499e-90f2-1e025d7ba23e",
   "metadata": {},
   "outputs": [
    {
     "data": {
      "text/plain": [
       "array([[ 0,  1,  2,  3],\n",
       "       [ 4,  5,  6,  7],\n",
       "       [ 8,  9, 10, 11]])"
      ]
     },
     "execution_count": 110,
     "metadata": {},
     "output_type": "execute_result"
    }
   ],
   "source": [
    "# fetch 1, 2, 3 and 5, 6, 7\n",
    "p2"
   ]
  },
  {
   "cell_type": "code",
   "execution_count": 111,
   "id": "96646841-f8a4-4b3f-831d-a0db778d4966",
   "metadata": {},
   "outputs": [
    {
     "data": {
      "text/plain": [
       "array([[0, 1, 2, 3],\n",
       "       [4, 5, 6, 7]])"
      ]
     },
     "execution_count": 111,
     "metadata": {},
     "output_type": "execute_result"
    }
   ],
   "source": [
    "p2[0:2]"
   ]
  },
  {
   "cell_type": "code",
   "execution_count": 112,
   "id": "aa39c27b-b56f-452a-bc14-2f50bd555495",
   "metadata": {},
   "outputs": [
    {
     "data": {
      "text/plain": [
       "array([[1, 2, 3],\n",
       "       [5, 6, 7]])"
      ]
     },
     "execution_count": 112,
     "metadata": {},
     "output_type": "execute_result"
    }
   ],
   "source": [
    "p2[0:2, 1:]"
   ]
  },
  {
   "cell_type": "code",
   "execution_count": 113,
   "id": "7461f951-1fc0-4da2-82ec-3eaf91128090",
   "metadata": {},
   "outputs": [
    {
     "data": {
      "text/plain": [
       "array([[ 0,  1,  2,  3],\n",
       "       [ 4,  5,  6,  7],\n",
       "       [ 8,  9, 10, 11]])"
      ]
     },
     "execution_count": 113,
     "metadata": {},
     "output_type": "execute_result"
    }
   ],
   "source": [
    "# fetch 1, 3 and 5,7\n",
    "p2"
   ]
  },
  {
   "cell_type": "code",
   "execution_count": 114,
   "id": "c65941d0-1120-4dba-8d8c-067b76815a98",
   "metadata": {},
   "outputs": [
    {
     "data": {
      "text/plain": [
       "array([[0, 1, 2, 3],\n",
       "       [4, 5, 6, 7]])"
      ]
     },
     "execution_count": 114,
     "metadata": {},
     "output_type": "execute_result"
    }
   ],
   "source": [
    "p2[0:2]"
   ]
  },
  {
   "cell_type": "code",
   "execution_count": 115,
   "id": "8d29c611-a8b5-4a1e-a803-ee707182bcfe",
   "metadata": {},
   "outputs": [
    {
     "data": {
      "text/plain": [
       "array([[1, 3],\n",
       "       [5, 7]])"
      ]
     },
     "execution_count": 115,
     "metadata": {},
     "output_type": "execute_result"
    }
   ],
   "source": [
    "p2[0:2,1::2]"
   ]
  },
  {
   "cell_type": "markdown",
   "id": "017c0d71-34d1-4caf-bb68-b74cb4698396",
   "metadata": {},
   "source": [
    "EXPLANATION : 0:2 selects the rows from index 0 (inclusive) to index 2 (exclusive), which\n",
    "means it will select the first and second rows of the array. , is used to separate row and column\n",
    "selections. 1::2 selects the columns starting from index 1 and selects every second column. So\n",
    "it will select the second and fourth columns of the array."
   ]
  },
  {
   "cell_type": "markdown",
   "id": "9826c11b-7539-4e7c-a994-aec52008a79d",
   "metadata": {},
   "source": [
    "Slicing in 3D\n"
   ]
  },
  {
   "cell_type": "code",
   "execution_count": 116,
   "id": "22f9e6e1-64a1-43e4-8839-6c7390722b22",
   "metadata": {},
   "outputs": [
    {
     "name": "stdout",
     "output_type": "stream",
     "text": [
      "[[[ 0  1  2]\n",
      "  [ 3  4  5]\n",
      "  [ 6  7  8]]\n",
      "\n",
      " [[ 9 10 11]\n",
      "  [12 13 14]\n",
      "  [15 16 17]]\n",
      "\n",
      " [[18 19 20]\n",
      "  [21 22 23]\n",
      "  [24 25 26]]]\n"
     ]
    }
   ],
   "source": [
    "p3 = np.arange(27).reshape(3, 3, 3)\n",
    "print(p3)\n"
   ]
  },
  {
   "cell_type": "code",
   "execution_count": 117,
   "id": "01c17880-e72f-40df-87dc-81c659abf2d7",
   "metadata": {},
   "outputs": [
    {
     "data": {
      "text/plain": [
       "array([[ 9, 10, 11],\n",
       "       [12, 13, 14],\n",
       "       [15, 16, 17]])"
      ]
     },
     "execution_count": 117,
     "metadata": {},
     "output_type": "execute_result"
    }
   ],
   "source": [
    "# fetch second matrix\n",
    "p3[1]"
   ]
  },
  {
   "cell_type": "code",
   "execution_count": 118,
   "id": "1126b1ab-c396-488d-a3ec-2cc361e4a47e",
   "metadata": {},
   "outputs": [
    {
     "data": {
      "text/plain": [
       "array([[[ 0,  1,  2],\n",
       "        [ 3,  4,  5],\n",
       "        [ 6,  7,  8]],\n",
       "\n",
       "       [[18, 19, 20],\n",
       "        [21, 22, 23],\n",
       "        [24, 25, 26]]])"
      ]
     },
     "execution_count": 118,
     "metadata": {},
     "output_type": "execute_result"
    }
   ],
   "source": [
    "# fetch first and last\n",
    "p3[::2]"
   ]
  },
  {
   "cell_type": "markdown",
   "id": "ed689fe8-942c-4134-8a69-866febafc47a",
   "metadata": {},
   "source": [
    "EXPLANATION : Along the first axis, (::2) selects every second element. This means it will\n",
    "select the subarrays at indices 0 and 2\n"
   ]
  },
  {
   "cell_type": "code",
   "execution_count": 119,
   "id": "fccab36c-f30a-496d-8251-46f54c93a0d1",
   "metadata": {},
   "outputs": [
    {
     "data": {
      "text/plain": [
       "array([[[ 0,  1,  2],\n",
       "        [ 3,  4,  5],\n",
       "        [ 6,  7,  8]],\n",
       "\n",
       "       [[ 9, 10, 11],\n",
       "        [12, 13, 14],\n",
       "        [15, 16, 17]],\n",
       "\n",
       "       [[18, 19, 20],\n",
       "        [21, 22, 23],\n",
       "        [24, 25, 26]]])"
      ]
     },
     "execution_count": 119,
     "metadata": {},
     "output_type": "execute_result"
    }
   ],
   "source": [
    "# fetch 1 2D array 2 row --> 3,4,5\n",
    "p3"
   ]
  },
  {
   "cell_type": "code",
   "execution_count": 120,
   "id": "dac98150-7f06-4c95-916e-5234e3f27437",
   "metadata": {},
   "outputs": [
    {
     "data": {
      "text/plain": [
       "array([[0, 1, 2],\n",
       "       [3, 4, 5],\n",
       "       [6, 7, 8]])"
      ]
     },
     "execution_count": 120,
     "metadata": {},
     "output_type": "execute_result"
    }
   ],
   "source": [
    "p3[0]"
   ]
  },
  {
   "cell_type": "code",
   "execution_count": 121,
   "id": "dd9b6131-74e0-4338-96e4-f4ecce80a9b1",
   "metadata": {},
   "outputs": [
    {
     "data": {
      "text/plain": [
       "array([3, 4, 5])"
      ]
     },
     "execution_count": 121,
     "metadata": {},
     "output_type": "execute_result"
    }
   ],
   "source": [
    "p3[0,1,:]"
   ]
  },
  {
   "cell_type": "markdown",
   "id": "265f6694-c924-4dfc-a840-41f4c54044ed",
   "metadata": {},
   "source": [
    "EXPLANATION : 0 represnts first matrix , 1 represents second row , (:) means total\n"
   ]
  },
  {
   "cell_type": "code",
   "execution_count": 122,
   "id": "0b930697-2853-4d4e-bac0-c47660fcf6e3",
   "metadata": {},
   "outputs": [
    {
     "data": {
      "text/plain": [
       "array([[[ 0,  1,  2],\n",
       "        [ 3,  4,  5],\n",
       "        [ 6,  7,  8]],\n",
       "\n",
       "       [[ 9, 10, 11],\n",
       "        [12, 13, 14],\n",
       "        [15, 16, 17]],\n",
       "\n",
       "       [[18, 19, 20],\n",
       "        [21, 22, 23],\n",
       "        [24, 25, 26]]])"
      ]
     },
     "execution_count": 122,
     "metadata": {},
     "output_type": "execute_result"
    }
   ],
   "source": [
    "# Fetch 2 numpy array ,middle column ---> 10,13,16\n",
    "p3"
   ]
  },
  {
   "cell_type": "code",
   "execution_count": 123,
   "id": "f846c79c-6040-4687-98fa-7f4ef9e222b9",
   "metadata": {},
   "outputs": [
    {
     "data": {
      "text/plain": [
       "array([[ 9, 10, 11],\n",
       "       [12, 13, 14],\n",
       "       [15, 16, 17]])"
      ]
     },
     "execution_count": 123,
     "metadata": {},
     "output_type": "execute_result"
    }
   ],
   "source": [
    "p3[1] # middle array"
   ]
  },
  {
   "cell_type": "code",
   "execution_count": 124,
   "id": "44b905ba-ecf4-43e2-baf9-e4b71552bd2d",
   "metadata": {},
   "outputs": [
    {
     "data": {
      "text/plain": [
       "array([10, 13, 16])"
      ]
     },
     "execution_count": 124,
     "metadata": {},
     "output_type": "execute_result"
    }
   ],
   "source": [
    "p3[1,:,1]"
   ]
  },
  {
   "cell_type": "markdown",
   "id": "8c31ef45-af03-4abc-880d-f7162d79346e",
   "metadata": {},
   "source": [
    "EXPLANATION : 1 respresnts middle column , (:) all columns , 1 represnts middle column"
   ]
  },
  {
   "cell_type": "code",
   "execution_count": 125,
   "id": "d53902ab-37c0-48b2-bbc3-0cffc61951f2",
   "metadata": {},
   "outputs": [
    {
     "data": {
      "text/plain": [
       "array([[[ 0,  1,  2],\n",
       "        [ 3,  4,  5],\n",
       "        [ 6,  7,  8]],\n",
       "\n",
       "       [[ 9, 10, 11],\n",
       "        [12, 13, 14],\n",
       "        [15, 16, 17]],\n",
       "\n",
       "       [[18, 19, 20],\n",
       "        [21, 22, 23],\n",
       "        [24, 25, 26]]])"
      ]
     },
     "execution_count": 125,
     "metadata": {},
     "output_type": "execute_result"
    }
   ],
   "source": [
    "# Fetch 3 array--->22,23,25,26\n",
    "p3"
   ]
  },
  {
   "cell_type": "code",
   "execution_count": 126,
   "id": "b86d6686-0a91-4643-bff0-ca94837cbd0c",
   "metadata": {},
   "outputs": [
    {
     "data": {
      "text/plain": [
       "array([[18, 19, 20],\n",
       "       [21, 22, 23],\n",
       "       [24, 25, 26]])"
      ]
     },
     "execution_count": 126,
     "metadata": {},
     "output_type": "execute_result"
    }
   ],
   "source": [
    "p3[2] # last row"
   ]
  },
  {
   "cell_type": "code",
   "execution_count": 127,
   "id": "db1042b9-e3ac-45b8-94fe-2d18d3b06db6",
   "metadata": {},
   "outputs": [
    {
     "data": {
      "text/plain": [
       "array([[21, 22, 23],\n",
       "       [24, 25, 26]])"
      ]
     },
     "execution_count": 127,
     "metadata": {},
     "output_type": "execute_result"
    }
   ],
   "source": [
    "p3[2,1:] # last two rows"
   ]
  },
  {
   "cell_type": "code",
   "execution_count": 128,
   "id": "75abad67-be72-4b46-9746-02f2ba76fa47",
   "metadata": {},
   "outputs": [
    {
     "data": {
      "text/plain": [
       "array([[22, 23],\n",
       "       [25, 26]])"
      ]
     },
     "execution_count": 128,
     "metadata": {},
     "output_type": "execute_result"
    }
   ],
   "source": [
    "p3[2,1:,1:] # last two columns"
   ]
  },
  {
   "cell_type": "markdown",
   "id": "62857450-45a6-4158-9b57-7cb80145e05d",
   "metadata": {},
   "source": [
    "EXPLANATION : Here we go through 3 stages , where 2 for last array , and (1:) from second\n",
    "row to total rows , and (1:) is for second column to total columns\n"
   ]
  },
  {
   "cell_type": "code",
   "execution_count": 129,
   "id": "a319365d-51e4-43b5-8692-adbc6e8689b4",
   "metadata": {},
   "outputs": [
    {
     "data": {
      "text/plain": [
       "array([[[ 0,  1,  2],\n",
       "        [ 3,  4,  5],\n",
       "        [ 6,  7,  8]],\n",
       "\n",
       "       [[ 9, 10, 11],\n",
       "        [12, 13, 14],\n",
       "        [15, 16, 17]],\n",
       "\n",
       "       [[18, 19, 20],\n",
       "        [21, 22, 23],\n",
       "        [24, 25, 26]]])"
      ]
     },
     "execution_count": 129,
     "metadata": {},
     "output_type": "execute_result"
    }
   ],
   "source": [
    "# Fetch o, 2, 18 , 20\n",
    "p3"
   ]
  },
  {
   "cell_type": "code",
   "execution_count": 130,
   "id": "782efe1a-b201-4143-9e23-c0c44498832a",
   "metadata": {},
   "outputs": [
    {
     "data": {
      "text/plain": [
       "array([[[ 0,  1,  2],\n",
       "        [ 3,  4,  5],\n",
       "        [ 6,  7,  8]],\n",
       "\n",
       "       [[18, 19, 20],\n",
       "        [21, 22, 23],\n",
       "        [24, 25, 26]]])"
      ]
     },
     "execution_count": 130,
     "metadata": {},
     "output_type": "execute_result"
    }
   ],
   "source": [
    "p3[0::2] # for     arrays"
   ]
  },
  {
   "cell_type": "code",
   "execution_count": 131,
   "id": "69c368b8-f3ed-4d44-a395-cc3d8afa1208",
   "metadata": {},
   "outputs": [
    {
     "data": {
      "text/plain": [
       "array([[ 0,  1,  2],\n",
       "       [18, 19, 20]])"
      ]
     },
     "execution_count": 131,
     "metadata": {},
     "output_type": "execute_result"
    }
   ],
   "source": [
    "p3[0::2, 0]"
   ]
  },
  {
   "cell_type": "code",
   "execution_count": 132,
   "id": "19b04b77-f688-43e7-8b88-e9697e5cdfcb",
   "metadata": {},
   "outputs": [
    {
     "data": {
      "text/plain": [
       "array([[ 0,  2],\n",
       "       [18, 20]])"
      ]
     },
     "execution_count": 132,
     "metadata": {},
     "output_type": "execute_result"
    }
   ],
   "source": [
    "p3[0::2, 0, 0::2]"
   ]
  },
  {
   "cell_type": "markdown",
   "id": "26374eb0-85ed-44f8-a03d-e2be2fa4d2dc",
   "metadata": {},
   "source": [
    "EXPLANATION : Here we take (0::2) first adn last column , so we did jump using this, and we\n",
    "took (0) for first row , and we (::2) ignored middle column"
   ]
  },
  {
   "cell_type": "markdown",
   "id": "317873d3-4f6b-44ab-ac78-8efe14be1a7d",
   "metadata": {},
   "source": [
    "Iterating"
   ]
  },
  {
   "cell_type": "code",
   "execution_count": 137,
   "id": "b282d3ec-e388-48b3-9344-aee56018b933",
   "metadata": {},
   "outputs": [
    {
     "data": {
      "text/plain": [
       "array([[1, 2, 3],\n",
       "       [4, 5, 6],\n",
       "       [7, 8, 9]])"
      ]
     },
     "execution_count": 137,
     "metadata": {},
     "output_type": "execute_result"
    }
   ],
   "source": [
    "p1"
   ]
  },
  {
   "cell_type": "code",
   "execution_count": 138,
   "id": "519bbfb9-c76d-4e6b-8403-a3bfcd8299c0",
   "metadata": {},
   "outputs": [
    {
     "name": "stdout",
     "output_type": "stream",
     "text": [
      "[1 2 3]\n",
      "[4 5 6]\n",
      "[7 8 9]\n"
     ]
    }
   ],
   "source": [
    "# looping on 1D array\n",
    "for i in p1:\n",
    "    print(i)"
   ]
  },
  {
   "cell_type": "code",
   "execution_count": 139,
   "id": "0af62f18-885e-432d-9037-bbbcef65a73e",
   "metadata": {},
   "outputs": [
    {
     "data": {
      "text/plain": [
       "array([[ 0,  1,  2,  3],\n",
       "       [ 4,  5,  6,  7],\n",
       "       [ 8,  9, 10, 11]])"
      ]
     },
     "execution_count": 139,
     "metadata": {},
     "output_type": "execute_result"
    }
   ],
   "source": [
    "p2"
   ]
  },
  {
   "cell_type": "code",
   "execution_count": 140,
   "id": "1016c7eb-569e-4077-8fbe-f6f23d5986f2",
   "metadata": {},
   "outputs": [
    {
     "name": "stdout",
     "output_type": "stream",
     "text": [
      "[0 1 2 3]\n",
      "[4 5 6 7]\n",
      "[ 8  9 10 11]\n"
     ]
    }
   ],
   "source": [
    "# looping on 2D array\n",
    "for i in p2:\n",
    "    print(i)"
   ]
  },
  {
   "cell_type": "code",
   "execution_count": 141,
   "id": "f6197ae7-6b5e-4c1e-88ce-3551c06cdba0",
   "metadata": {},
   "outputs": [
    {
     "data": {
      "text/plain": [
       "array([[[ 0,  1,  2],\n",
       "        [ 3,  4,  5],\n",
       "        [ 6,  7,  8]],\n",
       "\n",
       "       [[ 9, 10, 11],\n",
       "        [12, 13, 14],\n",
       "        [15, 16, 17]],\n",
       "\n",
       "       [[18, 19, 20],\n",
       "        [21, 22, 23],\n",
       "        [24, 25, 26]]])"
      ]
     },
     "execution_count": 141,
     "metadata": {},
     "output_type": "execute_result"
    }
   ],
   "source": [
    "p3"
   ]
  },
  {
   "cell_type": "code",
   "execution_count": 142,
   "id": "342cebcb-38ef-4a0d-9633-13097922ee1a",
   "metadata": {},
   "outputs": [
    {
     "name": "stdout",
     "output_type": "stream",
     "text": [
      "[[0 1 2]\n",
      " [3 4 5]\n",
      " [6 7 8]]\n",
      "[[ 9 10 11]\n",
      " [12 13 14]\n",
      " [15 16 17]]\n",
      "[[18 19 20]\n",
      " [21 22 23]\n",
      " [24 25 26]]\n"
     ]
    }
   ],
   "source": [
    "for i in p3:\n",
    "    print(i)"
   ]
  },
  {
   "cell_type": "markdown",
   "id": "f5b9af03-9bcd-4e92-8dcc-d1fd604c6ccb",
   "metadata": {},
   "source": [
    "print all items in 3D using nditer ----> first convert in to 1D and applying Loop\n"
   ]
  },
  {
   "cell_type": "code",
   "execution_count": 143,
   "id": "49d0c06b-96b6-4f78-97a4-ba0943bc3fc6",
   "metadata": {},
   "outputs": [
    {
     "name": "stdout",
     "output_type": "stream",
     "text": [
      "0\n",
      "1\n",
      "2\n",
      "3\n",
      "4\n",
      "5\n",
      "6\n",
      "7\n",
      "8\n",
      "9\n",
      "10\n",
      "11\n",
      "12\n",
      "13\n",
      "14\n",
      "15\n",
      "16\n",
      "17\n",
      "18\n",
      "19\n",
      "20\n",
      "21\n",
      "22\n",
      "23\n",
      "24\n",
      "25\n",
      "26\n"
     ]
    }
   ],
   "source": [
    "for i in np.nditer(p3):\n",
    "    print(i)"
   ]
  },
  {
   "cell_type": "markdown",
   "id": "0b8f0547-397a-4ad8-aa61-79561467c62b",
   "metadata": {},
   "source": [
    "Reshaping"
   ]
  },
  {
   "cell_type": "markdown",
   "id": "98a9dfcf-9f18-43c2-8d91-ac1ace9891c0",
   "metadata": {},
   "source": [
    "Transpose ---> Converts rows in to clumns ad columns into rows\n"
   ]
  },
  {
   "cell_type": "code",
   "execution_count": 144,
   "id": "c6893963-664e-432b-af59-8e1755103fa9",
   "metadata": {},
   "outputs": [
    {
     "data": {
      "text/plain": [
       "array([[ 0,  4,  8],\n",
       "       [ 1,  5,  9],\n",
       "       [ 2,  6, 10],\n",
       "       [ 3,  7, 11]])"
      ]
     },
     "execution_count": 144,
     "metadata": {},
     "output_type": "execute_result"
    }
   ],
   "source": [
    "np.transpose(p2)"
   ]
  },
  {
   "cell_type": "code",
   "execution_count": 145,
   "id": "55d37e8f-9941-4b20-9b7a-28152258e891",
   "metadata": {},
   "outputs": [
    {
     "data": {
      "text/plain": [
       "array([[ 0,  4,  8],\n",
       "       [ 1,  5,  9],\n",
       "       [ 2,  6, 10],\n",
       "       [ 3,  7, 11]])"
      ]
     },
     "execution_count": 145,
     "metadata": {},
     "output_type": "execute_result"
    }
   ],
   "source": [
    "# Another method\n",
    "p2.T"
   ]
  },
  {
   "cell_type": "code",
   "execution_count": 146,
   "id": "f2114f12-73b8-47e0-bc5c-8b91bd86dae4",
   "metadata": {},
   "outputs": [
    {
     "data": {
      "text/plain": [
       "array([[[ 0,  1,  2],\n",
       "        [ 3,  4,  5],\n",
       "        [ 6,  7,  8]],\n",
       "\n",
       "       [[ 9, 10, 11],\n",
       "        [12, 13, 14],\n",
       "        [15, 16, 17]],\n",
       "\n",
       "       [[18, 19, 20],\n",
       "        [21, 22, 23],\n",
       "        [24, 25, 26]]])"
      ]
     },
     "execution_count": 146,
     "metadata": {},
     "output_type": "execute_result"
    }
   ],
   "source": [
    "p3"
   ]
  },
  {
   "cell_type": "code",
   "execution_count": 147,
   "id": "79dc373b-1b26-4acc-b962-b74e66658834",
   "metadata": {},
   "outputs": [
    {
     "data": {
      "text/plain": [
       "array([[[ 0,  9, 18],\n",
       "        [ 3, 12, 21],\n",
       "        [ 6, 15, 24]],\n",
       "\n",
       "       [[ 1, 10, 19],\n",
       "        [ 4, 13, 22],\n",
       "        [ 7, 16, 25]],\n",
       "\n",
       "       [[ 2, 11, 20],\n",
       "        [ 5, 14, 23],\n",
       "        [ 8, 17, 26]]])"
      ]
     },
     "execution_count": 147,
     "metadata": {},
     "output_type": "execute_result"
    }
   ],
   "source": [
    "p3.T"
   ]
  },
  {
   "cell_type": "markdown",
   "id": "d89ca478-8a2d-4f1b-9078-c9e6682fc9dc",
   "metadata": {},
   "source": [
    "Ravel"
   ]
  },
  {
   "cell_type": "markdown",
   "id": "fc9f6f82-40e4-4de5-9253-9c344107dc5c",
   "metadata": {},
   "source": [
    "Converting any dimensions to 1D\n"
   ]
  },
  {
   "cell_type": "code",
   "execution_count": 148,
   "id": "7b06d11a-14a4-4b1a-a0f2-951cfb72ce7f",
   "metadata": {},
   "outputs": [
    {
     "data": {
      "text/plain": [
       "array([ 0,  1,  2,  3,  4,  5,  6,  7,  8,  9, 10, 11])"
      ]
     },
     "execution_count": 148,
     "metadata": {},
     "output_type": "execute_result"
    }
   ],
   "source": [
    "p2.ravel()"
   ]
  },
  {
   "cell_type": "code",
   "execution_count": 149,
   "id": "a0e518d2-f513-48b8-b469-be3975b8dc1a",
   "metadata": {},
   "outputs": [
    {
     "data": {
      "text/plain": [
       "array([[[ 0,  1,  2],\n",
       "        [ 3,  4,  5],\n",
       "        [ 6,  7,  8]],\n",
       "\n",
       "       [[ 9, 10, 11],\n",
       "        [12, 13, 14],\n",
       "        [15, 16, 17]],\n",
       "\n",
       "       [[18, 19, 20],\n",
       "        [21, 22, 23],\n",
       "        [24, 25, 26]]])"
      ]
     },
     "execution_count": 149,
     "metadata": {},
     "output_type": "execute_result"
    }
   ],
   "source": [
    "p3"
   ]
  },
  {
   "cell_type": "code",
   "execution_count": 150,
   "id": "c6e62034-8a9a-43b1-8a6a-5e232e356035",
   "metadata": {},
   "outputs": [
    {
     "data": {
      "text/plain": [
       "array([ 0,  1,  2,  3,  4,  5,  6,  7,  8,  9, 10, 11, 12, 13, 14, 15, 16,\n",
       "       17, 18, 19, 20, 21, 22, 23, 24, 25, 26])"
      ]
     },
     "execution_count": 150,
     "metadata": {},
     "output_type": "execute_result"
    }
   ],
   "source": [
    "p3.ravel()"
   ]
  },
  {
   "cell_type": "markdown",
   "id": "c8bbd877-61de-4202-b84e-e1c7b066b500",
   "metadata": {},
   "source": [
    "Stacking"
   ]
  },
  {
   "cell_type": "markdown",
   "id": "da15e6df-f8aa-4954-b95e-a194c935f1c4",
   "metadata": {},
   "source": [
    "Stacking is the concept of joining arrays in NumPy. Arrays having the same dimensions can be\n",
    "stacked"
   ]
  },
  {
   "cell_type": "code",
   "execution_count": 151,
   "id": "18751ee1-8c23-4942-a96c-66342e101441",
   "metadata": {},
   "outputs": [],
   "source": [
    "# Horizontally Stacking\n",
    "w1 = np.arange(12).reshape(3,4)\n",
    "w2 = np.arange(12,24).reshape(3,4)"
   ]
  },
  {
   "cell_type": "code",
   "execution_count": 152,
   "id": "a5beb932-d370-4883-a1ea-6d30fc133e16",
   "metadata": {},
   "outputs": [
    {
     "data": {
      "text/plain": [
       "array([[ 0,  1,  2,  3],\n",
       "       [ 4,  5,  6,  7],\n",
       "       [ 8,  9, 10, 11]])"
      ]
     },
     "execution_count": 152,
     "metadata": {},
     "output_type": "execute_result"
    }
   ],
   "source": [
    "w1"
   ]
  },
  {
   "cell_type": "code",
   "execution_count": 153,
   "id": "fc151093-53e7-4846-bbef-6a2bbb1759f6",
   "metadata": {},
   "outputs": [
    {
     "data": {
      "text/plain": [
       "array([[12, 13, 14, 15],\n",
       "       [16, 17, 18, 19],\n",
       "       [20, 21, 22, 23]])"
      ]
     },
     "execution_count": 153,
     "metadata": {},
     "output_type": "execute_result"
    }
   ],
   "source": [
    "w2"
   ]
  },
  {
   "cell_type": "markdown",
   "id": "d44aa444-decf-42ae-a3d3-50004fde0cfd",
   "metadata": {},
   "source": [
    "using hstack for Horizontal stacking"
   ]
  },
  {
   "cell_type": "code",
   "execution_count": 154,
   "id": "f2b134d7-1ecc-45d2-93e0-84167bd517ba",
   "metadata": {},
   "outputs": [
    {
     "data": {
      "text/plain": [
       "array([[ 0,  1,  2,  3, 12, 13, 14, 15],\n",
       "       [ 4,  5,  6,  7, 16, 17, 18, 19],\n",
       "       [ 8,  9, 10, 11, 20, 21, 22, 23]])"
      ]
     },
     "execution_count": 154,
     "metadata": {},
     "output_type": "execute_result"
    }
   ],
   "source": [
    "np.hstack((w1,w2))"
   ]
  },
  {
   "cell_type": "code",
   "execution_count": 155,
   "id": "595db83d-0fc3-4a0e-a107-f639de546edd",
   "metadata": {},
   "outputs": [
    {
     "data": {
      "text/plain": [
       "array([[ 0,  1,  2,  3],\n",
       "       [ 4,  5,  6,  7],\n",
       "       [ 8,  9, 10, 11]])"
      ]
     },
     "execution_count": 155,
     "metadata": {},
     "output_type": "execute_result"
    }
   ],
   "source": [
    "# vertical stacking\n",
    "w1"
   ]
  },
  {
   "cell_type": "code",
   "execution_count": 156,
   "id": "84dc10f0-be95-41a0-937f-2073874d92e1",
   "metadata": {},
   "outputs": [
    {
     "data": {
      "text/plain": [
       "array([[12, 13, 14, 15],\n",
       "       [16, 17, 18, 19],\n",
       "       [20, 21, 22, 23]])"
      ]
     },
     "execution_count": 156,
     "metadata": {},
     "output_type": "execute_result"
    }
   ],
   "source": [
    "w2"
   ]
  },
  {
   "cell_type": "markdown",
   "id": "74f5bc4e-c610-4a36-b111-02be0819c8f8",
   "metadata": {},
   "source": [
    "using vstack for vertical stacking"
   ]
  },
  {
   "cell_type": "code",
   "execution_count": 157,
   "id": "2bdfd2f4-798f-46fc-ad1e-b55173646cc1",
   "metadata": {},
   "outputs": [
    {
     "data": {
      "text/plain": [
       "array([[ 0,  1,  2,  3],\n",
       "       [ 4,  5,  6,  7],\n",
       "       [ 8,  9, 10, 11],\n",
       "       [12, 13, 14, 15],\n",
       "       [16, 17, 18, 19],\n",
       "       [20, 21, 22, 23]])"
      ]
     },
     "execution_count": 157,
     "metadata": {},
     "output_type": "execute_result"
    }
   ],
   "source": [
    "np.vstack((w1,w2))"
   ]
  },
  {
   "cell_type": "markdown",
   "id": "a73c6da4-516e-4943-ba7a-96c247f84c2d",
   "metadata": {},
   "source": [
    "Splitting\n"
   ]
  },
  {
   "cell_type": "markdown",
   "id": "6c5c02d8-12ad-4ab1-9c10-268284f61c40",
   "metadata": {},
   "source": [
    "its opposite of Stacking "
   ]
  },
  {
   "cell_type": "code",
   "execution_count": 158,
   "id": "504c8365-da39-4561-b0ef-09973e45e8b8",
   "metadata": {},
   "outputs": [
    {
     "data": {
      "text/plain": [
       "array([[ 0,  1,  2,  3],\n",
       "       [ 4,  5,  6,  7],\n",
       "       [ 8,  9, 10, 11]])"
      ]
     },
     "execution_count": 158,
     "metadata": {},
     "output_type": "execute_result"
    }
   ],
   "source": [
    "# Horizontal splitting\n",
    "w1"
   ]
  },
  {
   "cell_type": "code",
   "execution_count": 159,
   "id": "73fa051e-91b2-42ce-8391-b4a50bab49b7",
   "metadata": {},
   "outputs": [
    {
     "data": {
      "text/plain": [
       "[array([[0, 1],\n",
       "        [4, 5],\n",
       "        [8, 9]]),\n",
       " array([[ 2,  3],\n",
       "        [ 6,  7],\n",
       "        [10, 11]])]"
      ]
     },
     "execution_count": 159,
     "metadata": {},
     "output_type": "execute_result"
    }
   ],
   "source": [
    "np.hsplit(w1,2)"
   ]
  },
  {
   "cell_type": "code",
   "execution_count": 160,
   "id": "0b9ca55d-212d-435d-b778-cc32082c7184",
   "metadata": {},
   "outputs": [
    {
     "data": {
      "text/plain": [
       "[array([[0],\n",
       "        [4],\n",
       "        [8]]),\n",
       " array([[1],\n",
       "        [5],\n",
       "        [9]]),\n",
       " array([[ 2],\n",
       "        [ 6],\n",
       "        [10]]),\n",
       " array([[ 3],\n",
       "        [ 7],\n",
       "        [11]])]"
      ]
     },
     "execution_count": 160,
     "metadata": {},
     "output_type": "execute_result"
    }
   ],
   "source": [
    "np.hsplit(w1,4)"
   ]
  },
  {
   "cell_type": "code",
   "execution_count": 161,
   "id": "db5813c2-2386-4c04-97d6-0f096e62f6d8",
   "metadata": {},
   "outputs": [
    {
     "data": {
      "text/plain": [
       "array([[12, 13, 14, 15],\n",
       "       [16, 17, 18, 19],\n",
       "       [20, 21, 22, 23]])"
      ]
     },
     "execution_count": 161,
     "metadata": {},
     "output_type": "execute_result"
    }
   ],
   "source": [
    "# vertical splitting\n",
    "w2"
   ]
  },
  {
   "cell_type": "code",
   "execution_count": 162,
   "id": "aa59e2d3-f48b-4b41-b287-a145997a7879",
   "metadata": {},
   "outputs": [
    {
     "data": {
      "text/plain": [
       "[array([[12, 13, 14, 15]]),\n",
       " array([[16, 17, 18, 19]]),\n",
       " array([[20, 21, 22, 23]])]"
      ]
     },
     "execution_count": 162,
     "metadata": {},
     "output_type": "execute_result"
    }
   ],
   "source": [
    "np.vsplit(w2,3)"
   ]
  },
  {
   "cell_type": "markdown",
   "id": "aef32033-b741-4c94-ac26-d31ec9d5c322",
   "metadata": {},
   "source": [
    "Numpy Arrays Vs Python Sequences"
   ]
  },
  {
   "cell_type": "markdown",
   "id": "42c2c9b1-d850-4695-9b3d-deaf2d477d3c",
   "metadata": {},
   "source": [
    "NumPy arrays have a fixed size at creation, unlike Python lists (which can grow dynamically).\n",
    "Changing the size of an ndarray will create a new array and delete the original."
   ]
  },
  {
   "cell_type": "markdown",
   "id": "81c5872b-6cb3-421d-bfdc-7c625edc691a",
   "metadata": {},
   "source": [
    "The elements in a NumPy array are all required to be of the same data type, and thus will be\n",
    "the same size in memory."
   ]
  },
  {
   "cell_type": "markdown",
   "id": "6764f458-3663-460e-852c-82cda2c9b5b2",
   "metadata": {},
   "source": [
    "NumPy arrays facilitate advanced mathematical and other types of operations on large\n",
    "numbers of data. Typically, such operations are executed more efficiently and with less code\n",
    "than is possible using Python’s built-in sequences."
   ]
  },
  {
   "cell_type": "markdown",
   "id": "257e25c5-f7ff-4476-b667-a2e9d8e1e583",
   "metadata": {},
   "source": [
    "A growing plethora of scientific and mathematical Python-based packages are using NumPy\n",
    "arrays; though these typically support Python-sequence input, they convert such input to\n",
    "NumPy arrays prior to processing, and they often output NumPy arrays"
   ]
  },
  {
   "cell_type": "markdown",
   "id": "04f1cd5e-1333-4958-a5ef-83ecfc95d0f5",
   "metadata": {},
   "source": [
    "Speed of List Vs Numpy"
   ]
  },
  {
   "cell_type": "markdown",
   "id": "47deec80-addb-4823-aeb4-e01fd7c32d98",
   "metadata": {},
   "source": [
    "List"
   ]
  },
  {
   "cell_type": "code",
   "execution_count": 163,
   "id": "70518a58-2677-494b-b7c2-6fdf59d50a45",
   "metadata": {},
   "outputs": [
    {
     "name": "stdout",
     "output_type": "stream",
     "text": [
      "6.292639970779419\n"
     ]
    }
   ],
   "source": [
    "# element wise addition\n",
    "\n",
    "a = [i for i in range(10000000)]\n",
    "b = [i for i in range(10000000,20000000)]\n",
    "c = []\n",
    "import time\n",
    "start = time.time()\n",
    "for i in range(len(a)):\n",
    "    c.append(a[i] + b[i])\n",
    "print(time.time()-start)"
   ]
  },
  {
   "cell_type": "markdown",
   "id": "beb5235c-3595-4f02-a802-62aad32bab50",
   "metadata": {},
   "source": [
    "Numpy"
   ]
  },
  {
   "cell_type": "code",
   "execution_count": 165,
   "id": "bce40aad-c1b5-4ae9-91ff-e0c4d9bedd85",
   "metadata": {},
   "outputs": [
    {
     "name": "stdout",
     "output_type": "stream",
     "text": [
      "0.4001960754394531\n"
     ]
    }
   ],
   "source": [
    "import numpy as np\n",
    "a = np.arange(10000000)\n",
    "b = np.arange(10000000,20000000)\n",
    "start = time.time()\n",
    "c = a+b\n",
    "print(time.time()-start)"
   ]
  },
  {
   "cell_type": "code",
   "execution_count": 166,
   "id": "751f2421-5382-456c-ad31-d69cd2402a70",
   "metadata": {},
   "outputs": [
    {
     "data": {
      "text/plain": [
       "120.35911871666826"
      ]
     },
     "execution_count": 166,
     "metadata": {},
     "output_type": "execute_result"
    }
   ],
   "source": [
    "2.7065064907073975 / 0.02248692512512207\n"
   ]
  },
  {
   "cell_type": "markdown",
   "id": "2dfb5755-9437-4809-a973-9c7eb66ef121",
   "metadata": {},
   "source": [
    "so ,Numpy is Faster than Normal Python programming ,we can see in above Example.\n",
    "because Numpy uses C type array"
   ]
  },
  {
   "cell_type": "markdown",
   "id": "730091af-72ea-4d19-9782-eff0480eb5fe",
   "metadata": {},
   "source": [
    "Memory Used for List Vs Numpy"
   ]
  },
  {
   "cell_type": "markdown",
   "id": "795e1ad8-6b9c-4d71-9bd7-ffda0a866684",
   "metadata": {},
   "source": [
    "List"
   ]
  },
  {
   "cell_type": "code",
   "execution_count": 167,
   "id": "4e0e086a-e05b-4560-b807-584f57335ff8",
   "metadata": {},
   "outputs": [
    {
     "data": {
      "text/plain": [
       "89095160"
      ]
     },
     "execution_count": 167,
     "metadata": {},
     "output_type": "execute_result"
    }
   ],
   "source": [
    "p = [i for i in range(10000000)]\n",
    "import sys\n",
    "sys.getsizeof(p)"
   ]
  },
  {
   "cell_type": "markdown",
   "id": "f0a31986-11b7-4388-bb41-b047e9b4acdb",
   "metadata": {},
   "source": [
    "Numpy\n"
   ]
  },
  {
   "cell_type": "code",
   "execution_count": 168,
   "id": "da33ac71-99c2-4e35-9b1a-c96f063e6d0d",
   "metadata": {},
   "outputs": [
    {
     "data": {
      "text/plain": [
       "80000112"
      ]
     },
     "execution_count": 168,
     "metadata": {},
     "output_type": "execute_result"
    }
   ],
   "source": [
    "R = np.arange(10000000)\n",
    "sys.getsizeof(R)"
   ]
  },
  {
   "cell_type": "code",
   "execution_count": 169,
   "id": "6d23446a-1354-4968-bcee-11d457953427",
   "metadata": {},
   "outputs": [
    {
     "data": {
      "text/plain": [
       "20000112"
      ]
     },
     "execution_count": 169,
     "metadata": {},
     "output_type": "execute_result"
    }
   ],
   "source": [
    "# we can decrease more in numpy\n",
    "R = np.arange(10000000, dtype = np.int16)\n",
    "sys.getsizeof(R)"
   ]
  },
  {
   "cell_type": "markdown",
   "id": "01b3ec7c-ac6a-456a-96db-9c5ca09c8b89",
   "metadata": {},
   "source": [
    "Advance Indexing and Slicing\n"
   ]
  },
  {
   "cell_type": "code",
   "execution_count": 170,
   "id": "cf1616f4-7644-4bf6-aad4-295ebe3d0000",
   "metadata": {},
   "outputs": [
    {
     "name": "stdout",
     "output_type": "stream",
     "text": [
      "[[ 0  1  2]\n",
      " [ 3  4  5]\n",
      " [ 6  7  8]\n",
      " [ 9 10 11]]\n"
     ]
    }
   ],
   "source": [
    "# normal indexing and slicing\n",
    "w = np.arange(12).reshape(4,3)\n",
    "print(w)"
   ]
  },
  {
   "cell_type": "code",
   "execution_count": 171,
   "id": "307f2b19-c2d1-440d-923a-364a54921931",
   "metadata": {},
   "outputs": [
    {
     "data": {
      "text/plain": [
       "np.int64(5)"
      ]
     },
     "execution_count": 171,
     "metadata": {},
     "output_type": "execute_result"
    }
   ],
   "source": [
    "# fetching 5 from array\n",
    "w[1,2]"
   ]
  },
  {
   "cell_type": "code",
   "execution_count": 172,
   "id": "e3759b2d-11b3-4d07-acb7-5eab469ffa2f",
   "metadata": {},
   "outputs": [
    {
     "data": {
      "text/plain": [
       "array([[3, 4, 5],\n",
       "       [6, 7, 8]])"
      ]
     },
     "execution_count": 172,
     "metadata": {},
     "output_type": "execute_result"
    }
   ],
   "source": [
    "# fetching 4,5,7,8\n",
    "w[1:3]"
   ]
  },
  {
   "cell_type": "code",
   "execution_count": 173,
   "id": "7be0b764-e0d7-4ed7-bac0-3cdee3a879fc",
   "metadata": {},
   "outputs": [
    {
     "data": {
      "text/plain": [
       "array([[4, 5],\n",
       "       [7, 8]])"
      ]
     },
     "execution_count": 173,
     "metadata": {},
     "output_type": "execute_result"
    }
   ],
   "source": [
    "w[1:3,1:3]"
   ]
  },
  {
   "cell_type": "markdown",
   "id": "ae369733-62b0-42f9-b35f-580743cfdba7",
   "metadata": {},
   "source": [
    "Fancy Indexing\n"
   ]
  },
  {
   "cell_type": "markdown",
   "id": "25cc8346-18f8-4fc3-9aa6-6e2f485f6296",
   "metadata": {},
   "source": [
    "Fancy indexing allows you to select or modify specific elements based on complex conditions\n",
    "or combinations of indices. It provides a powerful way to manipulate array data in NumPy."
   ]
  },
  {
   "cell_type": "code",
   "execution_count": 174,
   "id": "fd0b857a-a3d8-4a7e-9b58-29e17b6c4201",
   "metadata": {},
   "outputs": [
    {
     "data": {
      "text/plain": [
       "array([[ 0,  1,  2],\n",
       "       [ 3,  4,  5],\n",
       "       [ 6,  7,  8],\n",
       "       [ 9, 10, 11]])"
      ]
     },
     "execution_count": 174,
     "metadata": {},
     "output_type": "execute_result"
    }
   ],
   "source": [
    "w"
   ]
  },
  {
   "cell_type": "code",
   "execution_count": 175,
   "id": "bc6c54f3-4ac5-406b-a856-381538b6beaa",
   "metadata": {},
   "outputs": [
    {
     "data": {
      "text/plain": [
       "array([[ 0,  1,  2],\n",
       "       [ 6,  7,  8],\n",
       "       [ 9, 10, 11]])"
      ]
     },
     "execution_count": 175,
     "metadata": {},
     "output_type": "execute_result"
    }
   ],
   "source": [
    "# fetch 1,3,4 row\n",
    "w[[0,2,3]]"
   ]
  },
  {
   "cell_type": "code",
   "execution_count": 176,
   "id": "b80fc43a-7324-477e-aa19-18e1c2d209a4",
   "metadata": {},
   "outputs": [
    {
     "data": {
      "text/plain": [
       "array([[ 0,  1,  2,  3],\n",
       "       [ 4,  5,  6,  7],\n",
       "       [ 8,  9, 10, 11],\n",
       "       [12, 13, 14, 15],\n",
       "       [16, 17, 18, 19],\n",
       "       [20, 21, 22, 23]])"
      ]
     },
     "execution_count": 176,
     "metadata": {},
     "output_type": "execute_result"
    }
   ],
   "source": [
    "# new array\n",
    "z = np.arange(24).reshape(6,4)\n",
    "z"
   ]
  },
  {
   "cell_type": "code",
   "execution_count": 177,
   "id": "74be2fc7-74fc-4ac6-a301-8f5e9e9505a4",
   "metadata": {},
   "outputs": [
    {
     "data": {
      "text/plain": [
       "array([[ 0,  1,  2,  3],\n",
       "       [ 8,  9, 10, 11],\n",
       "       [12, 13, 14, 15],\n",
       "       [20, 21, 22, 23]])"
      ]
     },
     "execution_count": 177,
     "metadata": {},
     "output_type": "execute_result"
    }
   ],
   "source": [
    "# fetch 1,3,,4,6\n",
    "z[[0,2,3,5]]"
   ]
  },
  {
   "cell_type": "code",
   "execution_count": 178,
   "id": "43f739c3-e51f-4758-a753-9b4ef5238d70",
   "metadata": {},
   "outputs": [
    {
     "data": {
      "text/plain": [
       "array([[ 0,  2,  3],\n",
       "       [ 4,  6,  7],\n",
       "       [ 8, 10, 11],\n",
       "       [12, 14, 15],\n",
       "       [16, 18, 19],\n",
       "       [20, 22, 23]])"
      ]
     },
     "execution_count": 178,
     "metadata": {},
     "output_type": "execute_result"
    }
   ],
   "source": [
    "# fetch 1,3,4 columns\n",
    "z[:,[0,2,3]]"
   ]
  },
  {
   "cell_type": "markdown",
   "id": "ee752527-1f24-4d80-a0eb-059f9006f48e",
   "metadata": {},
   "source": [
    "Boolean indexing\n"
   ]
  },
  {
   "cell_type": "markdown",
   "id": "3a3a37b6-eb62-44b1-a684-88ac11db51cd",
   "metadata": {},
   "source": [
    "It allows you to select elements from an array based on a Boolean condition. This allows you\n",
    "to extract only the elements of an array that meet a certain condition, making it easy to perform\n",
    "operations on specific subsets of data."
   ]
  },
  {
   "cell_type": "code",
   "execution_count": 179,
   "id": "48c6dc00-2606-4518-a829-bc677e0e3229",
   "metadata": {},
   "outputs": [
    {
     "data": {
      "text/plain": [
       "array([[78, 91, 98, 35],\n",
       "       [70,  7, 87, 31],\n",
       "       [ 2, 40,  9, 90],\n",
       "       [ 9, 79, 81, 41],\n",
       "       [ 8, 67, 36, 59],\n",
       "       [ 1, 68, 23, 14]], dtype=int32)"
      ]
     },
     "execution_count": 179,
     "metadata": {},
     "output_type": "execute_result"
    }
   ],
   "source": [
    "G = np.random.randint(1,100,24).reshape(6,4)\n",
    "G"
   ]
  },
  {
   "cell_type": "code",
   "execution_count": 180,
   "id": "37f9e42c-96de-4ebe-8705-33ab6ca6f431",
   "metadata": {},
   "outputs": [
    {
     "data": {
      "text/plain": [
       "array([[ True,  True,  True, False],\n",
       "       [ True, False,  True, False],\n",
       "       [False, False, False,  True],\n",
       "       [False,  True,  True, False],\n",
       "       [False,  True, False,  True],\n",
       "       [False,  True, False, False]])"
      ]
     },
     "execution_count": 180,
     "metadata": {},
     "output_type": "execute_result"
    }
   ],
   "source": [
    "# find all number greater than 50\n",
    "G > 50"
   ]
  },
  {
   "cell_type": "code",
   "execution_count": 181,
   "id": "e1a95011-c37d-4fb4-95cb-9ef403a386d0",
   "metadata": {},
   "outputs": [
    {
     "data": {
      "text/plain": [
       "array([78, 91, 98, 70, 87, 90, 79, 81, 67, 59, 68], dtype=int32)"
      ]
     },
     "execution_count": 181,
     "metadata": {},
     "output_type": "execute_result"
    }
   ],
   "source": [
    "# where is true it gives result, everything other that removed. we got value\n",
    "G[G > 50]"
   ]
  },
  {
   "cell_type": "markdown",
   "id": "41147267-eb50-43d6-9f19-3883d3336024",
   "metadata": {},
   "source": [
    "it is best Techinque to filter the data in given condition"
   ]
  },
  {
   "cell_type": "code",
   "execution_count": 182,
   "id": "37111465-007c-465c-8bb5-9847fb0a69ab",
   "metadata": {},
   "outputs": [
    {
     "data": {
      "text/plain": [
       "array([[ True, False,  True, False],\n",
       "       [ True, False, False, False],\n",
       "       [ True,  True, False,  True],\n",
       "       [False, False, False, False],\n",
       "       [ True, False,  True, False],\n",
       "       [False,  True, False,  True]])"
      ]
     },
     "execution_count": 182,
     "metadata": {},
     "output_type": "execute_result"
    }
   ],
   "source": [
    "# find out even numbers\n",
    "G % 2 == 0"
   ]
  },
  {
   "cell_type": "code",
   "execution_count": 183,
   "id": "602a0cd3-b973-435d-9591-4eaee7b4057c",
   "metadata": {},
   "outputs": [
    {
     "data": {
      "text/plain": [
       "array([78, 98, 70,  2, 40, 90,  8, 36, 68, 14], dtype=int32)"
      ]
     },
     "execution_count": 183,
     "metadata": {},
     "output_type": "execute_result"
    }
   ],
   "source": [
    "# Gives only the even numbers\n",
    "G[G % 2 == 0]"
   ]
  },
  {
   "cell_type": "code",
   "execution_count": 184,
   "id": "b0942364-e129-43da-96df-eb0579d1feaf",
   "metadata": {},
   "outputs": [
    {
     "data": {
      "text/plain": [
       "array([[ True, False,  True, False],\n",
       "       [ True, False, False, False],\n",
       "       [False, False, False,  True],\n",
       "       [False, False, False, False],\n",
       "       [False, False, False, False],\n",
       "       [False,  True, False, False]])"
      ]
     },
     "execution_count": 184,
     "metadata": {},
     "output_type": "execute_result"
    }
   ],
   "source": [
    "# find all number greater than 50 and are even\n",
    "(G > 50) & (G % 2 == 0)"
   ]
  },
  {
   "cell_type": "markdown",
   "id": "fc516a75-b640-4ce0-ade5-4e0eb862b1de",
   "metadata": {},
   "source": [
    "Here we used (&) bitwise Not logical(and) , because we are working with boolean values\n"
   ]
  },
  {
   "cell_type": "code",
   "execution_count": 185,
   "id": "5704d540-e767-42fa-836a-5273647b7116",
   "metadata": {},
   "outputs": [
    {
     "data": {
      "text/plain": [
       "array([78, 98, 70, 90, 68], dtype=int32)"
      ]
     },
     "execution_count": 185,
     "metadata": {},
     "output_type": "execute_result"
    }
   ],
   "source": [
    "# Result\n",
    "G[(G > 50) & (G % 2 == 0)]"
   ]
  },
  {
   "cell_type": "code",
   "execution_count": 186,
   "id": "eb26f21b-6de2-4e85-baa5-5d29170063ea",
   "metadata": {},
   "outputs": [
    {
     "data": {
      "text/plain": [
       "array([[False,  True,  True,  True],\n",
       "       [ True,  True, False, False],\n",
       "       [False, False, False, False],\n",
       "       [False, False, False, False],\n",
       "       [False, False, False, False],\n",
       "       [False, False, False,  True]])"
      ]
     },
     "execution_count": 186,
     "metadata": {},
     "output_type": "execute_result"
    }
   ],
   "source": [
    "# find all number not divisible by 7\n",
    "G % 7 == 0"
   ]
  },
  {
   "cell_type": "code",
   "execution_count": 187,
   "id": "32868f2f-10d2-44f3-8de8-16ee618d4a7a",
   "metadata": {},
   "outputs": [
    {
     "data": {
      "text/plain": [
       "array([78, 87, 31,  2, 40,  9, 90,  9, 79, 81, 41,  8, 67, 36, 59,  1, 68,\n",
       "       23], dtype=int32)"
      ]
     },
     "execution_count": 187,
     "metadata": {},
     "output_type": "execute_result"
    }
   ],
   "source": [
    "# Result\n",
    "G[~(G % 7 == 0)]"
   ]
  },
  {
   "cell_type": "markdown",
   "id": "d33e2d52-1096-4ffb-bf5d-8aca47189cc3",
   "metadata": {},
   "source": [
    "Broadcasting\n"
   ]
  },
  {
   "cell_type": "markdown",
   "id": "9c5231ee-f313-41aa-8881-ec82764f568b",
   "metadata": {},
   "source": [
    "Used in Vectorization\n"
   ]
  },
  {
   "cell_type": "markdown",
   "id": "73545596-d58b-4786-93c2-b77b972f42f3",
   "metadata": {},
   "source": [
    "The term broadcasting describes how NumPy treats arrays with different shapes during\n",
    "arithmetic operations."
   ]
  },
  {
   "cell_type": "markdown",
   "id": "7e190b10-d9aa-4b9e-90a0-5a2e3abb0839",
   "metadata": {},
   "source": [
    "The smaller array is “broadcast” across the larger array so that they have compatible shapes."
   ]
  },
  {
   "cell_type": "code",
   "execution_count": 189,
   "id": "63831c09-67ac-480b-990e-d2bae4b523cc",
   "metadata": {},
   "outputs": [
    {
     "name": "stdout",
     "output_type": "stream",
     "text": [
      "[[0 1 2]\n",
      " [3 4 5]]\n",
      "[[ 6  7  8]\n",
      " [ 9 10 11]]\n",
      "[[ 6  8 10]\n",
      " [12 14 16]]\n"
     ]
    }
   ],
   "source": [
    "# same shape\n",
    "a = np.arange(6).reshape(2,3)\n",
    "b = np.arange(6,12).reshape(2,3)\n",
    "print(a)\n",
    "print(b)\n",
    "print(a+b)"
   ]
  },
  {
   "cell_type": "code",
   "execution_count": 190,
   "id": "ba676c98-3576-46ac-9948-eb60d50b8273",
   "metadata": {},
   "outputs": [
    {
     "name": "stdout",
     "output_type": "stream",
     "text": [
      "[[0 1 2]\n",
      " [3 4 5]]\n",
      "[[0 1 2]]\n",
      "[[0 2 4]\n",
      " [3 5 7]]\n"
     ]
    }
   ],
   "source": [
    "# diff shape\n",
    "a = np.arange(6).reshape(2,3)\n",
    "b = np.arange(3).reshape(1,3)\n",
    "print(a)\n",
    "print(b)\n",
    "print(a+b)"
   ]
  },
  {
   "cell_type": "markdown",
   "id": "dc83cb5e-18df-40ef-ba4d-baf3c5f61e2f",
   "metadata": {},
   "source": [
    "Broadcasting Rules"
   ]
  },
  {
   "cell_type": "markdown",
   "id": "bf8fc6e5-19b7-4400-b64a-3fa74c9b4751",
   "metadata": {},
   "source": [
    "1. Make the two arrays have the same number of dimensions."
   ]
  },
  {
   "cell_type": "markdown",
   "id": "9c545486-e757-4574-ab86-feeeeecae81d",
   "metadata": {},
   "source": [
    "If the numbers of dimensions of the two arrays are different, add new dimensions with size\n",
    "1 to the head of the array with the smaller dimension."
   ]
  },
  {
   "cell_type": "markdown",
   "id": "7affce4b-e835-497b-bead-63d4e6638a30",
   "metadata": {},
   "source": [
    "ex : (3,2) = 2D , (3) =1D ---> Convert into (1,3)\n",
    "(3,3,3) = 3D ,(3) = 1D ---> Convert into (1,1,3)\n"
   ]
  },
  {
   "cell_type": "markdown",
   "id": "a9afc72f-cd56-4eb4-87a4-123414700f4f",
   "metadata": {},
   "source": [
    "2. Make each dimension of the two arrays the same size."
   ]
  },
  {
   "cell_type": "markdown",
   "id": "69f96ef2-ce06-4935-a756-42355080876b",
   "metadata": {},
   "source": [
    "If the sizes of each dimension of the two arrays do not match, dimensions with size 1 are\n",
    "stretched to the size of the other array."
   ]
  },
  {
   "cell_type": "markdown",
   "id": "67688f50-9311-43f5-a84f-8de6fe7efc22",
   "metadata": {},
   "source": [
    "ex : (3,3)=2D ,(3) =1D ---> CONVERTED (1,3) than strech to (3,3)\n"
   ]
  },
  {
   "cell_type": "markdown",
   "id": "77dd6759-e391-49bc-bda5-5c63316904fe",
   "metadata": {},
   "source": [
    "If there is a dimension whose size is not 1 in either of the two arrays, it cannot be\n",
    "broadcasted, and an error is raised.\n"
   ]
  },
  {
   "cell_type": "code",
   "execution_count": 191,
   "id": "8d1cfa22-2028-48ed-bfb4-5a72fb375cc2",
   "metadata": {},
   "outputs": [
    {
     "name": "stdout",
     "output_type": "stream",
     "text": [
      "[[ 0  1  2]\n",
      " [ 3  4  5]\n",
      " [ 6  7  8]\n",
      " [ 9 10 11]]\n"
     ]
    }
   ],
   "source": [
    "# more examples\n",
    "a = np.arange(12).reshape(4,3)\n",
    "b = np.arange(3)\n",
    "print(a)"
   ]
  },
  {
   "cell_type": "code",
   "execution_count": 192,
   "id": "83348481-f809-4ce7-8df4-7a5ad67f91e0",
   "metadata": {},
   "outputs": [
    {
     "name": "stdout",
     "output_type": "stream",
     "text": [
      "[0 1 2]\n"
     ]
    }
   ],
   "source": [
    "print(b)"
   ]
  },
  {
   "cell_type": "code",
   "execution_count": 193,
   "id": "cb9729d7-cea3-48cc-a2c3-e3f98b35c09e",
   "metadata": {},
   "outputs": [
    {
     "name": "stdout",
     "output_type": "stream",
     "text": [
      "[[ 0  2  4]\n",
      " [ 3  5  7]\n",
      " [ 6  8 10]\n",
      " [ 9 11 13]]\n"
     ]
    }
   ],
   "source": [
    "print(a+b)"
   ]
  },
  {
   "cell_type": "markdown",
   "id": "1d4695c0-6c2c-4e8e-87e4-439ca77f429c",
   "metadata": {},
   "source": [
    "EXPLANATION : Arthematic Operation possible because , Here a = (4,3) is 2D and b =(3) is 1D\n",
    "so did converted (3) to (1,3) and streched to (4,3)\n"
   ]
  },
  {
   "cell_type": "code",
   "execution_count": 194,
   "id": "1ffa47b5-c504-4c17-9090-cc26d82b3d02",
   "metadata": {},
   "outputs": [
    {
     "name": "stdout",
     "output_type": "stream",
     "text": [
      "[[ 0  1  2  3]\n",
      " [ 4  5  6  7]\n",
      " [ 8  9 10 11]]\n",
      "[0 1 2]\n"
     ]
    },
    {
     "ename": "ValueError",
     "evalue": "operands could not be broadcast together with shapes (3,4) (3,) ",
     "output_type": "error",
     "traceback": [
      "\u001b[1;31m---------------------------------------------------------------------------\u001b[0m",
      "\u001b[1;31mValueError\u001b[0m                                Traceback (most recent call last)",
      "Cell \u001b[1;32mIn[194], line 6\u001b[0m\n\u001b[0;32m      4\u001b[0m \u001b[38;5;28mprint\u001b[39m(a)\n\u001b[0;32m      5\u001b[0m \u001b[38;5;28mprint\u001b[39m(b)\n\u001b[1;32m----> 6\u001b[0m \u001b[38;5;28mprint\u001b[39m(\u001b[43ma\u001b[49m\u001b[38;5;241;43m+\u001b[39;49m\u001b[43mb\u001b[49m)\n",
      "\u001b[1;31mValueError\u001b[0m: operands could not be broadcast together with shapes (3,4) (3,) "
     ]
    }
   ],
   "source": [
    "# could not broadcast\n",
    "a = np.arange(12).reshape(3,4)\n",
    "b = np.arange(3)\n",
    "print(a)\n",
    "print(b)\n",
    "print(a+b)"
   ]
  },
  {
   "cell_type": "markdown",
   "id": "b5172f6c-0e8f-4890-b852-ad10472e79dd",
   "metadata": {},
   "source": [
    "EXPLANATION : Arthematic Operation not possible because , Here a = (3,4) is 2D and b =(3)\n",
    "is 1D so did converted (3) to (1,3) and streched to (3,3) but , a is not equals to b . so it got failed"
   ]
  },
  {
   "cell_type": "code",
   "execution_count": 195,
   "id": "8e843f0f-a457-479b-8bc8-b1176c54aea3",
   "metadata": {},
   "outputs": [
    {
     "name": "stdout",
     "output_type": "stream",
     "text": [
      "[[0 1 2]]\n",
      "[[0]\n",
      " [1]\n",
      " [2]]\n",
      "[[0 1 2]\n",
      " [1 2 3]\n",
      " [2 3 4]]\n"
     ]
    }
   ],
   "source": [
    "a = np.arange(3).reshape(1,3)\n",
    "b = np.arange(3).reshape(3,1)\n",
    "print(a)\n",
    "print(b)\n",
    "print(a+b)"
   ]
  },
  {
   "cell_type": "markdown",
   "id": "eee8974e-b45e-48fb-9816-68639fc95543",
   "metadata": {},
   "source": [
    "EXPLANATION : Arthematic Operation possible because , Here a = (1,3) is 2D and b =(3,1) is\n",
    "2D so did converted (1,3) to (3,3) and b(3,1) convert (1)to 3 than (3,3) . finally it equally.\n"
   ]
  },
  {
   "cell_type": "code",
   "execution_count": 197,
   "id": "6063f522-bf59-48c8-bdb4-abf48be16443",
   "metadata": {},
   "outputs": [
    {
     "name": "stdout",
     "output_type": "stream",
     "text": [
      "[[0 1 2]]\n",
      "[[0]\n",
      " [1]\n",
      " [2]\n",
      " [3]]\n",
      "[[0 1 2]\n",
      " [1 2 3]\n",
      " [2 3 4]\n",
      " [3 4 5]]\n"
     ]
    }
   ],
   "source": [
    "a = np.arange(3).reshape(1,3)\n",
    "b = np.arange(4).reshape(4,1)\n",
    "print(a)\n",
    "print(b)\n",
    "print(a+b)"
   ]
  },
  {
   "cell_type": "markdown",
   "id": "1fb1a4d8-e65f-4eda-ab1c-a529ee0d977a",
   "metadata": {},
   "source": [
    "EXPLANATION : Same as before"
   ]
  },
  {
   "cell_type": "code",
   "execution_count": 198,
   "id": "b7ae236d-8b65-470a-94cd-ceb1ad45e5af",
   "metadata": {},
   "outputs": [
    {
     "name": "stdout",
     "output_type": "stream",
     "text": [
      "[1]\n",
      "[[0 1]\n",
      " [2 3]]\n",
      "[[1 2]\n",
      " [3 4]]\n"
     ]
    }
   ],
   "source": [
    "a = np.array([1])\n",
    "# shape - > (1,1) stretched to 2,2\n",
    "b = np.arange(4).reshape(2,2)\n",
    "# shape - > (2,2)\n",
    "print(a)\n",
    "print(b)\n",
    "print(a+b)"
   ]
  },
  {
   "cell_type": "code",
   "execution_count": 199,
   "id": "ad53b901-6b64-44e7-b100-3a9e2ee42248",
   "metadata": {},
   "outputs": [
    {
     "name": "stdout",
     "output_type": "stream",
     "text": [
      "[[ 0  1  2  3]\n",
      " [ 4  5  6  7]\n",
      " [ 8  9 10 11]]\n",
      "[[ 0  1  2]\n",
      " [ 3  4  5]\n",
      " [ 6  7  8]\n",
      " [ 9 10 11]]\n"
     ]
    },
    {
     "ename": "ValueError",
     "evalue": "operands could not be broadcast together with shapes (3,4) (4,3) ",
     "output_type": "error",
     "traceback": [
      "\u001b[1;31m---------------------------------------------------------------------------\u001b[0m",
      "\u001b[1;31mValueError\u001b[0m                                Traceback (most recent call last)",
      "Cell \u001b[1;32mIn[199], line 6\u001b[0m\n\u001b[0;32m      4\u001b[0m \u001b[38;5;28mprint\u001b[39m(a)\n\u001b[0;32m      5\u001b[0m \u001b[38;5;28mprint\u001b[39m(b)\n\u001b[1;32m----> 6\u001b[0m \u001b[38;5;28mprint\u001b[39m(\u001b[43ma\u001b[49m\u001b[38;5;241;43m+\u001b[39;49m\u001b[43mb\u001b[49m)\n",
      "\u001b[1;31mValueError\u001b[0m: operands could not be broadcast together with shapes (3,4) (4,3) "
     ]
    }
   ],
   "source": [
    "# doesnot work\n",
    "a = np.arange(12).reshape(3,4)\n",
    "b = np.arange(12).reshape(4,3)\n",
    "print(a)\n",
    "print(b)\n",
    "print(a+b)"
   ]
  },
  {
   "cell_type": "markdown",
   "id": "73a781a8-fd06-4670-8567-e17b2ce38ee0",
   "metadata": {},
   "source": [
    "EXPLANATION : there is no 1 to convert ,so got failed"
   ]
  },
  {
   "cell_type": "code",
   "execution_count": 200,
   "id": "622f9947-cf44-434a-8e30-c7720186f50d",
   "metadata": {},
   "outputs": [
    {
     "name": "stdout",
     "output_type": "stream",
     "text": [
      "[[ 0  1  2  3]\n",
      " [ 4  5  6  7]\n",
      " [ 8  9 10 11]\n",
      " [12 13 14 15]]\n",
      "[[0 1]\n",
      " [2 3]]\n"
     ]
    },
    {
     "ename": "ValueError",
     "evalue": "operands could not be broadcast together with shapes (4,4) (2,2) ",
     "output_type": "error",
     "traceback": [
      "\u001b[1;31m---------------------------------------------------------------------------\u001b[0m",
      "\u001b[1;31mValueError\u001b[0m                                Traceback (most recent call last)",
      "Cell \u001b[1;32mIn[200], line 6\u001b[0m\n\u001b[0;32m      4\u001b[0m \u001b[38;5;28mprint\u001b[39m(a)\n\u001b[0;32m      5\u001b[0m \u001b[38;5;28mprint\u001b[39m(b)\n\u001b[1;32m----> 6\u001b[0m \u001b[38;5;28mprint\u001b[39m(\u001b[43ma\u001b[49m\u001b[38;5;241;43m+\u001b[39;49m\u001b[43mb\u001b[49m)\n",
      "\u001b[1;31mValueError\u001b[0m: operands could not be broadcast together with shapes (4,4) (2,2) "
     ]
    }
   ],
   "source": [
    "# not work\n",
    "a = np.arange(16).reshape(4,4)\n",
    "b = np.arange(4).reshape(2,2)\n",
    "print(a)\n",
    "print(b)\n",
    "print(a+b)"
   ]
  },
  {
   "cell_type": "markdown",
   "id": "4ba3fbde-c395-433b-bbac-1c4bbef9172d",
   "metadata": {},
   "source": [
    "EXPLANATION : there is no 1 to convert ,so got failed"
   ]
  },
  {
   "cell_type": "markdown",
   "id": "98186bbe-9b37-4660-bc18-7c74bb781a74",
   "metadata": {},
   "source": [
    "Working with mathematical formulas"
   ]
  },
  {
   "cell_type": "code",
   "execution_count": 201,
   "id": "f8fc029d-e505-4a79-8568-321da87922af",
   "metadata": {},
   "outputs": [],
   "source": [
    "k = np.arange(10)"
   ]
  },
  {
   "cell_type": "code",
   "execution_count": 202,
   "id": "c6ea12e9-348d-4303-8eb2-51025a0b7d50",
   "metadata": {},
   "outputs": [
    {
     "data": {
      "text/plain": [
       "array([0, 1, 2, 3, 4, 5, 6, 7, 8, 9])"
      ]
     },
     "execution_count": 202,
     "metadata": {},
     "output_type": "execute_result"
    }
   ],
   "source": [
    "k"
   ]
  },
  {
   "cell_type": "code",
   "execution_count": 203,
   "id": "c8d4cd11-cc90-413c-937f-00bb14cf0b9a",
   "metadata": {},
   "outputs": [
    {
     "data": {
      "text/plain": [
       "np.int64(45)"
      ]
     },
     "execution_count": 203,
     "metadata": {},
     "output_type": "execute_result"
    }
   ],
   "source": [
    "np.sum(k)"
   ]
  },
  {
   "cell_type": "code",
   "execution_count": 204,
   "id": "cb2cd7f6-ff26-4d38-8ae2-96d0e9981def",
   "metadata": {},
   "outputs": [
    {
     "data": {
      "text/plain": [
       "array([ 0.        ,  0.84147098,  0.90929743,  0.14112001, -0.7568025 ,\n",
       "       -0.95892427, -0.2794155 ,  0.6569866 ,  0.98935825,  0.41211849])"
      ]
     },
     "execution_count": 204,
     "metadata": {},
     "output_type": "execute_result"
    }
   ],
   "source": [
    "np.sin(k)"
   ]
  },
  {
   "cell_type": "markdown",
   "id": "e3b3dbcf-f400-4c33-9366-1bbc2338518e",
   "metadata": {},
   "source": [
    "sigmoid\n"
   ]
  },
  {
   "cell_type": "code",
   "execution_count": 205,
   "id": "7313fd46-2e01-4fb9-afe8-3c6364fc95f6",
   "metadata": {},
   "outputs": [
    {
     "data": {
      "text/plain": [
       "array([0.5       , 0.73105858, 0.88079708, 0.95257413, 0.98201379,\n",
       "       0.99330715, 0.99752738, 0.99908895, 0.99966465, 0.99987661])"
      ]
     },
     "execution_count": 205,
     "metadata": {},
     "output_type": "execute_result"
    }
   ],
   "source": [
    "def sigmoid(array):\n",
    "    return 1/(1+np.exp(-(array)))\n",
    "    k = np.arange(10)\n",
    "sigmoid(k)"
   ]
  },
  {
   "cell_type": "code",
   "execution_count": 206,
   "id": "3860ee29-d35f-4a41-a463-d4b4c1be3b90",
   "metadata": {},
   "outputs": [
    {
     "data": {
      "text/plain": [
       "array([0.5       , 0.73105858, 0.88079708, 0.95257413, 0.98201379,\n",
       "       0.99330715, 0.99752738, 0.99908895, 0.99966465, 0.99987661,\n",
       "       0.9999546 , 0.9999833 , 0.99999386, 0.99999774, 0.99999917,\n",
       "       0.99999969, 0.99999989, 0.99999996, 0.99999998, 0.99999999,\n",
       "       1.        , 1.        , 1.        , 1.        , 1.        ,\n",
       "       1.        , 1.        , 1.        , 1.        , 1.        ,\n",
       "       1.        , 1.        , 1.        , 1.        , 1.        ,\n",
       "       1.        , 1.        , 1.        , 1.        , 1.        ,\n",
       "       1.        , 1.        , 1.        , 1.        , 1.        ,\n",
       "       1.        , 1.        , 1.        , 1.        , 1.        ,\n",
       "       1.        , 1.        , 1.        , 1.        , 1.        ,\n",
       "       1.        , 1.        , 1.        , 1.        , 1.        ,\n",
       "       1.        , 1.        , 1.        , 1.        , 1.        ,\n",
       "       1.        , 1.        , 1.        , 1.        , 1.        ,\n",
       "       1.        , 1.        , 1.        , 1.        , 1.        ,\n",
       "       1.        , 1.        , 1.        , 1.        , 1.        ,\n",
       "       1.        , 1.        , 1.        , 1.        , 1.        ,\n",
       "       1.        , 1.        , 1.        , 1.        , 1.        ,\n",
       "       1.        , 1.        , 1.        , 1.        , 1.        ,\n",
       "       1.        , 1.        , 1.        , 1.        , 1.        ])"
      ]
     },
     "execution_count": 206,
     "metadata": {},
     "output_type": "execute_result"
    }
   ],
   "source": [
    "k = np.arange(100)\n",
    "sigmoid(k)"
   ]
  },
  {
   "cell_type": "markdown",
   "id": "5e93e272-d800-4d23-ae3f-25aeba90ffc9",
   "metadata": {},
   "source": [
    "mean squared error"
   ]
  },
  {
   "cell_type": "code",
   "execution_count": 207,
   "id": "ac280586-9a72-4d97-b55a-20d7e331d84d",
   "metadata": {},
   "outputs": [],
   "source": [
    "actual = np.random.randint(1,50,25)\n",
    "predicted = np.random.randint(1,50,25)"
   ]
  },
  {
   "cell_type": "code",
   "execution_count": 208,
   "id": "996996f4-6acc-4943-b7ca-05b89caae006",
   "metadata": {},
   "outputs": [
    {
     "data": {
      "text/plain": [
       "array([34, 29, 26,  1, 20, 35, 43, 30, 11, 14, 16, 10, 26, 45, 42, 16,  4,\n",
       "       47, 19, 37, 46, 22,  8, 24, 28], dtype=int32)"
      ]
     },
     "execution_count": 208,
     "metadata": {},
     "output_type": "execute_result"
    }
   ],
   "source": [
    "actual"
   ]
  },
  {
   "cell_type": "code",
   "execution_count": 209,
   "id": "381dbcb1-7ccf-4cd9-a635-00fdfa1000cf",
   "metadata": {},
   "outputs": [
    {
     "data": {
      "text/plain": [
       "array([45, 26, 24, 18, 47,  2, 12, 31, 16, 21, 37, 15, 25, 47, 22, 47,  8,\n",
       "       44, 43, 22, 20, 27, 45, 29, 23], dtype=int32)"
      ]
     },
     "execution_count": 209,
     "metadata": {},
     "output_type": "execute_result"
    }
   ],
   "source": [
    "predicted"
   ]
  },
  {
   "cell_type": "code",
   "execution_count": 210,
   "id": "d0300147-5349-40a0-b049-d3dc7c27c5d4",
   "metadata": {},
   "outputs": [
    {
     "data": {
      "text/plain": [
       "np.float64(322.2)"
      ]
     },
     "execution_count": 210,
     "metadata": {},
     "output_type": "execute_result"
    }
   ],
   "source": [
    "def mse(actual,predicted):\n",
    "    return np.mean((actual-predicted)**2)\n",
    "mse(actual,predicted)"
   ]
  },
  {
   "cell_type": "code",
   "execution_count": 211,
   "id": "9e19952a-beee-40c2-b491-85879be408ac",
   "metadata": {},
   "outputs": [
    {
     "data": {
      "text/plain": [
       "array([-11,   3,   2, -17, -27,  33,  31,  -1,  -5,  -7, -21,  -5,   1,\n",
       "        -2,  20, -31,  -4,   3, -24,  15,  26,  -5, -37,  -5,   5],\n",
       "      dtype=int32)"
      ]
     },
     "execution_count": 211,
     "metadata": {},
     "output_type": "execute_result"
    }
   ],
   "source": [
    "# detailed\n",
    "actual-predicted"
   ]
  },
  {
   "cell_type": "code",
   "execution_count": 212,
   "id": "49426f23-698b-4133-a8ce-df77c228de56",
   "metadata": {},
   "outputs": [
    {
     "data": {
      "text/plain": [
       "array([ 121,    9,    4,  289,  729, 1089,  961,    1,   25,   49,  441,\n",
       "         25,    1,    4,  400,  961,   16,    9,  576,  225,  676,   25,\n",
       "       1369,   25,   25], dtype=int32)"
      ]
     },
     "execution_count": 212,
     "metadata": {},
     "output_type": "execute_result"
    }
   ],
   "source": [
    "(actual-predicted)**2"
   ]
  },
  {
   "cell_type": "code",
   "execution_count": 213,
   "id": "e414042b-a934-4a5c-bd09-fca7f266c648",
   "metadata": {},
   "outputs": [
    {
     "data": {
      "text/plain": [
       "np.float64(322.2)"
      ]
     },
     "execution_count": 213,
     "metadata": {},
     "output_type": "execute_result"
    }
   ],
   "source": [
    "np.mean((actual-predicted)**2)"
   ]
  },
  {
   "cell_type": "markdown",
   "id": "80b544ce-af71-41d6-8b3f-0006eb4cf35b",
   "metadata": {},
   "source": [
    "Working with Missing Values"
   ]
  },
  {
   "cell_type": "code",
   "execution_count": 214,
   "id": "c0c15852-d837-43c7-9923-b5ae6146ddaa",
   "metadata": {},
   "outputs": [
    {
     "data": {
      "text/plain": [
       "array([ 1.,  2.,  3.,  4., nan,  6.])"
      ]
     },
     "execution_count": 214,
     "metadata": {},
     "output_type": "execute_result"
    }
   ],
   "source": [
    "# working with missing values -> np.nan\n",
    "s = np.array([1,2,3,4,np.nan,6])\n",
    "s"
   ]
  },
  {
   "cell_type": "code",
   "execution_count": 215,
   "id": "aacb0c8e-b6a2-4f06-938e-5d56b1c4c4b0",
   "metadata": {},
   "outputs": [
    {
     "data": {
      "text/plain": [
       "array([False, False, False, False,  True, False])"
      ]
     },
     "execution_count": 215,
     "metadata": {},
     "output_type": "execute_result"
    }
   ],
   "source": [
    "np.isnan(s)"
   ]
  },
  {
   "cell_type": "code",
   "execution_count": 217,
   "id": "cda40ebb-24a1-4057-b2f3-dd2b4fad3278",
   "metadata": {},
   "outputs": [
    {
     "data": {
      "text/plain": [
       "array([nan])"
      ]
     },
     "execution_count": 217,
     "metadata": {},
     "output_type": "execute_result"
    }
   ],
   "source": [
    "s[np.isnan(s)]"
   ]
  },
  {
   "cell_type": "code",
   "execution_count": 218,
   "id": "b2eb9364-2df6-4792-b66c-c54fad651b5a",
   "metadata": {},
   "outputs": [
    {
     "data": {
      "text/plain": [
       "array([1., 2., 3., 4., 6.])"
      ]
     },
     "execution_count": 218,
     "metadata": {},
     "output_type": "execute_result"
    }
   ],
   "source": [
    "s[~np.isnan(s)]"
   ]
  },
  {
   "cell_type": "markdown",
   "id": "15927b24-e9b1-4201-9a58-7f2f725160f2",
   "metadata": {},
   "source": [
    "Plotting Graphs"
   ]
  },
  {
   "cell_type": "code",
   "execution_count": 219,
   "id": "39bb9c9c-09c8-4940-81d3-cfda7865ee91",
   "metadata": {},
   "outputs": [
    {
     "data": {
      "text/plain": [
       "array([-10.        ,  -9.7979798 ,  -9.5959596 ,  -9.39393939,\n",
       "        -9.19191919,  -8.98989899,  -8.78787879,  -8.58585859,\n",
       "        -8.38383838,  -8.18181818,  -7.97979798,  -7.77777778,\n",
       "        -7.57575758,  -7.37373737,  -7.17171717,  -6.96969697,\n",
       "        -6.76767677,  -6.56565657,  -6.36363636,  -6.16161616,\n",
       "        -5.95959596,  -5.75757576,  -5.55555556,  -5.35353535,\n",
       "        -5.15151515,  -4.94949495,  -4.74747475,  -4.54545455,\n",
       "        -4.34343434,  -4.14141414,  -3.93939394,  -3.73737374,\n",
       "        -3.53535354,  -3.33333333,  -3.13131313,  -2.92929293,\n",
       "        -2.72727273,  -2.52525253,  -2.32323232,  -2.12121212,\n",
       "        -1.91919192,  -1.71717172,  -1.51515152,  -1.31313131,\n",
       "        -1.11111111,  -0.90909091,  -0.70707071,  -0.50505051,\n",
       "        -0.3030303 ,  -0.1010101 ,   0.1010101 ,   0.3030303 ,\n",
       "         0.50505051,   0.70707071,   0.90909091,   1.11111111,\n",
       "         1.31313131,   1.51515152,   1.71717172,   1.91919192,\n",
       "         2.12121212,   2.32323232,   2.52525253,   2.72727273,\n",
       "         2.92929293,   3.13131313,   3.33333333,   3.53535354,\n",
       "         3.73737374,   3.93939394,   4.14141414,   4.34343434,\n",
       "         4.54545455,   4.74747475,   4.94949495,   5.15151515,\n",
       "         5.35353535,   5.55555556,   5.75757576,   5.95959596,\n",
       "         6.16161616,   6.36363636,   6.56565657,   6.76767677,\n",
       "         6.96969697,   7.17171717,   7.37373737,   7.57575758,\n",
       "         7.77777778,   7.97979798,   8.18181818,   8.38383838,\n",
       "         8.58585859,   8.78787879,   8.98989899,   9.19191919,\n",
       "         9.39393939,   9.5959596 ,   9.7979798 ,  10.        ])"
      ]
     },
     "execution_count": 219,
     "metadata": {},
     "output_type": "execute_result"
    }
   ],
   "source": [
    "# plotting a 2D plot\n",
    "# x = y\n",
    "x = np.linspace(-10,10,100)\n",
    "x"
   ]
  },
  {
   "cell_type": "code",
   "execution_count": 220,
   "id": "f7481a09-e7b8-46aa-b8cf-ed84408908c8",
   "metadata": {},
   "outputs": [],
   "source": [
    "y = x"
   ]
  },
  {
   "cell_type": "code",
   "execution_count": 221,
   "id": "314de24a-70bd-4ac7-a73c-1307616cc102",
   "metadata": {},
   "outputs": [
    {
     "data": {
      "text/plain": [
       "array([-10.        ,  -9.7979798 ,  -9.5959596 ,  -9.39393939,\n",
       "        -9.19191919,  -8.98989899,  -8.78787879,  -8.58585859,\n",
       "        -8.38383838,  -8.18181818,  -7.97979798,  -7.77777778,\n",
       "        -7.57575758,  -7.37373737,  -7.17171717,  -6.96969697,\n",
       "        -6.76767677,  -6.56565657,  -6.36363636,  -6.16161616,\n",
       "        -5.95959596,  -5.75757576,  -5.55555556,  -5.35353535,\n",
       "        -5.15151515,  -4.94949495,  -4.74747475,  -4.54545455,\n",
       "        -4.34343434,  -4.14141414,  -3.93939394,  -3.73737374,\n",
       "        -3.53535354,  -3.33333333,  -3.13131313,  -2.92929293,\n",
       "        -2.72727273,  -2.52525253,  -2.32323232,  -2.12121212,\n",
       "        -1.91919192,  -1.71717172,  -1.51515152,  -1.31313131,\n",
       "        -1.11111111,  -0.90909091,  -0.70707071,  -0.50505051,\n",
       "        -0.3030303 ,  -0.1010101 ,   0.1010101 ,   0.3030303 ,\n",
       "         0.50505051,   0.70707071,   0.90909091,   1.11111111,\n",
       "         1.31313131,   1.51515152,   1.71717172,   1.91919192,\n",
       "         2.12121212,   2.32323232,   2.52525253,   2.72727273,\n",
       "         2.92929293,   3.13131313,   3.33333333,   3.53535354,\n",
       "         3.73737374,   3.93939394,   4.14141414,   4.34343434,\n",
       "         4.54545455,   4.74747475,   4.94949495,   5.15151515,\n",
       "         5.35353535,   5.55555556,   5.75757576,   5.95959596,\n",
       "         6.16161616,   6.36363636,   6.56565657,   6.76767677,\n",
       "         6.96969697,   7.17171717,   7.37373737,   7.57575758,\n",
       "         7.77777778,   7.97979798,   8.18181818,   8.38383838,\n",
       "         8.58585859,   8.78787879,   8.98989899,   9.19191919,\n",
       "         9.39393939,   9.5959596 ,   9.7979798 ,  10.        ])"
      ]
     },
     "execution_count": 221,
     "metadata": {},
     "output_type": "execute_result"
    }
   ],
   "source": [
    "y"
   ]
  },
  {
   "cell_type": "code",
   "execution_count": 222,
   "id": "8827c03d-df0d-459e-940a-379fb1efd5f7",
   "metadata": {},
   "outputs": [],
   "source": [
    "import matplotlib.pyplot as plt"
   ]
  },
  {
   "cell_type": "code",
   "execution_count": 223,
   "id": "8685f00e-e6a0-45dd-837e-b4f7962279e5",
   "metadata": {},
   "outputs": [
    {
     "data": {
      "text/plain": [
       "[<matplotlib.lines.Line2D at 0x28921bc2210>]"
      ]
     },
     "execution_count": 223,
     "metadata": {},
     "output_type": "execute_result"
    },
    {
     "data": {
      "image/png": "[encoded data removed]",
      "text/plain": [
       "<Figure size 640x480 with 1 Axes>"
      ]
     },
     "metadata": {},
     "output_type": "display_data"
    }
   ],
   "source": [
    "plt.plot(x,y)"
   ]
  },
  {
   "cell_type": "code",
   "execution_count": 224,
   "id": "2d740462-0535-4ab4-a954-a8a53a9922b2",
   "metadata": {},
   "outputs": [
    {
     "data": {
      "text/plain": [
       "[<matplotlib.lines.Line2D at 0x28923de4e10>]"
      ]
     },
     "execution_count": 224,
     "metadata": {},
     "output_type": "execute_result"
    },
    {
     "data": {
      "image/png": "[encoded data removed]",
      "text/plain": [
       "<Figure size 640x480 with 1 Axes>"
      ]
     },
     "metadata": {},
     "output_type": "display_data"
    }
   ],
   "source": [
    "# y = x^2\n",
    "x = np.linspace(-10,10,100)\n",
    "y = x**2\n",
    "plt.plot(x,y)"
   ]
  },
  {
   "cell_type": "code",
   "execution_count": 225,
   "id": "0b345c81-0ab6-4039-8596-b0fb6442c405",
   "metadata": {},
   "outputs": [
    {
     "data": {
      "text/plain": [
       "[<matplotlib.lines.Line2D at 0x28923e64cd0>]"
      ]
     },
     "execution_count": 225,
     "metadata": {},
     "output_type": "execute_result"
    },
    {
     "data": {
      "image/png": "[encoded data removed]",
      "text/plain": [
       "<Figure size 640x480 with 1 Axes>"
      ]
     },
     "metadata": {},
     "output_type": "display_data"
    }
   ],
   "source": [
    "# y = sin(x)\n",
    "x = np.linspace(-10,10,100)\n",
    "y = np.sin(x)\n",
    "plt.plot(x,y)"
   ]
  },
  {
   "cell_type": "code",
   "execution_count": 226,
   "id": "568b762f-0b13-454a-a5d2-0f4c7b5adaa7",
   "metadata": {},
   "outputs": [
    {
     "name": "stderr",
     "output_type": "stream",
     "text": [
      "C:\\Users\\Tejas\\AppData\\Local\\Temp\\ipykernel_8452\\1315729871.py:3: RuntimeWarning: invalid value encountered in log\n",
      "  y = x*np.log(x)\n"
     ]
    },
    {
     "data": {
      "text/plain": [
       "[<matplotlib.lines.Line2D at 0x2894c2d3250>]"
      ]
     },
     "execution_count": 226,
     "metadata": {},
     "output_type": "execute_result"
    },
    {
     "data": {
      "image/png": "[encoded data removed]",
      "text/plain": [
       "<Figure size 640x480 with 1 Axes>"
      ]
     },
     "metadata": {},
     "output_type": "display_data"
    }
   ],
   "source": [
    "# y = xlog(x)\n",
    "x = np.linspace(-10,10,100)\n",
    "y = x*np.log(x)\n",
    "plt.plot(x,y)"
   ]
  },
  {
   "cell_type": "code",
   "execution_count": 227,
   "id": "dde4f8a3-4237-4671-91ae-ba282ba89db1",
   "metadata": {},
   "outputs": [
    {
     "data": {
      "text/plain": [
       "[<matplotlib.lines.Line2D at 0x28923f3e350>]"
      ]
     },
     "execution_count": 227,
     "metadata": {},
     "output_type": "execute_result"
    },
    {
     "data": {
      "image/png": "[encoded data removed]",
      "text/plain": [
       "<Figure size 640x480 with 1 Axes>"
      ]
     },
     "metadata": {},
     "output_type": "display_data"
    }
   ],
   "source": [
    "# sigmoid\n",
    "x = np.linspace(-10,10,100)\n",
    "y = 1/(1+np.exp(-x))\n",
    "plt.plot(x,y)"
   ]
  },
  {
   "cell_type": "code",
   "execution_count": 228,
   "id": "ce5a65be-bb8d-4d77-a130-2f3ee2f70798",
   "metadata": {},
   "outputs": [],
   "source": [
    "import numpy as np\n",
    "import matplotlib.pyplot as plt"
   ]
  },
  {
   "cell_type": "markdown",
   "id": "9d962003-1e82-4035-a5e9-3a89fbda6701",
   "metadata": {},
   "source": [
    "Meshgrid\n"
   ]
  },
  {
   "cell_type": "markdown",
   "id": "745791df-c0f9-4b7a-ad58-ac185d30b21b",
   "metadata": {},
   "source": [
    "Meshgrids are a way to create coordinate matrices from coordinate vectors. In NumPy,"
   ]
  },
  {
   "cell_type": "markdown",
   "id": "fb48577a-2fb9-423a-b5c2-52a25d6c483e",
   "metadata": {},
   "source": [
    "the meshgrid function is used to generate a coordinate grid given 1D coordinate arrays. It\n",
    "produces two 2D arrays representing the x and y coordinates of each point on the grid\n"
   ]
  },
  {
   "cell_type": "markdown",
   "id": "1e6fcfe7-e6b0-4594-a9a8-5348af1ebc63",
   "metadata": {},
   "source": [
    "The np.meshgrid function is used primarily for"
   ]
  },
  {
   "cell_type": "markdown",
   "id": "f5dfbf24-33c8-469c-b861-23861fbe75f7",
   "metadata": {},
   "source": [
    "Creating/Plotting 2D functions f(x,y)"
   ]
  },
  {
   "cell_type": "markdown",
   "id": "f44ae19d-dca8-44d5-b86b-dcb0d56904d2",
   "metadata": {},
   "source": [
    "Generating combinations of 2 or more numbers"
   ]
  },
  {
   "cell_type": "markdown",
   "id": "0b28d858-a038-475f-95a7-9615e706cab1",
   "metadata": {},
   "source": [
    "Example: How you might think to create a 2D function f(x,y)"
   ]
  },
  {
   "cell_type": "code",
   "execution_count": 229,
   "id": "cd8fad71-48d1-4f9e-aab1-61ad89cc2fed",
   "metadata": {},
   "outputs": [],
   "source": [
    "x = np.linspace(0,10,100)\n",
    "y = np.linspace(0,10,100)"
   ]
  },
  {
   "cell_type": "markdown",
   "id": "bec8fe5a-0aab-4af4-a8d1-e3b880e97c68",
   "metadata": {},
   "source": [
    "Try to create 2D function\n"
   ]
  },
  {
   "cell_type": "code",
   "execution_count": 230,
   "id": "a81cab18-3e02-4630-b8a0-28292e03b006",
   "metadata": {},
   "outputs": [],
   "source": [
    "f = x**2 + y**2"
   ]
  },
  {
   "cell_type": "markdown",
   "id": "881f4040-e083-4f5c-87d0-0f4000e844e2",
   "metadata": {},
   "source": [
    "Plot\n"
   ]
  },
  {
   "cell_type": "code",
   "execution_count": 231,
   "id": "3e8b90a0-2bb4-457a-baaf-4fa83ba876c3",
   "metadata": {},
   "outputs": [
    {
     "data": {
      "image/png": "[encoded data removed]",
      "text/plain": [
       "<Figure size 400x200 with 1 Axes>"
      ]
     },
     "metadata": {},
     "output_type": "display_data"
    }
   ],
   "source": [
    "plt.figure(figsize=(4,2))\n",
    "plt.plot(f)\n",
    "plt.show()"
   ]
  },
  {
   "cell_type": "markdown",
   "id": "be2d9a88-c335-4f3c-a413-ada588f19c35",
   "metadata": {},
   "source": [
    "But f is a 1 dimensional function! How does one generate a surface plot?"
   ]
  },
  {
   "cell_type": "code",
   "execution_count": 232,
   "id": "32861d11-246e-47f5-a348-92d589bad755",
   "metadata": {},
   "outputs": [],
   "source": [
    "x = np.arange(3)\n",
    "y = np.arange(3)"
   ]
  },
  {
   "cell_type": "code",
   "execution_count": 233,
   "id": "fdb8bc25-c766-4667-98b5-dbd6aebdd5a5",
   "metadata": {},
   "outputs": [
    {
     "data": {
      "text/plain": [
       "array([0, 1, 2])"
      ]
     },
     "execution_count": 233,
     "metadata": {},
     "output_type": "execute_result"
    }
   ],
   "source": [
    "x"
   ]
  },
  {
   "cell_type": "code",
   "execution_count": 234,
   "id": "c16f8d59-dfe4-4edd-9113-54530c5df3e2",
   "metadata": {},
   "outputs": [
    {
     "data": {
      "text/plain": [
       "array([0, 1, 2])"
      ]
     },
     "execution_count": 234,
     "metadata": {},
     "output_type": "execute_result"
    }
   ],
   "source": [
    "y"
   ]
  },
  {
   "cell_type": "markdown",
   "id": "f5b84996-3c5e-4372-8536-68788798ab3f",
   "metadata": {},
   "source": [
    "Generating a meshgrid:\n"
   ]
  },
  {
   "cell_type": "code",
   "execution_count": 235,
   "id": "757ab71e-f17a-4ddc-ac74-b8f97a3d893c",
   "metadata": {},
   "outputs": [],
   "source": [
    "xv, yv = np.meshgrid(x,y)"
   ]
  },
  {
   "cell_type": "code",
   "execution_count": 236,
   "id": "e782bc9b-3574-4897-9ffc-e84dd08e2271",
   "metadata": {},
   "outputs": [
    {
     "data": {
      "text/plain": [
       "array([[0, 1, 2],\n",
       "       [0, 1, 2],\n",
       "       [0, 1, 2]])"
      ]
     },
     "execution_count": 236,
     "metadata": {},
     "output_type": "execute_result"
    }
   ],
   "source": [
    "xv"
   ]
  },
  {
   "cell_type": "code",
   "execution_count": 237,
   "id": "8e8acb33-e0a9-4438-a032-21e0cef54f24",
   "metadata": {},
   "outputs": [
    {
     "data": {
      "text/plain": [
       "array([[0, 0, 0],\n",
       "       [1, 1, 1],\n",
       "       [2, 2, 2]])"
      ]
     },
     "execution_count": 237,
     "metadata": {},
     "output_type": "execute_result"
    }
   ],
   "source": [
    "yv"
   ]
  },
  {
   "cell_type": "code",
   "execution_count": 238,
   "id": "26efc94b-35de-4c99-8d18-da2e23ccd0fc",
   "metadata": {},
   "outputs": [
    {
     "name": "stdout",
     "output_type": "stream",
     "text": [
      "[-4. -3. -2. -1.  0.  1.  2.  3.  4.]\n",
      "[-5. -4. -3. -2. -1.  0.  1.  2.  3.  4.  5.]\n"
     ]
    }
   ],
   "source": [
    "P = np.linspace(-4,4,9)\n",
    "V = np.linspace(-5,5,11)\n",
    "print(P)\n",
    "print(V)"
   ]
  },
  {
   "cell_type": "code",
   "execution_count": 239,
   "id": "72c5b8d4-736b-4e4c-853d-e30c3e3bd486",
   "metadata": {},
   "outputs": [],
   "source": [
    "P_1, V_1 = np.meshgrid(P,V)"
   ]
  },
  {
   "cell_type": "code",
   "execution_count": 240,
   "id": "736e6185-5ca4-403b-a19f-0fc0191a4f72",
   "metadata": {},
   "outputs": [
    {
     "name": "stdout",
     "output_type": "stream",
     "text": [
      "[[-4. -3. -2. -1.  0.  1.  2.  3.  4.]\n",
      " [-4. -3. -2. -1.  0.  1.  2.  3.  4.]\n",
      " [-4. -3. -2. -1.  0.  1.  2.  3.  4.]\n",
      " [-4. -3. -2. -1.  0.  1.  2.  3.  4.]\n",
      " [-4. -3. -2. -1.  0.  1.  2.  3.  4.]\n",
      " [-4. -3. -2. -1.  0.  1.  2.  3.  4.]\n",
      " [-4. -3. -2. -1.  0.  1.  2.  3.  4.]\n",
      " [-4. -3. -2. -1.  0.  1.  2.  3.  4.]\n",
      " [-4. -3. -2. -1.  0.  1.  2.  3.  4.]\n",
      " [-4. -3. -2. -1.  0.  1.  2.  3.  4.]\n",
      " [-4. -3. -2. -1.  0.  1.  2.  3.  4.]]\n"
     ]
    }
   ],
   "source": [
    "print(P_1)"
   ]
  },
  {
   "cell_type": "code",
   "execution_count": 241,
   "id": "40de63a1-f912-404a-9294-b41679f98adf",
   "metadata": {},
   "outputs": [
    {
     "name": "stdout",
     "output_type": "stream",
     "text": [
      "[[-5. -5. -5. -5. -5. -5. -5. -5. -5.]\n",
      " [-4. -4. -4. -4. -4. -4. -4. -4. -4.]\n",
      " [-3. -3. -3. -3. -3. -3. -3. -3. -3.]\n",
      " [-2. -2. -2. -2. -2. -2. -2. -2. -2.]\n",
      " [-1. -1. -1. -1. -1. -1. -1. -1. -1.]\n",
      " [ 0.  0.  0.  0.  0.  0.  0.  0.  0.]\n",
      " [ 1.  1.  1.  1.  1.  1.  1.  1.  1.]\n",
      " [ 2.  2.  2.  2.  2.  2.  2.  2.  2.]\n",
      " [ 3.  3.  3.  3.  3.  3.  3.  3.  3.]\n",
      " [ 4.  4.  4.  4.  4.  4.  4.  4.  4.]\n",
      " [ 5.  5.  5.  5.  5.  5.  5.  5.  5.]]\n"
     ]
    }
   ],
   "source": [
    "print(V_1)"
   ]
  },
  {
   "cell_type": "markdown",
   "id": "59220be7-d50b-4cc3-802f-bbafae7757ce",
   "metadata": {},
   "source": [
    "Numpy Meshgrid Creates Coordinates for a Grid System"
   ]
  },
  {
   "cell_type": "markdown",
   "id": "460c102c-4186-47b4-b4d5-6835eb4a1d56",
   "metadata": {},
   "source": [
    "These arrays, xv and yv, each seperately give the x and y coordinates on a 2D grid. You can do\n",
    "normal numpy operations on these arrays:\n"
   ]
  },
  {
   "cell_type": "code",
   "execution_count": 242,
   "id": "3e89f33a-b154-481e-9a7a-f61c0c3340a1",
   "metadata": {},
   "outputs": [
    {
     "data": {
      "text/plain": [
       "array([[0, 1, 4],\n",
       "       [1, 2, 5],\n",
       "       [4, 5, 8]])"
      ]
     },
     "execution_count": 242,
     "metadata": {},
     "output_type": "execute_result"
    }
   ],
   "source": [
    "xv**2 + yv**2"
   ]
  },
  {
   "cell_type": "markdown",
   "id": "45eddbf2-a5b4-42ee-96f7-4e9afa1fd5ca",
   "metadata": {},
   "source": [
    "This can be done on a larger scale to plot surface plots of 2D functions\n"
   ]
  },
  {
   "cell_type": "markdown",
   "id": "91a72c67-5e95-45bf-9b38-ce83cb808beb",
   "metadata": {},
   "source": [
    "Generate functions f(x, y) = e−(x²+y²) for −2 ≤ x ≤ 2 and −1 ≤ y ≤1\n"
   ]
  },
  {
   "cell_type": "code",
   "execution_count": 243,
   "id": "128d1358-f31a-44d7-b404-40f47fbf26e4",
   "metadata": {},
   "outputs": [],
   "source": [
    "x = np.linspace(-2,2,100)\n",
    "y = np.linspace(-1,1,100)\n",
    "xv, yv = np.meshgrid(x,y)\n",
    "f = np.exp(-xv**2-yv**2)"
   ]
  },
  {
   "cell_type": "markdown",
   "id": "93992818-a20b-436b-ab1f-13a9eddb5de3",
   "metadata": {},
   "source": [
    "Note: pcolormesh is typically the preferable function for 2D plotting, as opposed to imshow or\n",
    "pcolor, which take longer.)"
   ]
  },
  {
   "cell_type": "code",
   "execution_count": 245,
   "id": "d7cb692b-f939-4c1a-9392-67fdc21154d5",
   "metadata": {},
   "outputs": [
    {
     "data": {
      "image/png": "[encoded data removed]",
      "text/plain": [
       "<Figure size 600x300 with 2 Axes>"
      ]
     },
     "metadata": {},
     "output_type": "display_data"
    }
   ],
   "source": [
    "plt.figure(figsize=(6,3))\n",
    "plt.pcolormesh(xv,yv,f,shading='auto')\n",
    "plt.colorbar()\n",
    "plt.grid()\n",
    "plt.show()"
   ]
  },
  {
   "cell_type": "markdown",
   "id": "3bed4058-561d-4ec9-ac5f-4f2eb32a01f6",
   "metadata": {},
   "source": [
    "f(x,y) = 1 & x^2+y^2 < 1 \\ 0 & x^2+y^2"
   ]
  },
  {
   "cell_type": "code",
   "execution_count": 246,
   "id": "d6b1b713-fdfb-41ee-8e66-5e4f4e6373f4",
   "metadata": {},
   "outputs": [
    {
     "data": {
      "image/png": "[encoded data removed]",
      "text/plain": [
       "<Figure size 640x480 with 2 Axes>"
      ]
     },
     "metadata": {},
     "output_type": "display_data"
    }
   ],
   "source": [
    "import numpy as np\n",
    "import matplotlib.pyplot as plt\n",
    "\n",
    "def f(x,y):\n",
    "    return np.where((x**2 + y**2 < 1), 1.0, 0.0)\n",
    "x = np.linspace(-5,5,500)\n",
    "y = np.linspace(-5,5,500)\n",
    "xv, yv = np.meshgrid(x,y)\n",
    "rectangular_mask = f(xv, yv)\n",
    "\n",
    "plt.pcolormesh(xv, yv, rectangular_mask, shading = 'auto')\n",
    "plt.colorbar()\n",
    "plt.grid()\n",
    "plt.show()"
   ]
  },
  {
   "cell_type": "code",
   "execution_count": 247,
   "id": "f395dffb-f33c-43f2-ac16-c929561edcb8",
   "metadata": {},
   "outputs": [],
   "source": [
    "# numpy linspace create an array of\n",
    "# 9 linearly placed element  between \n",
    "# -4 and 4, both inclusive\n",
    "x = np.linspace(-4,4,9)"
   ]
  },
  {
   "cell_type": "code",
   "execution_count": 248,
   "id": "6003eb65-348e-4dc7-9cce-8aee5e8cfe54",
   "metadata": {},
   "outputs": [],
   "source": [
    "y = np.linspace(-5,5,11)"
   ]
  },
  {
   "cell_type": "code",
   "execution_count": 251,
   "id": "34a21114-076d-422b-9fde-a168c63d0778",
   "metadata": {},
   "outputs": [],
   "source": [
    "x_1, y_1 = np.meshgrid(x, y)\n"
   ]
  },
  {
   "cell_type": "code",
   "execution_count": 252,
   "id": "a7cc0167-f518-440b-bc63-ed67dd469c12",
   "metadata": {},
   "outputs": [
    {
     "data": {
      "image/png": "[encoded data removed]",
      "text/plain": [
       "<Figure size 640x480 with 2 Axes>"
      ]
     },
     "metadata": {},
     "output_type": "display_data"
    }
   ],
   "source": [
    "random_data = np.random.random((11, 9))\n",
    "plt.contourf(x_1, y_1, random_data, cmap = 'jet')\n",
    "plt.colorbar()\n",
    "plt.show()"
   ]
  },
  {
   "cell_type": "code",
   "execution_count": 253,
   "id": "fcf80c6f-eff1-4055-8d70-db08365c1c44",
   "metadata": {},
   "outputs": [
    {
     "name": "stderr",
     "output_type": "stream",
     "text": [
      "C:\\Users\\Tejas\\AppData\\Local\\Temp\\ipykernel_8452\\3596300048.py:1: RuntimeWarning: invalid value encountered in divide\n",
      "  sine = (np.sin(x_1**2 + y_1**2))/(x_1**2 + y_1**2)\n"
     ]
    },
    {
     "data": {
      "image/png": "[encoded data removed]",
      "text/plain": [
       "<Figure size 640x480 with 2 Axes>"
      ]
     },
     "metadata": {},
     "output_type": "display_data"
    }
   ],
   "source": [
    "sine = (np.sin(x_1**2 + y_1**2))/(x_1**2 + y_1**2)\n",
    "plt.contourf(x_1,y_1, sine, cmap = 'jet')\n",
    "plt.colorbar()\n",
    "plt.show()"
   ]
  },
  {
   "cell_type": "markdown",
   "id": "33d39e3d-3ada-452b-a433-c25b8242931c",
   "metadata": {},
   "source": [
    "We observe that x_1 is a row repeated matrix whereas y_1 is a column repeated matrix. One\n",
    "row of x_1 and one column of y_1 is enough to determine the positions of all the points as the\n",
    "other values will get repeated over and over."
   ]
  },
  {
   "cell_type": "code",
   "execution_count": 254,
   "id": "1fe7fbd2-8bea-4b56-b515-3656a05d8fac",
   "metadata": {},
   "outputs": [],
   "source": [
    "x_1, y_1 = np.meshgrid(x,y , sparse = True)"
   ]
  },
  {
   "cell_type": "code",
   "execution_count": 255,
   "id": "0612bf90-33a8-4556-b3ea-a1be27c0832a",
   "metadata": {},
   "outputs": [
    {
     "data": {
      "text/plain": [
       "array([[-4., -3., -2., -1.,  0.,  1.,  2.,  3.,  4.]])"
      ]
     },
     "execution_count": 255,
     "metadata": {},
     "output_type": "execute_result"
    }
   ],
   "source": [
    "x_1"
   ]
  },
  {
   "cell_type": "code",
   "execution_count": 256,
   "id": "14ff9d39-b363-4635-a6a6-98e728875a07",
   "metadata": {},
   "outputs": [
    {
     "data": {
      "text/plain": [
       "array([[-5.],\n",
       "       [-4.],\n",
       "       [-3.],\n",
       "       [-2.],\n",
       "       [-1.],\n",
       "       [ 0.],\n",
       "       [ 1.],\n",
       "       [ 2.],\n",
       "       [ 3.],\n",
       "       [ 4.],\n",
       "       [ 5.]])"
      ]
     },
     "execution_count": 256,
     "metadata": {},
     "output_type": "execute_result"
    }
   ],
   "source": [
    "y_1"
   ]
  },
  {
   "cell_type": "markdown",
   "id": "ec4d7135-ba82-463f-b6f4-f215adda0ea4",
   "metadata": {},
   "source": [
    "The shape of x_1 changed from (11, 9) to (1, 9) and that of y_1 changed from (11, 9) to (11, 1)\n",
    "The indexing of Matrix is however different.Actually, it is the exact opposite of Cartesian\n",
    "indexing."
   ]
  },
  {
   "cell_type": "markdown",
   "id": "c97542b8-0b16-44e5-9263-91cc91078ec5",
   "metadata": {},
   "source": [
    "np.sort\n"
   ]
  },
  {
   "cell_type": "markdown",
   "id": "14332c35-eb4f-4942-a0f3-93d1f3ee6fa3",
   "metadata": {},
   "source": [
    "Return a sorted copy of an array."
   ]
  },
  {
   "cell_type": "code",
   "execution_count": 257,
   "id": "82cce387-4ea0-40db-91c3-9fa5c34f0a99",
   "metadata": {},
   "outputs": [
    {
     "data": {
      "text/plain": [
       "array([13, 92, 91, 13, 40, 33, 77, 94, 93, 43, 40, 56, 76, 63, 16],\n",
       "      dtype=int32)"
      ]
     },
     "execution_count": 257,
     "metadata": {},
     "output_type": "execute_result"
    }
   ],
   "source": [
    "a = np.random.randint(1,100,15) # 1D\n",
    "a"
   ]
  },
  {
   "cell_type": "code",
   "execution_count": 259,
   "id": "d2c619d5-a018-49b3-bc31-41a43e98a4c4",
   "metadata": {},
   "outputs": [
    {
     "data": {
      "text/plain": [
       "array([13, 13, 16, 33, 40, 40, 43, 56, 63, 76, 77, 91, 92, 93, 94],\n",
       "      dtype=int32)"
      ]
     },
     "execution_count": 259,
     "metadata": {},
     "output_type": "execute_result"
    }
   ],
   "source": [
    "np.sort(a)"
   ]
  },
  {
   "cell_type": "code",
   "execution_count": 260,
   "id": "0b793621-db61-49dc-bc6c-ec71aa7294a4",
   "metadata": {},
   "outputs": [
    {
     "data": {
      "text/plain": [
       "array([94, 93, 92, 91, 77, 76, 63, 56, 43, 40, 40, 33, 16, 13, 13],\n",
       "      dtype=int32)"
      ]
     },
     "execution_count": 260,
     "metadata": {},
     "output_type": "execute_result"
    }
   ],
   "source": [
    "np.sort(a)[::-1]"
   ]
  },
  {
   "cell_type": "code",
   "execution_count": 261,
   "id": "7de8cf6b-ff4f-42c4-aaac-d01f992f1119",
   "metadata": {},
   "outputs": [
    {
     "data": {
      "text/plain": [
       "array([[0, 1],\n",
       "       [2, 3]])"
      ]
     },
     "execution_count": 261,
     "metadata": {},
     "output_type": "execute_result"
    }
   ],
   "source": [
    "np.sort(b)"
   ]
  },
  {
   "cell_type": "code",
   "execution_count": 262,
   "id": "61330a35-de3f-4008-9c20-a30aa52bd9ce",
   "metadata": {},
   "outputs": [
    {
     "data": {
      "text/plain": [
       "array([[0, 1],\n",
       "       [2, 3]])"
      ]
     },
     "execution_count": 262,
     "metadata": {},
     "output_type": "execute_result"
    }
   ],
   "source": [
    "np.sort(b,axis=0)"
   ]
  },
  {
   "cell_type": "markdown",
   "id": "b0171e2a-2faf-45c5-a600-0ba7d39896ed",
   "metadata": {},
   "source": [
    "np.append"
   ]
  },
  {
   "cell_type": "markdown",
   "id": "bbf6b418-e9e7-4711-b606-e3df50a38cf1",
   "metadata": {},
   "source": [
    "The numpy.append() appends values along the mentioned axis at the end of the array"
   ]
  },
  {
   "cell_type": "code",
   "execution_count": 263,
   "id": "d83b13aa-7564-4dd9-b8bc-2b51fb18ce34",
   "metadata": {},
   "outputs": [
    {
     "data": {
      "text/plain": [
       "array([13, 92, 91, 13, 40, 33, 77, 94, 93, 43, 40, 56, 76, 63, 16],\n",
       "      dtype=int32)"
      ]
     },
     "execution_count": 263,
     "metadata": {},
     "output_type": "execute_result"
    }
   ],
   "source": [
    "a"
   ]
  },
  {
   "cell_type": "code",
   "execution_count": 264,
   "id": "6813b21f-eb42-4dc1-9fee-5f1b96364754",
   "metadata": {},
   "outputs": [
    {
     "data": {
      "text/plain": [
       "array([ 13,  92,  91,  13,  40,  33,  77,  94,  93,  43,  40,  56,  76,\n",
       "        63,  16, 200])"
      ]
     },
     "execution_count": 264,
     "metadata": {},
     "output_type": "execute_result"
    }
   ],
   "source": [
    "np.append(a,200)"
   ]
  },
  {
   "cell_type": "code",
   "execution_count": 265,
   "id": "d4e8b429-1393-4791-b3ba-e73d29438b08",
   "metadata": {},
   "outputs": [
    {
     "data": {
      "text/plain": [
       "array([[0, 1],\n",
       "       [2, 3]])"
      ]
     },
     "execution_count": 265,
     "metadata": {},
     "output_type": "execute_result"
    }
   ],
   "source": [
    "b"
   ]
  },
  {
   "cell_type": "code",
   "execution_count": 266,
   "id": "abbc1a5e-88f5-490c-80fc-30a079a70d9b",
   "metadata": {},
   "outputs": [
    {
     "data": {
      "text/plain": [
       "array([0., 1., 2., 3., 1., 1.])"
      ]
     },
     "execution_count": 266,
     "metadata": {},
     "output_type": "execute_result"
    }
   ],
   "source": [
    "np.append(b, np.ones((b.shape[0],1)))"
   ]
  },
  {
   "cell_type": "code",
   "execution_count": 267,
   "id": "c8c5247c-71dc-4454-92a5-471a9c38b20f",
   "metadata": {},
   "outputs": [
    {
     "data": {
      "text/plain": [
       "array([[0., 1., 1.],\n",
       "       [2., 3., 1.]])"
      ]
     },
     "execution_count": 267,
     "metadata": {},
     "output_type": "execute_result"
    }
   ],
   "source": [
    "np.append(b,np.ones((b.shape[0],1)),axis=1)\n"
   ]
  },
  {
   "cell_type": "code",
   "execution_count": 268,
   "id": "0a693b10-1046-410a-92d3-4ef26149d018",
   "metadata": {},
   "outputs": [
    {
     "data": {
      "text/plain": [
       "array([[0.        , 1.        , 0.06446921],\n",
       "       [2.        , 3.        , 0.95616592]])"
      ]
     },
     "execution_count": 268,
     "metadata": {},
     "output_type": "execute_result"
    }
   ],
   "source": [
    "np.append(b,np.random.random((b.shape[0],1)),axis=1)"
   ]
  },
  {
   "cell_type": "markdown",
   "id": "0e9a724a-ed43-4af3-8b67-e5a0cf0fa766",
   "metadata": {},
   "source": [
    "np.concatenate"
   ]
  },
  {
   "cell_type": "markdown",
   "id": "dcbc2501-f6b0-41a9-801d-1d31573699a1",
   "metadata": {},
   "source": [
    "numpy.concatenate() function concatenate a sequence of arrays along an existing axis."
   ]
  },
  {
   "cell_type": "code",
   "execution_count": 269,
   "id": "bc9a7716-cd81-492b-b3cc-6228e71de399",
   "metadata": {},
   "outputs": [],
   "source": [
    "# code\n",
    "c = np.arange(6).reshape(2,3)\n",
    "d = np.arange(6,12).reshape(2,3)"
   ]
  },
  {
   "cell_type": "code",
   "execution_count": 270,
   "id": "35fbe14b-4355-4dbe-ba9e-8fe446f4ef1e",
   "metadata": {},
   "outputs": [
    {
     "data": {
      "text/plain": [
       "array([[0, 1, 2],\n",
       "       [3, 4, 5]])"
      ]
     },
     "execution_count": 270,
     "metadata": {},
     "output_type": "execute_result"
    }
   ],
   "source": [
    "c"
   ]
  },
  {
   "cell_type": "code",
   "execution_count": 271,
   "id": "8f6a06a6-0b7e-407c-829a-a1b01424f0de",
   "metadata": {},
   "outputs": [
    {
     "data": {
      "text/plain": [
       "array([[ 6,  7,  8],\n",
       "       [ 9, 10, 11]])"
      ]
     },
     "execution_count": 271,
     "metadata": {},
     "output_type": "execute_result"
    }
   ],
   "source": [
    "d"
   ]
  },
  {
   "cell_type": "markdown",
   "id": "5b06c214-e636-465e-8dc9-fd5ccb752951",
   "metadata": {},
   "source": [
    "we can use it replacement of vstack and hstack\n"
   ]
  },
  {
   "cell_type": "code",
   "execution_count": 272,
   "id": "662925ff-b88a-4a71-bb8e-d9e084e19d95",
   "metadata": {},
   "outputs": [
    {
     "data": {
      "text/plain": [
       "array([[ 0,  1,  2],\n",
       "       [ 3,  4,  5],\n",
       "       [ 6,  7,  8],\n",
       "       [ 9, 10, 11]])"
      ]
     },
     "execution_count": 272,
     "metadata": {},
     "output_type": "execute_result"
    }
   ],
   "source": [
    "np.concatenate((c,d)) # row wise"
   ]
  },
  {
   "cell_type": "code",
   "execution_count": 273,
   "id": "57203cd0-6590-4c24-b865-df1180f43a78",
   "metadata": {},
   "outputs": [
    {
     "data": {
      "text/plain": [
       "array([[ 0,  1,  2,  6,  7,  8],\n",
       "       [ 3,  4,  5,  9, 10, 11]])"
      ]
     },
     "execution_count": 273,
     "metadata": {},
     "output_type": "execute_result"
    }
   ],
   "source": [
    "np.concatenate((c,d), axis = 1) # column wise"
   ]
  },
  {
   "cell_type": "markdown",
   "id": "5ab59e09-f6b6-4e92-892b-12a28eeea8c2",
   "metadata": {},
   "source": [
    "np.unique"
   ]
  },
  {
   "cell_type": "markdown",
   "id": "b91a634b-d011-4281-8eda-8b1424564fad",
   "metadata": {},
   "source": [
    "With the help of np.unique() method, we can get the unique values from an array given as\n",
    "parameter in np.unique() method."
   ]
  },
  {
   "cell_type": "code",
   "execution_count": 274,
   "id": "d956f4d9-ce3b-48f9-9769-c60efaee1730",
   "metadata": {},
   "outputs": [],
   "source": [
    "e = np.array([1,1,2,2,3,3,4,4,5,5,6,6])"
   ]
  },
  {
   "cell_type": "code",
   "execution_count": 275,
   "id": "d0987ef1-82a9-49cf-9e54-8a2e2cadaf72",
   "metadata": {},
   "outputs": [
    {
     "data": {
      "text/plain": [
       "array([1, 1, 2, 2, 3, 3, 4, 4, 5, 5, 6, 6])"
      ]
     },
     "execution_count": 275,
     "metadata": {},
     "output_type": "execute_result"
    }
   ],
   "source": [
    "e"
   ]
  },
  {
   "cell_type": "code",
   "execution_count": 276,
   "id": "be8cdf59-aa78-44fe-a019-0737ea126ac1",
   "metadata": {},
   "outputs": [
    {
     "data": {
      "text/plain": [
       "array([1, 2, 3, 4, 5, 6])"
      ]
     },
     "execution_count": 276,
     "metadata": {},
     "output_type": "execute_result"
    }
   ],
   "source": [
    "np.unique(e)"
   ]
  },
  {
   "cell_type": "markdown",
   "id": "d1ea0632-5146-4c4f-9141-ebc3915050c1",
   "metadata": {},
   "source": [
    "np.expand_dims"
   ]
  },
  {
   "cell_type": "markdown",
   "id": "e3007255-fde4-486b-8646-bb8d03658d69",
   "metadata": {},
   "source": [
    "With the help of Numpy.expand_dims() method, we can get the expanded dimensions of an\n",
    "array"
   ]
  },
  {
   "cell_type": "code",
   "execution_count": 277,
   "id": "d0c30cc1-8c38-4ea2-9909-c608dee0d894",
   "metadata": {},
   "outputs": [
    {
     "data": {
      "text/plain": [
       "array([13, 92, 91, 13, 40, 33, 77, 94, 93, 43, 40, 56, 76, 63, 16],\n",
       "      dtype=int32)"
      ]
     },
     "execution_count": 277,
     "metadata": {},
     "output_type": "execute_result"
    }
   ],
   "source": [
    "a"
   ]
  },
  {
   "cell_type": "code",
   "execution_count": 278,
   "id": "95fa0331-9749-4dbd-9681-c5cdff673e5d",
   "metadata": {},
   "outputs": [
    {
     "data": {
      "text/plain": [
       "(15,)"
      ]
     },
     "execution_count": 278,
     "metadata": {},
     "output_type": "execute_result"
    }
   ],
   "source": [
    "a.shape"
   ]
  },
  {
   "cell_type": "code",
   "execution_count": 279,
   "id": "df5ec194-9652-4003-b791-88d9a400fc99",
   "metadata": {},
   "outputs": [
    {
     "data": {
      "text/plain": [
       "array([[13, 92, 91, 13, 40, 33, 77, 94, 93, 43, 40, 56, 76, 63, 16]],\n",
       "      dtype=int32)"
      ]
     },
     "execution_count": 279,
     "metadata": {},
     "output_type": "execute_result"
    }
   ],
   "source": [
    "np.expand_dims(a,axis = 0)"
   ]
  },
  {
   "cell_type": "code",
   "execution_count": 280,
   "id": "16d2c164-2bf9-4842-bb8c-815e773375b0",
   "metadata": {},
   "outputs": [
    {
     "data": {
      "text/plain": [
       "array([[13, 92, 91, 13, 40, 33, 77, 94, 93, 43, 40, 56, 76, 63, 16]],\n",
       "      dtype=int32)"
      ]
     },
     "execution_count": 280,
     "metadata": {},
     "output_type": "execute_result"
    }
   ],
   "source": [
    "np.expand_dims(a,axis=0)"
   ]
  },
  {
   "cell_type": "code",
   "execution_count": 281,
   "id": "66f012a0-ff30-4ffb-8d64-e14bcd3791c0",
   "metadata": {},
   "outputs": [
    {
     "data": {
      "text/plain": [
       "array([[13],\n",
       "       [92],\n",
       "       [91],\n",
       "       [13],\n",
       "       [40],\n",
       "       [33],\n",
       "       [77],\n",
       "       [94],\n",
       "       [93],\n",
       "       [43],\n",
       "       [40],\n",
       "       [56],\n",
       "       [76],\n",
       "       [63],\n",
       "       [16]], dtype=int32)"
      ]
     },
     "execution_count": 281,
     "metadata": {},
     "output_type": "execute_result"
    }
   ],
   "source": [
    "np.expand_dims(a,axis = 1)\n"
   ]
  },
  {
   "cell_type": "markdown",
   "id": "70aeedf7-6c50-4812-baca-23cc3f8196d5",
   "metadata": {},
   "source": [
    "We can use in row vector and Column vector ."
   ]
  },
  {
   "cell_type": "markdown",
   "id": "9f22d6d1-847c-40de-923f-123269c83657",
   "metadata": {},
   "source": [
    "expand_dims() is used to insert an addition dimension in input Tensor.\n"
   ]
  },
  {
   "cell_type": "code",
   "execution_count": 282,
   "id": "b62f69a8-5aa3-42c5-a92f-4ca3f3a03974",
   "metadata": {},
   "outputs": [
    {
     "data": {
      "text/plain": [
       "(15, 1)"
      ]
     },
     "execution_count": 282,
     "metadata": {},
     "output_type": "execute_result"
    }
   ],
   "source": [
    "np.expand_dims(a,axis = 1).shape"
   ]
  },
  {
   "cell_type": "markdown",
   "id": "5c2e5cae-ae24-4a8e-bb2c-101b47450bfa",
   "metadata": {},
   "source": [
    "np.where"
   ]
  },
  {
   "cell_type": "markdown",
   "id": "c1777766-f8ee-4400-9cab-ac6108cc8249",
   "metadata": {},
   "source": [
    "The numpy.where()function returns the indices of elements in an input array where the given\n",
    "condition is satisfied."
   ]
  },
  {
   "cell_type": "code",
   "execution_count": 283,
   "id": "323a4a06-3eb4-4f01-9b99-c1b6c7784d0c",
   "metadata": {},
   "outputs": [
    {
     "data": {
      "text/plain": [
       "array([13, 92, 91, 13, 40, 33, 77, 94, 93, 43, 40, 56, 76, 63, 16],\n",
       "      dtype=int32)"
      ]
     },
     "execution_count": 283,
     "metadata": {},
     "output_type": "execute_result"
    }
   ],
   "source": [
    "a"
   ]
  },
  {
   "cell_type": "code",
   "execution_count": 284,
   "id": "3c4cc314-f11e-466e-8270-9812e262366e",
   "metadata": {},
   "outputs": [
    {
     "data": {
      "text/plain": [
       "(array([ 1,  2,  6,  7,  8, 11, 12, 13]),)"
      ]
     },
     "execution_count": 284,
     "metadata": {},
     "output_type": "execute_result"
    }
   ],
   "source": [
    "# find all indices with value greater than 50\n",
    "np.where(a>50)"
   ]
  },
  {
   "cell_type": "markdown",
   "id": "efce400f-99d7-4666-9428-204bbf7f6eda",
   "metadata": {},
   "source": [
    "np.where( condition, True , false)"
   ]
  },
  {
   "cell_type": "code",
   "execution_count": 285,
   "id": "627f9f85-d600-436f-8cfc-143767a708ab",
   "metadata": {},
   "outputs": [
    {
     "data": {
      "text/plain": [
       "array([13,  0,  0, 13, 40, 33,  0,  0,  0, 43, 40,  0,  0,  0, 16],\n",
       "      dtype=int32)"
      ]
     },
     "execution_count": 285,
     "metadata": {},
     "output_type": "execute_result"
    }
   ],
   "source": [
    "# replace all values > 50 with 0\n",
    "np.where(a>50,0,a)"
   ]
  },
  {
   "cell_type": "code",
   "execution_count": 287,
   "id": "b89756e5-40bb-4112-a659-10c17c3de1f3",
   "metadata": {},
   "outputs": [
    {
     "data": {
      "text/plain": [
       "array([13,  0, 91, 13,  0, 33, 77,  0, 93, 43,  0,  0,  0, 63,  0],\n",
       "      dtype=int32)"
      ]
     },
     "execution_count": 287,
     "metadata": {},
     "output_type": "execute_result"
    }
   ],
   "source": [
    " # print and replace all even numbers to\n",
    "np.where(a%2 == 0,0,a)\n"
   ]
  },
  {
   "cell_type": "markdown",
   "id": "3ec265c2-412b-4f34-8d54-1ebbbb2bfa52",
   "metadata": {},
   "source": [
    "np.argmax\n"
   ]
  },
  {
   "cell_type": "markdown",
   "id": "533a5cc7-33cb-42d7-a609-d06f33f1ced6",
   "metadata": {},
   "source": [
    "The numpy.argmax() function returns indices of the max element of the array in a particular\n",
    "axis."
   ]
  },
  {
   "cell_type": "markdown",
   "id": "f0a1c229-5e7e-4a83-8c74-8c05e26312c0",
   "metadata": {},
   "source": [
    "arg = argument\n"
   ]
  },
  {
   "cell_type": "code",
   "execution_count": 288,
   "id": "30040f95-e151-409f-bce3-56c6b0f5438f",
   "metadata": {},
   "outputs": [
    {
     "data": {
      "text/plain": [
       "array([13, 92, 91, 13, 40, 33, 77, 94, 93, 43, 40, 56, 76, 63, 16],\n",
       "      dtype=int32)"
      ]
     },
     "execution_count": 288,
     "metadata": {},
     "output_type": "execute_result"
    }
   ],
   "source": [
    "a"
   ]
  },
  {
   "cell_type": "code",
   "execution_count": 289,
   "id": "c732e4be-1d9b-408c-aa10-a94e1d5abe48",
   "metadata": {},
   "outputs": [
    {
     "data": {
      "text/plain": [
       "np.int64(7)"
      ]
     },
     "execution_count": 289,
     "metadata": {},
     "output_type": "execute_result"
    }
   ],
   "source": [
    "np.argmax(a)"
   ]
  },
  {
   "cell_type": "code",
   "execution_count": 290,
   "id": "27585390-c063-4455-82b6-91649c88ab7a",
   "metadata": {},
   "outputs": [
    {
     "data": {
      "text/plain": [
       "array([[0, 1],\n",
       "       [2, 3]])"
      ]
     },
     "execution_count": 290,
     "metadata": {},
     "output_type": "execute_result"
    }
   ],
   "source": [
    "b"
   ]
  },
  {
   "cell_type": "code",
   "execution_count": 291,
   "id": "d0700682-e7d0-43cb-ade0-d2111a3af684",
   "metadata": {},
   "outputs": [
    {
     "data": {
      "text/plain": [
       "array([1, 1])"
      ]
     },
     "execution_count": 291,
     "metadata": {},
     "output_type": "execute_result"
    }
   ],
   "source": [
    "np.argmax(b,axis=1)"
   ]
  },
  {
   "cell_type": "code",
   "execution_count": 292,
   "id": "68ff3884-4323-4d85-b0d6-9e6de5eb03b6",
   "metadata": {},
   "outputs": [
    {
     "data": {
      "text/plain": [
       "array([1, 1])"
      ]
     },
     "execution_count": 292,
     "metadata": {},
     "output_type": "execute_result"
    }
   ],
   "source": [
    "np.argmax(b,axis=0)"
   ]
  },
  {
   "cell_type": "code",
   "execution_count": 293,
   "id": "0a3cc5b6-3bab-4a73-a73e-8bffb324e6b5",
   "metadata": {},
   "outputs": [
    {
     "data": {
      "text/plain": [
       "array([13, 92, 91, 13, 40, 33, 77, 94, 93, 43, 40, 56, 76, 63, 16],\n",
       "      dtype=int32)"
      ]
     },
     "execution_count": 293,
     "metadata": {},
     "output_type": "execute_result"
    }
   ],
   "source": [
    "a"
   ]
  },
  {
   "cell_type": "code",
   "execution_count": 294,
   "id": "fb92d5ff-84c9-4a0a-b62d-2012fface39c",
   "metadata": {},
   "outputs": [
    {
     "data": {
      "text/plain": [
       "np.int64(0)"
      ]
     },
     "execution_count": 294,
     "metadata": {},
     "output_type": "execute_result"
    }
   ],
   "source": [
    "np.argmin(a)"
   ]
  },
  {
   "cell_type": "markdown",
   "id": "9d6a66d8-d9e5-47de-8c81-4a481a839ebc",
   "metadata": {},
   "source": [
    "On Statistics:\n"
   ]
  },
  {
   "cell_type": "markdown",
   "id": "a3240ac0-6a77-4832-b9cd-6a3516e80ccd",
   "metadata": {},
   "source": [
    "np.cumsum"
   ]
  },
  {
   "cell_type": "markdown",
   "id": "a2aad830-a74a-4feb-a882-c89875b9d11a",
   "metadata": {},
   "source": [
    "numpy.cumsum() function is used when we want to compute the cumulative sum of array\n",
    "elements over a given axis."
   ]
  },
  {
   "cell_type": "code",
   "execution_count": 295,
   "id": "1365e391-79cd-4317-8930-a3e25ee932a7",
   "metadata": {},
   "outputs": [
    {
     "data": {
      "text/plain": [
       "array([13, 92, 91, 13, 40, 33, 77, 94, 93, 43, 40, 56, 76, 63, 16],\n",
       "      dtype=int32)"
      ]
     },
     "execution_count": 295,
     "metadata": {},
     "output_type": "execute_result"
    }
   ],
   "source": [
    "a"
   ]
  },
  {
   "cell_type": "code",
   "execution_count": 296,
   "id": "b439f741-3a68-46e0-aab4-839e7b138cc8",
   "metadata": {},
   "outputs": [
    {
     "data": {
      "text/plain": [
       "array([ 13, 105, 196, 209, 249, 282, 359, 453, 546, 589, 629, 685, 761,\n",
       "       824, 840])"
      ]
     },
     "execution_count": 296,
     "metadata": {},
     "output_type": "execute_result"
    }
   ],
   "source": [
    "np.cumsum(a)"
   ]
  },
  {
   "cell_type": "code",
   "execution_count": 297,
   "id": "87233cc2-d859-47b5-8c1f-bd2c719fa2a6",
   "metadata": {},
   "outputs": [
    {
     "data": {
      "text/plain": [
       "array([[0, 1],\n",
       "       [2, 3]])"
      ]
     },
     "execution_count": 297,
     "metadata": {},
     "output_type": "execute_result"
    }
   ],
   "source": [
    "b"
   ]
  },
  {
   "cell_type": "code",
   "execution_count": 298,
   "id": "118a48f3-4d06-44fe-8d09-889c7234498d",
   "metadata": {},
   "outputs": [
    {
     "data": {
      "text/plain": [
       "array([0, 1, 3, 6])"
      ]
     },
     "execution_count": 298,
     "metadata": {},
     "output_type": "execute_result"
    }
   ],
   "source": [
    "np.cumsum(b)"
   ]
  },
  {
   "cell_type": "code",
   "execution_count": 299,
   "id": "a445b15f-fd01-4308-b949-66fb5855c002",
   "metadata": {},
   "outputs": [
    {
     "data": {
      "text/plain": [
       "array([[0, 1],\n",
       "       [2, 5]])"
      ]
     },
     "execution_count": 299,
     "metadata": {},
     "output_type": "execute_result"
    }
   ],
   "source": [
    "np.cumsum(b,axis=1)"
   ]
  },
  {
   "cell_type": "code",
   "execution_count": 300,
   "id": "d527cbd1-9433-4541-998c-7aa75b88ced1",
   "metadata": {},
   "outputs": [
    {
     "data": {
      "text/plain": [
       "array([[0, 1],\n",
       "       [2, 4]])"
      ]
     },
     "execution_count": 300,
     "metadata": {},
     "output_type": "execute_result"
    }
   ],
   "source": [
    "np.cumsum(b,axis=0)"
   ]
  },
  {
   "cell_type": "code",
   "execution_count": 301,
   "id": "8fb32c8d-d33d-4431-9ace-798c90b0a075",
   "metadata": {},
   "outputs": [
    {
     "data": {
      "text/plain": [
       "array([13, 92, 91, 13, 40, 33, 77, 94, 93, 43, 40, 56, 76, 63, 16],\n",
       "      dtype=int32)"
      ]
     },
     "execution_count": 301,
     "metadata": {},
     "output_type": "execute_result"
    }
   ],
   "source": [
    "a"
   ]
  },
  {
   "cell_type": "code",
   "execution_count": 302,
   "id": "b74d42b9-a222-409f-b445-65c81f77e1a5",
   "metadata": {},
   "outputs": [
    {
     "data": {
      "text/plain": [
       "array([                  13,                 1196,               108836,\n",
       "                    1414868,             56594720,           1867625760,\n",
       "               143807183520,       13517875250880,     1257162398331840,\n",
       "          54057983128269120,  2162319325130764800, -8037326308644032512,\n",
       "       -2094245024531267584, -2810228029502996480, -8070160324628840448])"
      ]
     },
     "execution_count": 302,
     "metadata": {},
     "output_type": "execute_result"
    }
   ],
   "source": [
    "np.cumprod(a)"
   ]
  },
  {
   "cell_type": "markdown",
   "id": "b2099f8c-40d1-4741-951e-d041e3feb3ba",
   "metadata": {},
   "source": [
    "np.percentile\n"
   ]
  },
  {
   "cell_type": "markdown",
   "id": "8231fc1e-a7d7-4979-94cd-a2fc5dd0c9d4",
   "metadata": {},
   "source": [
    "numpy.percentile()function used to compute the nth percentile of the given data (array\n",
    "elements) along the specified axis.\n"
   ]
  },
  {
   "cell_type": "code",
   "execution_count": 303,
   "id": "832123a5-411d-4433-b487-7cac0721cc0c",
   "metadata": {},
   "outputs": [
    {
     "data": {
      "text/plain": [
       "array([13, 92, 91, 13, 40, 33, 77, 94, 93, 43, 40, 56, 76, 63, 16],\n",
       "      dtype=int32)"
      ]
     },
     "execution_count": 303,
     "metadata": {},
     "output_type": "execute_result"
    }
   ],
   "source": [
    "a"
   ]
  },
  {
   "cell_type": "code",
   "execution_count": 304,
   "id": "e5041192-6396-4725-98d5-4eddf2dfba91",
   "metadata": {},
   "outputs": [
    {
     "data": {
      "text/plain": [
       "np.float64(94.0)"
      ]
     },
     "execution_count": 304,
     "metadata": {},
     "output_type": "execute_result"
    }
   ],
   "source": [
    "np.percentile(a,100)"
   ]
  },
  {
   "cell_type": "code",
   "execution_count": 305,
   "id": "51f7d5f4-64cd-4a13-8afc-186837b01f25",
   "metadata": {},
   "outputs": [
    {
     "data": {
      "text/plain": [
       "np.float64(13.0)"
      ]
     },
     "execution_count": 305,
     "metadata": {},
     "output_type": "execute_result"
    }
   ],
   "source": [
    "np.percentile(a,0)"
   ]
  },
  {
   "cell_type": "code",
   "execution_count": 306,
   "id": "1c01cc80-0b8a-494c-9187-b6341be798bc",
   "metadata": {},
   "outputs": [
    {
     "data": {
      "text/plain": [
       "np.float64(56.0)"
      ]
     },
     "execution_count": 306,
     "metadata": {},
     "output_type": "execute_result"
    }
   ],
   "source": [
    "np.percentile(a,50)"
   ]
  },
  {
   "cell_type": "code",
   "execution_count": 307,
   "id": "56ab9748-3402-42cf-b8fc-648578ec07dd",
   "metadata": {},
   "outputs": [
    {
     "data": {
      "text/plain": [
       "np.float64(56.0)"
      ]
     },
     "execution_count": 307,
     "metadata": {},
     "output_type": "execute_result"
    }
   ],
   "source": [
    "np.median(a)"
   ]
  },
  {
   "cell_type": "markdown",
   "id": "2f35079b-e629-4d2d-aa91-9551eb00cdf2",
   "metadata": {},
   "source": [
    "np.histogram\n"
   ]
  },
  {
   "cell_type": "markdown",
   "id": "f3ce17f3-64b4-4531-b76d-7351f414d66a",
   "metadata": {},
   "source": [
    "Numpy has a built-in numpy.histogram() function which represents the frequency of data\n",
    "distribution in the graphical form."
   ]
  },
  {
   "cell_type": "code",
   "execution_count": 308,
   "id": "99dcf6e6-6295-4ba0-9572-503cf23a7129",
   "metadata": {},
   "outputs": [
    {
     "data": {
      "text/plain": [
       "array([13, 92, 91, 13, 40, 33, 77, 94, 93, 43, 40, 56, 76, 63, 16],\n",
       "      dtype=int32)"
      ]
     },
     "execution_count": 308,
     "metadata": {},
     "output_type": "execute_result"
    }
   ],
   "source": [
    "a"
   ]
  },
  {
   "cell_type": "code",
   "execution_count": 309,
   "id": "279018b4-2b30-4574-a6c5-8b704b2d51f6",
   "metadata": {},
   "outputs": [
    {
     "data": {
      "text/plain": [
       "(array([3, 0, 1, 3, 1, 1, 2, 0, 4]),\n",
       " array([ 10,  20,  30,  40,  50,  60,  70,  80,  90, 100]))"
      ]
     },
     "execution_count": 309,
     "metadata": {},
     "output_type": "execute_result"
    }
   ],
   "source": [
    "np.histogram(a , bins= [10,20,30,40,50,60,70,80,90,100])"
   ]
  },
  {
   "cell_type": "code",
   "execution_count": 310,
   "id": "d55f1b8f-0c46-4878-8e3c-00e5df6574ef",
   "metadata": {},
   "outputs": [
    {
     "data": {
      "text/plain": [
       "(array([7, 8]), array([  0,  50, 100]))"
      ]
     },
     "execution_count": 310,
     "metadata": {},
     "output_type": "execute_result"
    }
   ],
   "source": [
    "np.histogram(a , bins= [0,50,100])\n"
   ]
  },
  {
   "cell_type": "markdown",
   "id": "295ad909-ec42-4d2e-a56c-c7a4bd7827ca",
   "metadata": {},
   "source": [
    "np.corrcoef"
   ]
  },
  {
   "cell_type": "markdown",
   "id": "5c1526ed-2e19-4b5b-8d7f-43512834a989",
   "metadata": {},
   "source": [
    "Return Pearson product-moment correlation coefficients.\n"
   ]
  },
  {
   "cell_type": "code",
   "execution_count": 311,
   "id": "79491e65-8cb7-49bb-a3f6-8a71f9fc2ce6",
   "metadata": {},
   "outputs": [],
   "source": [
    "salary = np.array([20000,40000,25000,35000,60000])\n",
    "experience = np.array([1,3,2,4,2])"
   ]
  },
  {
   "cell_type": "code",
   "execution_count": 312,
   "id": "2d5d9b84-7737-499c-800e-1c062f80c595",
   "metadata": {},
   "outputs": [
    {
     "data": {
      "text/plain": [
       "array([20000, 40000, 25000, 35000, 60000])"
      ]
     },
     "execution_count": 312,
     "metadata": {},
     "output_type": "execute_result"
    }
   ],
   "source": [
    "salary"
   ]
  },
  {
   "cell_type": "code",
   "execution_count": 313,
   "id": "4c5214ff-60b9-41a7-a1a3-9d0814a1607d",
   "metadata": {},
   "outputs": [
    {
     "data": {
      "text/plain": [
       "array([1, 3, 2, 4, 2])"
      ]
     },
     "execution_count": 313,
     "metadata": {},
     "output_type": "execute_result"
    }
   ],
   "source": [
    "experience"
   ]
  },
  {
   "cell_type": "code",
   "execution_count": 314,
   "id": "b8aec595-fbe4-4bc7-8ebe-b624d3d90655",
   "metadata": {},
   "outputs": [
    {
     "data": {
      "text/plain": [
       "array([[1.        , 0.25344572],\n",
       "       [0.25344572, 1.        ]])"
      ]
     },
     "execution_count": 314,
     "metadata": {},
     "output_type": "execute_result"
    }
   ],
   "source": [
    "np.corrcoef(salary,experience)"
   ]
  },
  {
   "cell_type": "markdown",
   "id": "775c7024-86f6-47ca-aa0d-4b375ba630e5",
   "metadata": {},
   "source": [
    "Utility functions"
   ]
  },
  {
   "cell_type": "markdown",
   "id": "cc57f6b1-42d5-4c01-80a4-396f5c1b268c",
   "metadata": {},
   "source": [
    "np.isin\n"
   ]
  },
  {
   "cell_type": "markdown",
   "id": "2c15863d-43c5-4a3c-b74e-eab1a441c0c9",
   "metadata": {},
   "source": [
    "With the help of numpy.isin() method, we can see that one array having values are checked in\n",
    "a different numpy array having different elements with different sizes."
   ]
  },
  {
   "cell_type": "code",
   "execution_count": 315,
   "id": "1d37b0c3-3d69-494d-8cfb-bd7c34c8b01d",
   "metadata": {},
   "outputs": [
    {
     "data": {
      "text/plain": [
       "array([13, 92, 91, 13, 40, 33, 77, 94, 93, 43, 40, 56, 76, 63, 16],\n",
       "      dtype=int32)"
      ]
     },
     "execution_count": 315,
     "metadata": {},
     "output_type": "execute_result"
    }
   ],
   "source": [
    "a"
   ]
  },
  {
   "cell_type": "code",
   "execution_count": 316,
   "id": "e5712531-ea79-4a80-9c64-31855373e0c1",
   "metadata": {},
   "outputs": [
    {
     "data": {
      "text/plain": [
       "array([False, False, False, False,  True, False, False, False, False,\n",
       "       False,  True, False, False, False, False])"
      ]
     },
     "execution_count": 316,
     "metadata": {},
     "output_type": "execute_result"
    }
   ],
   "source": [
    "items = [10,20,30,40,50,60,70,80,90,100]\n",
    "np.isin(a,items)\n"
   ]
  },
  {
   "cell_type": "code",
   "execution_count": 317,
   "id": "aaa39557-ee59-4bcc-9981-7c46c19cd162",
   "metadata": {},
   "outputs": [
    {
     "data": {
      "text/plain": [
       "array([40, 40], dtype=int32)"
      ]
     },
     "execution_count": 317,
     "metadata": {},
     "output_type": "execute_result"
    }
   ],
   "source": [
    "a[np.isin(a,items)]\n"
   ]
  },
  {
   "cell_type": "markdown",
   "id": "f7984009-41de-44b8-936f-0e8ca1fefe07",
   "metadata": {},
   "source": [
    "np.flip"
   ]
  },
  {
   "cell_type": "markdown",
   "id": "5a3b816a-f905-4204-8749-594d882b987f",
   "metadata": {},
   "source": [
    "The numpy.flip() function reverses the order of array elements along the specified axis,\n",
    "preserving the shape of the array."
   ]
  },
  {
   "cell_type": "code",
   "execution_count": 318,
   "id": "69e0a4aa-ce0a-41f0-acd4-7a637672cbaa",
   "metadata": {},
   "outputs": [
    {
     "data": {
      "text/plain": [
       "array([13, 92, 91, 13, 40, 33, 77, 94, 93, 43, 40, 56, 76, 63, 16],\n",
       "      dtype=int32)"
      ]
     },
     "execution_count": 318,
     "metadata": {},
     "output_type": "execute_result"
    }
   ],
   "source": [
    "a"
   ]
  },
  {
   "cell_type": "code",
   "execution_count": 319,
   "id": "75a93c81-0e89-4c5b-87ca-93b8d30389c9",
   "metadata": {},
   "outputs": [
    {
     "data": {
      "text/plain": [
       "array([16, 63, 76, 56, 40, 43, 93, 94, 77, 33, 40, 13, 91, 92, 13],\n",
       "      dtype=int32)"
      ]
     },
     "execution_count": 319,
     "metadata": {},
     "output_type": "execute_result"
    }
   ],
   "source": [
    "np.flip(a)"
   ]
  },
  {
   "cell_type": "code",
   "execution_count": 320,
   "id": "2b0477c0-183a-47e1-9b48-19a2d3d8a9ed",
   "metadata": {},
   "outputs": [
    {
     "data": {
      "text/plain": [
       "array([[0, 1],\n",
       "       [2, 3]])"
      ]
     },
     "execution_count": 320,
     "metadata": {},
     "output_type": "execute_result"
    }
   ],
   "source": [
    "b"
   ]
  },
  {
   "cell_type": "code",
   "execution_count": 321,
   "id": "c67d19f0-57c0-4c5b-a91f-dd05311dd0bb",
   "metadata": {},
   "outputs": [
    {
     "data": {
      "text/plain": [
       "array([[3, 2],\n",
       "       [1, 0]])"
      ]
     },
     "execution_count": 321,
     "metadata": {},
     "output_type": "execute_result"
    }
   ],
   "source": [
    "np.flip(b)"
   ]
  },
  {
   "cell_type": "code",
   "execution_count": 322,
   "id": "61e12737-e878-43bb-aca8-f18d51bcd6f8",
   "metadata": {},
   "outputs": [
    {
     "data": {
      "text/plain": [
       "array([[1, 0],\n",
       "       [3, 2]])"
      ]
     },
     "execution_count": 322,
     "metadata": {},
     "output_type": "execute_result"
    }
   ],
   "source": [
    "np.flip(b, axis = 1)"
   ]
  },
  {
   "cell_type": "code",
   "execution_count": 323,
   "id": "b4e7d0bd-b4b1-4841-9c5f-c1dc843edcd2",
   "metadata": {},
   "outputs": [
    {
     "data": {
      "text/plain": [
       "array([[2, 3],\n",
       "       [0, 1]])"
      ]
     },
     "execution_count": 323,
     "metadata": {},
     "output_type": "execute_result"
    }
   ],
   "source": [
    "np.flip(b, axis = 0)"
   ]
  },
  {
   "cell_type": "markdown",
   "id": "ae2e1372-2be1-4222-aedf-1bc07a695338",
   "metadata": {},
   "source": [
    "np.put\n"
   ]
  },
  {
   "cell_type": "markdown",
   "id": "58c6c17f-c335-4de4-8566-68f46e30e031",
   "metadata": {},
   "source": [
    "The numpy.put() function replaces specific elements of an array with given values of p_array.\n",
    "Array indexed works on flattened array."
   ]
  },
  {
   "cell_type": "code",
   "execution_count": 324,
   "id": "eb9df472-c10e-4c92-8e14-2c977e5155cb",
   "metadata": {},
   "outputs": [
    {
     "data": {
      "text/plain": [
       "array([13, 92, 91, 13, 40, 33, 77, 94, 93, 43, 40, 56, 76, 63, 16],\n",
       "      dtype=int32)"
      ]
     },
     "execution_count": 324,
     "metadata": {},
     "output_type": "execute_result"
    }
   ],
   "source": [
    "a"
   ]
  },
  {
   "cell_type": "code",
   "execution_count": 325,
   "id": "c1057e94-61c2-40c3-95d2-ca102844def0",
   "metadata": {},
   "outputs": [],
   "source": [
    "np.put(a,[0,1],[110,530])"
   ]
  },
  {
   "cell_type": "code",
   "execution_count": 326,
   "id": "6fee5bad-2c81-4e83-8b3d-34ac436a4e6a",
   "metadata": {},
   "outputs": [
    {
     "data": {
      "text/plain": [
       "array([110, 530,  91,  13,  40,  33,  77,  94,  93,  43,  40,  56,  76,\n",
       "        63,  16], dtype=int32)"
      ]
     },
     "execution_count": 326,
     "metadata": {},
     "output_type": "execute_result"
    }
   ],
   "source": [
    "a"
   ]
  },
  {
   "cell_type": "markdown",
   "id": "67530e62-594b-4bea-a8f2-e35653246df8",
   "metadata": {},
   "source": [
    "np.delete\n"
   ]
  },
  {
   "cell_type": "markdown",
   "id": "49ea1fa2-aeb6-4c92-be47-ce19d2ba5675",
   "metadata": {},
   "source": [
    "The numpy.delete() function returns a new array with the deletion of sub-arrays along with the\n",
    "mentioned axis.\n"
   ]
  },
  {
   "cell_type": "code",
   "execution_count": 327,
   "id": "dcb3a5be-7ce2-4309-8a0c-53b792937612",
   "metadata": {},
   "outputs": [
    {
     "data": {
      "text/plain": [
       "array([110, 530,  91,  13,  40,  33,  77,  94,  93,  43,  40,  56,  76,\n",
       "        63,  16], dtype=int32)"
      ]
     },
     "execution_count": 327,
     "metadata": {},
     "output_type": "execute_result"
    }
   ],
   "source": [
    "a"
   ]
  },
  {
   "cell_type": "code",
   "execution_count": 328,
   "id": "c3a62e55-ec73-46a5-82c8-0352e0908fb5",
   "metadata": {},
   "outputs": [
    {
     "data": {
      "text/plain": [
       "array([530,  91,  13,  40,  33,  77,  94,  93,  43,  40,  56,  76,  63,\n",
       "        16], dtype=int32)"
      ]
     },
     "execution_count": 328,
     "metadata": {},
     "output_type": "execute_result"
    }
   ],
   "source": [
    "np.delete(a, 0)"
   ]
  },
  {
   "cell_type": "code",
   "execution_count": 330,
   "id": "f489ac2b-357e-4a82-b8a9-00f8ede7392b",
   "metadata": {},
   "outputs": [
    {
     "data": {
      "text/plain": [
       "array([530,  13,  33,  77,  94,  93,  43,  40,  56,  76,  63,  16],\n",
       "      dtype=int32)"
      ]
     },
     "execution_count": 330,
     "metadata": {},
     "output_type": "execute_result"
    }
   ],
   "source": [
    "np.delete(a,[0,2,4]) "
   ]
  },
  {
   "cell_type": "markdown",
   "id": "18804987-972b-4a16-8b39-81c8c927b986",
   "metadata": {},
   "source": [
    "Set functions\n"
   ]
  },
  {
   "cell_type": "markdown",
   "id": "c7c823cb-2999-4ab3-b8bf-c467be27406a",
   "metadata": {},
   "source": [
    "np.union1d "
   ]
  },
  {
   "cell_type": "markdown",
   "id": "3011c8cc-dc7c-46ea-ad76-7cf39653f3d1",
   "metadata": {},
   "source": [
    "np.intersect1d "
   ]
  },
  {
   "cell_type": "markdown",
   "id": "cedd4f67-4975-4ad0-8a25-faf104f48ea1",
   "metadata": {},
   "source": [
    "np.setdiff1d "
   ]
  },
  {
   "cell_type": "markdown",
   "id": "5467720e-4f25-4d2c-95d5-31cce7d157ba",
   "metadata": {},
   "source": [
    "np.setxor1d     "
   ]
  },
  {
   "cell_type": "markdown",
   "id": "c98aa955-83b1-4735-8779-46365d242025",
   "metadata": {},
   "source": [
    "np.in1d\n"
   ]
  },
  {
   "cell_type": "code",
   "execution_count": 331,
   "id": "86662d7a-7fc6-47a0-aee4-dab1c2715456",
   "metadata": {},
   "outputs": [],
   "source": [
    "m = np.array([1,2,3,4,5])\n",
    "n = np.array([3,4,5,6,7])\n"
   ]
  },
  {
   "cell_type": "code",
   "execution_count": 332,
   "id": "b2f8d83e-ed02-4494-becf-84bfc54e1be9",
   "metadata": {},
   "outputs": [
    {
     "data": {
      "text/plain": [
       "array([1, 2, 3, 4, 5, 6, 7])"
      ]
     },
     "execution_count": 332,
     "metadata": {},
     "output_type": "execute_result"
    }
   ],
   "source": [
    "# Union\n",
    "np.union1d(m,n)"
   ]
  },
  {
   "cell_type": "code",
   "execution_count": 333,
   "id": "3cc7adac-8dcb-4d94-b5ec-c5aaf9987fc3",
   "metadata": {},
   "outputs": [
    {
     "data": {
      "text/plain": [
       "array([3, 4, 5])"
      ]
     },
     "execution_count": 333,
     "metadata": {},
     "output_type": "execute_result"
    }
   ],
   "source": [
    "# Intersection\n",
    "np.intersect1d(m,n)\n"
   ]
  },
  {
   "cell_type": "code",
   "execution_count": 334,
   "id": "8d3fb46e-befa-44a3-813e-10f42596bcc1",
   "metadata": {},
   "outputs": [
    {
     "data": {
      "text/plain": [
       "array([1, 2])"
      ]
     },
     "execution_count": 334,
     "metadata": {},
     "output_type": "execute_result"
    }
   ],
   "source": [
    "# Set difference\n",
    "np.setdiff1d(m,n)"
   ]
  },
  {
   "cell_type": "code",
   "execution_count": 335,
   "id": "6a5827f9-02e4-4054-be3a-654a330eac1c",
   "metadata": {},
   "outputs": [
    {
     "data": {
      "text/plain": [
       "array([6, 7])"
      ]
     },
     "execution_count": 335,
     "metadata": {},
     "output_type": "execute_result"
    }
   ],
   "source": [
    "np.setdiff1d(n,m)"
   ]
  },
  {
   "cell_type": "code",
   "execution_count": 336,
   "id": "d257c2ef-57a8-49b7-8f94-33f30d92efc3",
   "metadata": {},
   "outputs": [
    {
     "data": {
      "text/plain": [
       "array([1, 2, 6, 7])"
      ]
     },
     "execution_count": 336,
     "metadata": {},
     "output_type": "execute_result"
    }
   ],
   "source": [
    "# set Xor\n",
    "np.setxor1d(m,n)\n"
   ]
  },
  {
   "cell_type": "code",
   "execution_count": 337,
   "id": "429f73b2-9be3-4932-9ac4-52e98eac3db8",
   "metadata": {},
   "outputs": [
    {
     "name": "stderr",
     "output_type": "stream",
     "text": [
      "C:\\Users\\Tejas\\AppData\\Local\\Temp\\ipykernel_8452\\3636552393.py:2: DeprecationWarning: `in1d` is deprecated. Use `np.isin` instead.\n",
      "  np.in1d(m,1)\n"
     ]
    },
    {
     "data": {
      "text/plain": [
       "array([ True, False, False, False, False])"
      ]
     },
     "execution_count": 337,
     "metadata": {},
     "output_type": "execute_result"
    }
   ],
   "source": [
    "# in 1D ( like membership operator)\n",
    "np.in1d(m,1)"
   ]
  },
  {
   "cell_type": "code",
   "execution_count": 338,
   "id": "e1f69ad0-2c4b-46bc-aa45-eb0000c2956c",
   "metadata": {},
   "outputs": [
    {
     "name": "stderr",
     "output_type": "stream",
     "text": [
      "C:\\Users\\Tejas\\AppData\\Local\\Temp\\ipykernel_8452\\524887286.py:1: DeprecationWarning: `in1d` is deprecated. Use `np.isin` instead.\n",
      "  m[np.in1d(m,1)]\n"
     ]
    },
    {
     "data": {
      "text/plain": [
       "array([1])"
      ]
     },
     "execution_count": 338,
     "metadata": {},
     "output_type": "execute_result"
    }
   ],
   "source": [
    "m[np.in1d(m,1)]"
   ]
  },
  {
   "cell_type": "code",
   "execution_count": 339,
   "id": "4abd42bb-b457-4117-a05c-c0e4cba56172",
   "metadata": {},
   "outputs": [
    {
     "name": "stderr",
     "output_type": "stream",
     "text": [
      "C:\\Users\\Tejas\\AppData\\Local\\Temp\\ipykernel_8452\\2345752101.py:1: DeprecationWarning: `in1d` is deprecated. Use `np.isin` instead.\n",
      "  np.in1d(m,10)\n"
     ]
    },
    {
     "data": {
      "text/plain": [
       "array([False, False, False, False, False])"
      ]
     },
     "execution_count": 339,
     "metadata": {},
     "output_type": "execute_result"
    }
   ],
   "source": [
    "np.in1d(m,10)\n"
   ]
  },
  {
   "cell_type": "markdown",
   "id": "2515a350-d197-4f7e-af8b-e19867ffd24c",
   "metadata": {},
   "source": [
    "np.clip"
   ]
  },
  {
   "cell_type": "markdown",
   "id": "c8fbf8a1-eb1d-40ba-87c4-0dd4f932e848",
   "metadata": {},
   "source": [
    "numpy.clip() function is used to Clip (limit) the values in an array."
   ]
  },
  {
   "cell_type": "code",
   "execution_count": 340,
   "id": "f2be28e1-e647-4321-9e38-3c09a5d2e1a2",
   "metadata": {},
   "outputs": [
    {
     "data": {
      "text/plain": [
       "array([110, 530,  91,  13,  40,  33,  77,  94,  93,  43,  40,  56,  76,\n",
       "        63,  16], dtype=int32)"
      ]
     },
     "execution_count": 340,
     "metadata": {},
     "output_type": "execute_result"
    }
   ],
   "source": [
    "a"
   ]
  },
  {
   "cell_type": "code",
   "execution_count": 341,
   "id": "647f0be3-51df-43e6-94fa-3a9d6863afb2",
   "metadata": {},
   "outputs": [
    {
     "data": {
      "text/plain": [
       "array([50, 50, 50, 15, 40, 33, 50, 50, 50, 43, 40, 50, 50, 50, 16],\n",
       "      dtype=int32)"
      ]
     },
     "execution_count": 341,
     "metadata": {},
     "output_type": "execute_result"
    }
   ],
   "source": [
    "np.clip(a, a_min=15 , a_max =50)"
   ]
  },
  {
   "cell_type": "markdown",
   "id": "7b20f096-b6ac-4e89-97e6-a0c6a8324ace",
   "metadata": {},
   "source": [
    "it clips the minimum data to 15 and replaces everything below data to 15 and maximum\n",
    "to 50\n"
   ]
  },
  {
   "cell_type": "markdown",
   "id": "02d9ce10-8945-4ca3-8686-3abfefe9e17f",
   "metadata": {},
   "source": [
    "np.swapaxes"
   ]
  },
  {
   "cell_type": "markdown",
   "id": "70558340-375e-496d-83d4-5b6ba625a8ea",
   "metadata": {},
   "source": [
    "numpy.swapaxes() function interchange two axes of an array"
   ]
  },
  {
   "cell_type": "code",
   "execution_count": 342,
   "id": "338c21a2-7154-4874-a32a-c5f1214f31c7",
   "metadata": {},
   "outputs": [],
   "source": [
    "arr = np.array([[1, 2, 3], [4, 5, 6]])\n",
    "swapped_arr = np.swapaxes(arr, 0, 1)"
   ]
  },
  {
   "cell_type": "code",
   "execution_count": 343,
   "id": "e923a115-2003-4cab-838c-5f126cd65d8a",
   "metadata": {},
   "outputs": [
    {
     "data": {
      "text/plain": [
       "array([[1, 2, 3],\n",
       "       [4, 5, 6]])"
      ]
     },
     "execution_count": 343,
     "metadata": {},
     "output_type": "execute_result"
    }
   ],
   "source": [
    "arr"
   ]
  },
  {
   "cell_type": "code",
   "execution_count": 344,
   "id": "6db552af-5370-4af7-b3fe-b236b3bc507b",
   "metadata": {},
   "outputs": [
    {
     "data": {
      "text/plain": [
       "array([[1, 4],\n",
       "       [2, 5],\n",
       "       [3, 6]])"
      ]
     },
     "execution_count": 344,
     "metadata": {},
     "output_type": "execute_result"
    }
   ],
   "source": [
    "swapped_arr"
   ]
  },
  {
   "cell_type": "code",
   "execution_count": 345,
   "id": "54a5d0c0-ea58-4b0b-a0c1-8d8e5e660923",
   "metadata": {},
   "outputs": [
    {
     "name": "stdout",
     "output_type": "stream",
     "text": [
      "Original array:\n",
      "[[1 2 3]\n",
      " [4 5 6]]\n"
     ]
    }
   ],
   "source": [
    "print(\"Original array:\")\n",
    "print(arr)\n"
   ]
  },
  {
   "cell_type": "code",
   "execution_count": 346,
   "id": "e191f3e5-5e91-415a-b737-31e97b8a2442",
   "metadata": {},
   "outputs": [
    {
     "name": "stdout",
     "output_type": "stream",
     "text": [
      "Swapped array:\n",
      "[[1 4]\n",
      " [2 5]\n",
      " [3 6]]\n"
     ]
    }
   ],
   "source": [
    "print(\"Swapped array:\")\n",
    "print(swapped_arr)"
   ]
  },
  {
   "cell_type": "code",
   "execution_count": null,
   "id": "1545900d-1e92-497f-adc5-65900217e76b",
   "metadata": {},
   "outputs": [],
   "source": []
  }
 ],
 "metadata": {
  "kernelspec": {
   "display_name": "Python 3 (ipykernel)",
   "language": "python",
   "name": "python3"
  },
  "language_info": {
   "codemirror_mode": {
    "name": "ipython",
    "version": 3
   },
   "file_extension": ".py",
   "mimetype": "text/x-python",
   "name": "python",
   "nbconvert_exporter": "python",
   "pygments_lexer": "ipython3",
   "version": "3.13.0"
  }
 },
 "nbformat": 4,
 "nbformat_minor": 5
}
